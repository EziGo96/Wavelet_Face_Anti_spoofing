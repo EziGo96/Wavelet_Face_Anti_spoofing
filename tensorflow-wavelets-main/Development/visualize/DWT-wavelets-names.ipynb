{
 "cells": [
  {
   "cell_type": "code",
   "execution_count": 1,
   "id": "702756af",
   "metadata": {},
   "outputs": [],
   "source": [
    "import numpy as np\n",
    "import tensorflow as tf\n",
    "from tensorflow import keras\n",
    "from tensorflow.keras import layers\n",
    "from tensorflow.keras.utils import to_categorical\n",
    "import pywt\n",
    "import os\n",
    "import sys  \n",
    "sys.path.insert(0, 'G:\\\\My Drive\\\\Colab Notebooks\\\\MWCNN')\n",
    "import models.DWT2\n",
    "\n",
    "from tensorflow.keras.datasets import mnist\n",
    "from tensorflow.keras.optimizers import Adam, SGD"
   ]
  },
  {
   "cell_type": "code",
   "execution_count": 4,
   "id": "822bf707",
   "metadata": {},
   "outputs": [
    {
     "name": "stdout",
     "output_type": "stream",
     "text": [
      "['bior1.1', 'bior1.3', 'bior1.5', 'bior2.2', 'bior2.4', 'bior2.6', 'bior2.8', 'bior3.1', 'bior3.3', 'bior3.5', 'bior3.7', 'bior3.9', 'bior4.4', 'bior5.5', 'bior6.8', 'coif1', 'coif2', 'coif3', 'coif4', 'coif5', 'coif6', 'coif7', 'coif8', 'coif9', 'coif10', 'coif11', 'coif12', 'coif13', 'coif14', 'coif15', 'coif16', 'coif17', 'db1', 'db2', 'db3', 'db4', 'db5', 'db6', 'db7', 'db8', 'db9', 'db10', 'db11', 'db12', 'db13', 'db14', 'db15', 'db16', 'db17', 'db18', 'db19', 'db20', 'db21', 'db22', 'db23', 'db24', 'db25', 'db26', 'db27', 'db28', 'db29', 'db30', 'db31', 'db32', 'db33', 'db34', 'db35', 'db36', 'db37', 'db38', 'dmey', 'haar', 'rbio1.1', 'rbio1.3', 'rbio1.5', 'rbio2.2', 'rbio2.4', 'rbio2.6', 'rbio2.8', 'rbio3.1', 'rbio3.3', 'rbio3.5', 'rbio3.7', 'rbio3.9', 'rbio4.4', 'rbio5.5', 'rbio6.8', 'sym2', 'sym3', 'sym4', 'sym5', 'sym6', 'sym7', 'sym8', 'sym9', 'sym10', 'sym11', 'sym12', 'sym13', 'sym14', 'sym15', 'sym16', 'sym17', 'sym18', 'sym19', 'sym20']\n"
     ]
    }
   ],
   "source": [
    "# for the DWT layer you can use any of the wavelets listed in here\n",
    "print(pywt.wavelist(kind = 'discrete'))"
   ]
  },
  {
   "cell_type": "code",
   "execution_count": 6,
   "id": "91254cf7",
   "metadata": {},
   "outputs": [],
   "source": [
    "nb_classes = 10\n",
    "batch_size = 32\n",
    "epochs = 30\n",
    "\n",
    "lr = 1e-4  # learning rate\n",
    "beta_1 = 0.9         # beta 1 - for adam optimizer\n",
    "beta_2 = 0.96        # beta 2 - for adam optimizer\n",
    "epsilon = 1e-7        # epsilon - for adam optimizer\n",
    "\n",
    "trainFactor = 0.8\n",
    "input_shape = (28, 28, 1)  # CIFAR-10 60,000 32X32 color\n",
    "\n",
    "# optimizer = Adam(learning_rate=lr, beta_1=beta_1, beta_2=beta_2, epsilon=epsilon)\n",
    "optimizer = SGD(lr=lr, momentum=beta_1)\n",
    "\n",
    "(x_train, y_train), (x_test, y_test) = mnist.load_data()\n",
    "\n",
    "# # Remove images to get smaller dataset\n",
    "# x_train = x_train[:1000, :, :]\n",
    "# y_train = y_train[:1000]\n",
    "# x_test = x_test[:500, :, :]\n",
    "# y_test = y_test[:500]\n",
    "\n",
    "\n",
    "y_train = to_categorical(y_train)\n",
    "y_test = to_categorical(y_test)\n",
    "x_train = x_train.astype('float32') / 255.0\n",
    "x_train = np.expand_dims(x_train, axis=-1)\n",
    "\n",
    "x_test = x_test.astype('float32') / 255.0\n",
    "x_test = np.expand_dims(x_test, axis=-1)\n"
   ]
  },
  {
   "cell_type": "code",
   "execution_count": 7,
   "id": "59f14f83",
   "metadata": {},
   "outputs": [
    {
     "name": "stdout",
     "output_type": "stream",
     "text": [
      "WARNING:tensorflow:From C:\\Users\\Olya\\Anaconda3\\envs\\dwtcnn\\lib\\site-packages\\tensorflow_core\\python\\ops\\resource_variable_ops.py:1630: calling BaseResourceVariable.__init__ (from tensorflow.python.ops.resource_variable_ops) with constraint is deprecated and will be removed in a future version.\n",
      "Instructions for updating:\n",
      "If using Keras pass *_constraint arguments to layers.\n",
      "Model: \"sequential_1\"\n",
      "_________________________________________________________________\n",
      "Layer (type)                 Output Shape              Param #   \n",
      "=================================================================\n",
      "conv2d (Conv2D)              (None, 26, 26, 32)        320       \n",
      "_________________________________________________________________\n",
      "dwt_sym13 (DWT)              (None, 25, 25, 128)       0         \n",
      "_________________________________________________________________\n",
      "conv2d_1 (Conv2D)            (None, 23, 23, 64)        73792     \n",
      "_________________________________________________________________\n",
      "dwt_1_bior3.5 (DWT)          (None, 17, 17, 256)       0         \n",
      "_________________________________________________________________\n",
      "conv2d_2 (Conv2D)            (None, 15, 15, 128)       295040    \n",
      "_________________________________________________________________\n",
      "dropout (Dropout)            (None, 15, 15, 128)       0         \n",
      "_________________________________________________________________\n",
      "flatten (Flatten)            (None, 28800)             0         \n",
      "_________________________________________________________________\n",
      "dense (Dense)                (None, 10)                288010    \n",
      "=================================================================\n",
      "Total params: 657,162\n",
      "Trainable params: 657,162\n",
      "Non-trainable params: 0\n",
      "_________________________________________________________________\n"
     ]
    }
   ],
   "source": [
    "# load DWT db2 model\n",
    "model = keras.Sequential()\n",
    "model.add(keras.Input(shape=input_shape))\n",
    "model.add(keras.layers.Conv2D(32, (3, 3), activation=\"relu\"))\n",
    "model.add(models.DWT2.DWT(name=\"sym13\"))\n",
    "model.add(keras.layers.Conv2D(64, (3, 3), activation=\"relu\"))\n",
    "model.add(models.DWT2.DWT(name=\"bior3.5\"))\n",
    "model.add(keras.layers.Conv2D(128, (3, 3), activation=\"relu\"))\n",
    "model.add(keras.layers.Dropout(0.5))\n",
    "model.add(keras.layers.Flatten())\n",
    "model.add(keras.layers.Dense(nb_classes, activation=\"softmax\"))\n",
    "model.summary()\n"
   ]
  },
  {
   "cell_type": "code",
   "execution_count": 5,
   "id": "d30a39ec",
   "metadata": {},
   "outputs": [],
   "source": [
    "model.compile(loss=\"categorical_crossentropy\",\n",
    "              optimizer=optimizer, metrics=[\"accuracy\"])"
   ]
  },
  {
   "cell_type": "code",
   "execution_count": 6,
   "id": "d5a936c3",
   "metadata": {},
   "outputs": [
    {
     "name": "stdout",
     "output_type": "stream",
     "text": [
      "Train on 48000 samples, validate on 12000 samples\n",
      "Epoch 1/30\n",
      "48000/48000 - 22s - loss: 1.6531 - acc: 0.4958 - val_loss: 0.5718 - val_acc: 0.8584\n",
      "Epoch 2/30\n",
      "48000/48000 - 21s - loss: 0.5844 - acc: 0.8183 - val_loss: 0.3551 - val_acc: 0.8986\n",
      "Epoch 3/30\n",
      "48000/48000 - 21s - loss: 0.4293 - acc: 0.8707 - val_loss: 0.2870 - val_acc: 0.9182\n",
      "Epoch 4/30\n",
      "48000/48000 - 21s - loss: 0.3572 - acc: 0.8929 - val_loss: 0.2469 - val_acc: 0.9283\n",
      "Epoch 5/30\n",
      "48000/48000 - 21s - loss: 0.3104 - acc: 0.9080 - val_loss: 0.2151 - val_acc: 0.9384\n",
      "Epoch 6/30\n",
      "48000/48000 - 21s - loss: 0.2780 - acc: 0.9179 - val_loss: 0.1908 - val_acc: 0.9464\n",
      "Epoch 7/30\n",
      "48000/48000 - 21s - loss: 0.2486 - acc: 0.9266 - val_loss: 0.1732 - val_acc: 0.9512\n",
      "Epoch 8/30\n",
      "48000/48000 - 20s - loss: 0.2289 - acc: 0.9329 - val_loss: 0.1595 - val_acc: 0.9553\n",
      "Epoch 9/30\n",
      "48000/48000 - 21s - loss: 0.2115 - acc: 0.9376 - val_loss: 0.1487 - val_acc: 0.9588\n",
      "Epoch 10/30\n",
      "48000/48000 - 20s - loss: 0.1962 - acc: 0.9410 - val_loss: 0.1378 - val_acc: 0.9610\n",
      "Epoch 11/30\n",
      "48000/48000 - 20s - loss: 0.1867 - acc: 0.9441 - val_loss: 0.1310 - val_acc: 0.9629\n",
      "Epoch 12/30\n",
      "48000/48000 - 20s - loss: 0.1748 - acc: 0.9491 - val_loss: 0.1245 - val_acc: 0.9656\n",
      "Epoch 13/30\n",
      "48000/48000 - 20s - loss: 0.1674 - acc: 0.9502 - val_loss: 0.1190 - val_acc: 0.9667\n",
      "Epoch 14/30\n",
      "48000/48000 - 21s - loss: 0.1584 - acc: 0.9519 - val_loss: 0.1148 - val_acc: 0.9672\n",
      "Epoch 15/30\n",
      "48000/48000 - 21s - loss: 0.1508 - acc: 0.9557 - val_loss: 0.1100 - val_acc: 0.9693\n",
      "Epoch 16/30\n",
      "48000/48000 - 21s - loss: 0.1466 - acc: 0.9560 - val_loss: 0.1052 - val_acc: 0.9703\n",
      "Epoch 17/30\n",
      "48000/48000 - 21s - loss: 0.1426 - acc: 0.9575 - val_loss: 0.1022 - val_acc: 0.9710\n",
      "Epoch 18/30\n",
      "48000/48000 - 20s - loss: 0.1372 - acc: 0.9584 - val_loss: 0.0990 - val_acc: 0.9722\n",
      "Epoch 19/30\n",
      "48000/48000 - 21s - loss: 0.1314 - acc: 0.9612 - val_loss: 0.0953 - val_acc: 0.9727\n",
      "Epoch 20/30\n",
      "48000/48000 - 21s - loss: 0.1288 - acc: 0.9618 - val_loss: 0.0937 - val_acc: 0.9732\n",
      "Epoch 21/30\n",
      "48000/48000 - 20s - loss: 0.1232 - acc: 0.9631 - val_loss: 0.0910 - val_acc: 0.9733\n",
      "Epoch 22/30\n",
      "48000/48000 - 20s - loss: 0.1208 - acc: 0.9625 - val_loss: 0.0899 - val_acc: 0.9741\n",
      "Epoch 23/30\n",
      "48000/48000 - 20s - loss: 0.1176 - acc: 0.9639 - val_loss: 0.0867 - val_acc: 0.9755\n",
      "Epoch 24/30\n",
      "48000/48000 - 21s - loss: 0.1148 - acc: 0.9655 - val_loss: 0.0860 - val_acc: 0.9750\n",
      "Epoch 25/30\n",
      "48000/48000 - 21s - loss: 0.1110 - acc: 0.9661 - val_loss: 0.0841 - val_acc: 0.9762\n",
      "Epoch 26/30\n",
      "48000/48000 - 21s - loss: 0.1109 - acc: 0.9660 - val_loss: 0.0819 - val_acc: 0.9762\n",
      "Epoch 27/30\n",
      "48000/48000 - 20s - loss: 0.1058 - acc: 0.9691 - val_loss: 0.0815 - val_acc: 0.9768\n",
      "Epoch 28/30\n",
      "48000/48000 - 21s - loss: 0.1045 - acc: 0.9680 - val_loss: 0.0788 - val_acc: 0.9770\n",
      "Epoch 29/30\n",
      "48000/48000 - 20s - loss: 0.1025 - acc: 0.9693 - val_loss: 0.0788 - val_acc: 0.9764\n",
      "Epoch 30/30\n",
      "48000/48000 - 20s - loss: 0.1001 - acc: 0.9701 - val_loss: 0.0770 - val_acc: 0.9769\n"
     ]
    }
   ],
   "source": [
    "history = model.fit(x_train, y_train,\n",
    "                    validation_split=1 - trainFactor,\n",
    "                    epochs=epochs,\n",
    "                    batch_size=batch_size,\n",
    "                    verbose=2,\n",
    "                    )"
   ]
  },
  {
   "cell_type": "code",
   "execution_count": 7,
   "id": "4564fcb4",
   "metadata": {},
   "outputs": [
    {
     "data": {
      "image/png": "[encoded data removed]",
      "text/plain": [
       "<Figure size 432x288 with 1 Axes>"
      ]
     },
     "metadata": {
      "needs_background": "light"
     },
     "output_type": "display_data"
    }
   ],
   "source": [
    "import matplotlib.pyplot as plt\n",
    "plt.plot(history.history['loss'])\n",
    "plt.plot(history.history['val_loss'])\n",
    "plt.title('model loss')\n",
    "plt.ylabel('loss')\n",
    "plt.xlabel('epoch')\n",
    "plt.legend(['train', 'validation'], loc='upper left')\n",
    "\n",
    "plt.show()"
   ]
  },
  {
   "cell_type": "code",
   "execution_count": null,
   "id": "4454b038",
   "metadata": {},
   "outputs": [],
   "source": []
  }
 ],
 "metadata": {
  "kernelspec": {
   "display_name": "Python 3",
   "language": "python",
   "name": "python3"
  },
  "language_info": {
   "codemirror_mode": {
    "name": "ipython",
    "version": 3
   },
   "file_extension": ".py",
   "mimetype": "text/x-python",
   "name": "python",
   "nbconvert_exporter": "python",
   "pygments_lexer": "ipython3",
   "version": "3.6.13"
  }
 },
 "nbformat": 4,
 "nbformat_minor": 5
}
