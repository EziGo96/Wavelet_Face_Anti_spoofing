{
 "cells": [
  {
   "cell_type": "code",
   "execution_count": 1,
   "id": "c1796908",
   "metadata": {},
   "outputs": [],
   "source": [
    "import numpy as np\n",
    "import tensorflow as tf\n",
    "from tensorflow import keras\n",
    "from tensorflow.keras import layers\n",
    "from tensorflow.keras.utils import to_categorical\n",
    "\n",
    "import os\n",
    "import sys  \n",
    "sys.path.insert(0, 'G:\\\\My Drive\\\\Colab Notebooks\\\\MWCNN')\n",
    "import models.DWT2\n",
    "\n",
    "from tensorflow.keras.datasets import mnist\n",
    "from tensorflow.keras.optimizers import Adam, SGD"
   ]
  },
  {
   "cell_type": "code",
   "execution_count": 2,
   "id": "52deb8c9",
   "metadata": {},
   "outputs": [],
   "source": [
    "nb_classes = 10\n",
    "batch_size = 32\n",
    "epochs = 30\n",
    "\n",
    "lr = 1e-4  # learning rate\n",
    "beta_1 = 0.9         # beta 1 - for adam optimizer\n",
    "beta_2 = 0.96        # beta 2 - for adam optimizer\n",
    "epsilon = 1e-7        # epsilon - for adam optimizer\n",
    "\n",
    "trainFactor = 0.8\n",
    "input_shape = (28, 28, 1)  \n",
    "\n",
    "# optimizer = Adam(learning_rate=lr, beta_1=beta_1, beta_2=beta_2, epsilon=epsilon)\n",
    "optimizer = SGD(lr=lr, momentum=beta_1)\n",
    "\n",
    "(x_train, y_train), (x_test, y_test) = mnist.load_data()\n",
    "\n",
    "# # Remove images to get smaller dataset\n",
    "# x_train = x_train[:1000, :, :]\n",
    "# y_train = y_train[:1000]\n",
    "# x_test = x_test[:500, :, :]\n",
    "# y_test = y_test[:500]\n",
    "\n",
    "\n",
    "y_train = to_categorical(y_train)\n",
    "y_test = to_categorical(y_test)\n",
    "x_train = x_train.astype('float32') / 255.0\n",
    "x_train = np.expand_dims(x_train, axis=-1)\n",
    "\n",
    "x_test = x_test.astype('float32') / 255.0\n",
    "x_test = np.expand_dims(x_test, axis=-1)\n"
   ]
  },
  {
   "cell_type": "code",
   "execution_count": 3,
   "id": "68b1007b",
   "metadata": {},
   "outputs": [
    {
     "name": "stdout",
     "output_type": "stream",
     "text": [
      "WARNING:tensorflow:From C:\\Users\\Olya\\Anaconda3\\envs\\dwtcnn\\lib\\site-packages\\tensorflow_core\\python\\ops\\resource_variable_ops.py:1630: calling BaseResourceVariable.__init__ (from tensorflow.python.ops.resource_variable_ops) with constraint is deprecated and will be removed in a future version.\n",
      "Instructions for updating:\n",
      "If using Keras pass *_constraint arguments to layers.\n",
      "Model: \"sequential\"\n",
      "_________________________________________________________________\n",
      "Layer (type)                 Output Shape              Param #   \n",
      "=================================================================\n",
      "conv2d (Conv2D)              (None, 26, 26, 32)        320       \n",
      "_________________________________________________________________\n",
      "dwt_db2 (DWT)                (None, 14, 14, 128)       0         \n",
      "_________________________________________________________________\n",
      "conv2d_1 (Conv2D)            (None, 12, 12, 64)        73792     \n",
      "_________________________________________________________________\n",
      "dwt_1_haar (DWT)             (None, 6, 6, 256)         0         \n",
      "_________________________________________________________________\n",
      "conv2d_2 (Conv2D)            (None, 4, 4, 128)         295040    \n",
      "_________________________________________________________________\n",
      "dropout (Dropout)            (None, 4, 4, 128)         0         \n",
      "_________________________________________________________________\n",
      "flatten (Flatten)            (None, 2048)              0         \n",
      "_________________________________________________________________\n",
      "dense (Dense)                (None, 10)                20490     \n",
      "=================================================================\n",
      "Total params: 389,642\n",
      "Trainable params: 389,642\n",
      "Non-trainable params: 0\n",
      "_________________________________________________________________\n"
     ]
    }
   ],
   "source": [
    "# load DWT db2 model\n",
    "model = keras.Sequential()\n",
    "model.add(keras.Input(shape=input_shape))\n",
    "model.add(keras.layers.Conv2D(32, (3, 3), activation=\"relu\"))\n",
    "model.add(models.DWT2.DWT(name=\"db2\"))\n",
    "model.add(keras.layers.Conv2D(64, (3, 3), activation=\"relu\"))\n",
    "model.add(models.DWT2.DWT(name=\"haar\"))\n",
    "model.add(keras.layers.Conv2D(128, (3, 3), activation=\"relu\"))\n",
    "model.add(keras.layers.Dropout(0.5))\n",
    "model.add(keras.layers.Flatten())\n",
    "model.add(keras.layers.Dense(nb_classes, activation=\"softmax\"))\n",
    "model.summary()\n"
   ]
  },
  {
   "cell_type": "code",
   "execution_count": 4,
   "id": "902e81bf",
   "metadata": {},
   "outputs": [],
   "source": [
    "model.compile(loss=\"categorical_crossentropy\",\n",
    "              optimizer=optimizer, metrics=[\"accuracy\"])"
   ]
  },
  {
   "cell_type": "code",
   "execution_count": 5,
   "id": "b7b43411",
   "metadata": {},
   "outputs": [
    {
     "name": "stdout",
     "output_type": "stream",
     "text": [
      "Train on 48000 samples, validate on 12000 samples\n",
      "Epoch 1/30\n",
      "48000/48000 - 21s - loss: 2.1131 - acc: 0.3377 - val_loss: 1.2470 - val_acc: 0.7941\n",
      "Epoch 2/30\n",
      "48000/48000 - 20s - loss: 0.7407 - acc: 0.7760 - val_loss: 0.3848 - val_acc: 0.8942\n",
      "Epoch 3/30\n",
      "48000/48000 - 20s - loss: 0.4546 - acc: 0.8636 - val_loss: 0.2994 - val_acc: 0.9149\n",
      "Epoch 4/30\n",
      "48000/48000 - 20s - loss: 0.3659 - acc: 0.8898 - val_loss: 0.2491 - val_acc: 0.9288\n",
      "Epoch 5/30\n",
      "48000/48000 - 20s - loss: 0.3175 - acc: 0.9063 - val_loss: 0.2181 - val_acc: 0.9382\n",
      "Epoch 6/30\n",
      "48000/48000 - 20s - loss: 0.2775 - acc: 0.9175 - val_loss: 0.1956 - val_acc: 0.9457\n",
      "Epoch 7/30\n",
      "48000/48000 - 20s - loss: 0.2522 - acc: 0.9238 - val_loss: 0.1781 - val_acc: 0.9512\n",
      "Epoch 8/30\n",
      "48000/48000 - 20s - loss: 0.2324 - acc: 0.9319 - val_loss: 0.1651 - val_acc: 0.9541\n",
      "Epoch 9/30\n",
      "48000/48000 - 20s - loss: 0.2161 - acc: 0.9360 - val_loss: 0.1537 - val_acc: 0.9570\n",
      "Epoch 10/30\n",
      "48000/48000 - 20s - loss: 0.2037 - acc: 0.9394 - val_loss: 0.1442 - val_acc: 0.9592\n",
      "Epoch 11/30\n",
      "48000/48000 - 20s - loss: 0.1903 - acc: 0.9440 - val_loss: 0.1362 - val_acc: 0.9626\n",
      "Epoch 12/30\n",
      "48000/48000 - 20s - loss: 0.1796 - acc: 0.9470 - val_loss: 0.1296 - val_acc: 0.9647\n",
      "Epoch 13/30\n",
      "48000/48000 - 20s - loss: 0.1693 - acc: 0.9481 - val_loss: 0.1257 - val_acc: 0.9653\n",
      "Epoch 14/30\n",
      "48000/48000 - 20s - loss: 0.1623 - acc: 0.9512 - val_loss: 0.1187 - val_acc: 0.9671\n",
      "Epoch 15/30\n",
      "48000/48000 - 20s - loss: 0.1538 - acc: 0.9531 - val_loss: 0.1139 - val_acc: 0.9678\n",
      "Epoch 16/30\n",
      "48000/48000 - 20s - loss: 0.1491 - acc: 0.9550 - val_loss: 0.1097 - val_acc: 0.9703\n",
      "Epoch 17/30\n",
      "48000/48000 - 20s - loss: 0.1426 - acc: 0.9568 - val_loss: 0.1081 - val_acc: 0.9697\n",
      "Epoch 18/30\n",
      "48000/48000 - 20s - loss: 0.1392 - acc: 0.9588 - val_loss: 0.1048 - val_acc: 0.9703\n",
      "Epoch 19/30\n",
      "48000/48000 - 20s - loss: 0.1331 - acc: 0.9602 - val_loss: 0.1007 - val_acc: 0.9709\n",
      "Epoch 20/30\n",
      "48000/48000 - 20s - loss: 0.1302 - acc: 0.9613 - val_loss: 0.0986 - val_acc: 0.9721\n",
      "Epoch 21/30\n",
      "48000/48000 - 20s - loss: 0.1282 - acc: 0.9603 - val_loss: 0.0960 - val_acc: 0.9723\n",
      "Epoch 22/30\n",
      "48000/48000 - 20s - loss: 0.1202 - acc: 0.9640 - val_loss: 0.0937 - val_acc: 0.9728\n",
      "Epoch 23/30\n",
      "48000/48000 - 20s - loss: 0.1174 - acc: 0.9648 - val_loss: 0.0909 - val_acc: 0.9740\n",
      "Epoch 24/30\n",
      "48000/48000 - 20s - loss: 0.1153 - acc: 0.9656 - val_loss: 0.0887 - val_acc: 0.9751\n",
      "Epoch 25/30\n",
      "48000/48000 - 20s - loss: 0.1118 - acc: 0.9667 - val_loss: 0.0877 - val_acc: 0.9749\n",
      "Epoch 26/30\n",
      "48000/48000 - 20s - loss: 0.1112 - acc: 0.9668 - val_loss: 0.0855 - val_acc: 0.9757\n",
      "Epoch 27/30\n",
      "48000/48000 - 20s - loss: 0.1069 - acc: 0.9680 - val_loss: 0.0840 - val_acc: 0.9760\n",
      "Epoch 28/30\n",
      "48000/48000 - 20s - loss: 0.1048 - acc: 0.9685 - val_loss: 0.0829 - val_acc: 0.9758\n",
      "Epoch 29/30\n",
      "48000/48000 - 20s - loss: 0.1023 - acc: 0.9691 - val_loss: 0.0808 - val_acc: 0.9765\n",
      "Epoch 30/30\n",
      "48000/48000 - 20s - loss: 0.1014 - acc: 0.9697 - val_loss: 0.0808 - val_acc: 0.9766\n"
     ]
    }
   ],
   "source": [
    "history = model.fit(x_train, y_train,\n",
    "                    validation_split=1 - trainFactor,\n",
    "                    epochs=epochs,\n",
    "                    batch_size=batch_size,\n",
    "                    verbose=2,\n",
    "                    )"
   ]
  },
  {
   "cell_type": "code",
   "execution_count": 6,
   "id": "bda1b262",
   "metadata": {},
   "outputs": [
    {
     "data": {
      "image/png": "[encoded data removed]",
      "text/plain": [
       "<Figure size 432x288 with 1 Axes>"
      ]
     },
     "metadata": {
      "needs_background": "light"
     },
     "output_type": "display_data"
    }
   ],
   "source": [
    "import matplotlib.pyplot as plt\n",
    "plt.plot(history.history['loss'])\n",
    "plt.plot(history.history['val_loss'])\n",
    "plt.title('model loss')\n",
    "plt.ylabel('loss')\n",
    "plt.xlabel('epoch')\n",
    "plt.legend(['train', 'validation'], loc='upper left')\n",
    "\n",
    "plt.show()"
   ]
  },
  {
   "cell_type": "code",
   "execution_count": null,
   "id": "1dc405bb",
   "metadata": {},
   "outputs": [],
   "source": []
  }
 ],
 "metadata": {
  "kernelspec": {
   "display_name": "Python 3",
   "language": "python",
   "name": "python3"
  },
  "language_info": {
   "codemirror_mode": {
    "name": "ipython",
    "version": 3
   },
   "file_extension": ".py",
   "mimetype": "text/x-python",
   "name": "python",
   "nbconvert_exporter": "python",
   "pygments_lexer": "ipython3",
   "version": "3.6.13"
  }
 },
 "nbformat": 4,
 "nbformat_minor": 5
}
