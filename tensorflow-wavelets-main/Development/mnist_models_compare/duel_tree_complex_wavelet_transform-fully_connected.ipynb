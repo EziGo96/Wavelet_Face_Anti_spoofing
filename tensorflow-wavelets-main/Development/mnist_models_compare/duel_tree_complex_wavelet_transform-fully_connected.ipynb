{
 "cells": [
  {
   "cell_type": "code",
   "execution_count": 1,
   "id": "a177ec7d",
   "metadata": {},
   "outputs": [],
   "source": [
    "import numpy as np\n",
    "import tensorflow as tf\n",
    "from tensorflow import keras\n",
    "from tensorflow.keras import layers, Model\n",
    "from tensorflow.keras.utils import to_categorical\n",
    "\n",
    "import os\n",
    "import sys  \n",
    "sys.path.insert(0, 'G:\\\\My Drive\\\\Colab Notebooks\\\\MWCNN')\n",
    "\n",
    "from Layers.DTCWT import *\n",
    "from tensorflow.keras.datasets import mnist\n",
    "from tensorflow.keras.optimizers import Adam, SGD"
   ]
  },
  {
   "cell_type": "code",
   "execution_count": 2,
   "id": "ba52173b",
   "metadata": {},
   "outputs": [],
   "source": [
    "nb_classes = 10\n",
    "batch_size = 32\n",
    "epochs = 30\n",
    "\n",
    "lr = 1e-4  # learning rate\n",
    "beta_1 = 0.9         # beta 1 - for adam optimizer\n",
    "beta_2 = 0.96        # beta 2 - for adam optimizer\n",
    "epsilon = 1e-7        # epsilon - for adam optimizer\n",
    "\n",
    "trainFactor = 0.8\n",
    "input_shape = (28, 28, 1)  # CIFAR-10 60,000 32X32 color\n",
    "\n",
    "# optimizer = Adam(learning_rate=lr, beta_1=beta_1, beta_2=beta_2, epsilon=epsilon)\n",
    "optimizer = SGD(lr=lr, momentum=beta_1)\n",
    "\n",
    "(x_train, y_train), (x_test, y_test) = mnist.load_data()\n",
    "\n",
    "y_train = to_categorical(y_train)\n",
    "y_test = to_categorical(y_test)\n",
    "x_train = x_train.astype('float32') / 255.0\n",
    "x_train = np.expand_dims(x_train, axis=-1)\n",
    "\n",
    "x_test = x_test.astype('float32') / 255.0\n",
    "x_test = np.expand_dims(x_test, axis=-1)\n"
   ]
  },
  {
   "cell_type": "code",
   "execution_count": 3,
   "id": "33273bbf",
   "metadata": {},
   "outputs": [
    {
     "name": "stdout",
     "output_type": "stream",
     "text": [
      "WARNING:tensorflow:From C:\\Users\\Olya\\Anaconda3\\envs\\dwtcnn\\lib\\site-packages\\tensorflow_core\\python\\ops\\resource_variable_ops.py:1630: calling BaseResourceVariable.__init__ (from tensorflow.python.ops.resource_variable_ops) with constraint is deprecated and will be removed in a future version.\n",
      "Instructions for updating:\n",
      "If using Keras pass *_constraint arguments to layers.\n",
      "Model: \"mymodel\"\n",
      "_________________________________________________________________\n",
      "Layer (type)                 Output Shape              Param #   \n",
      "=================================================================\n",
      "input_1 (InputLayer)         [(None, 28, 28, 1)]       0         \n",
      "_________________________________________________________________\n",
      "dtcwt (DTCWT)                (None, 56, 56, 1)         0         \n",
      "_________________________________________________________________\n",
      "flatten (Flatten)            (None, 3136)              0         \n",
      "_________________________________________________________________\n",
      "dense (Dense)                (None, 10)                31370     \n",
      "=================================================================\n",
      "Total params: 31,370\n",
      "Trainable params: 31,370\n",
      "Non-trainable params: 0\n",
      "_________________________________________________________________\n"
     ]
    }
   ],
   "source": [
    "# load DWT db2 model\n",
    "input_shape = (28, 28, 1)\n",
    "\n",
    "cplx_input = layers.Input(shape=input_shape)\n",
    "x = DTCWT(2)(cplx_input)\n",
    "x = layers.Flatten()(x)\n",
    "x = layers.Dense(nb_classes, activation=\"softmax\")(x)\n",
    "model = Model(cplx_input, x, name=\"mymodel\")\n",
    "model.summary()\n",
    "\n"
   ]
  },
  {
   "cell_type": "code",
   "execution_count": 4,
   "id": "30715c34",
   "metadata": {},
   "outputs": [],
   "source": [
    "model.compile(loss=\"categorical_crossentropy\",\n",
    "              optimizer=optimizer, metrics=[\"accuracy\"])"
   ]
  },
  {
   "cell_type": "code",
   "execution_count": 5,
   "id": "178e4e7d",
   "metadata": {},
   "outputs": [
    {
     "name": "stdout",
     "output_type": "stream",
     "text": [
      "Train on 48000 samples, validate on 12000 samples\n",
      "Epoch 1/30\n",
      "48000/48000 - 14s - loss: 1.7674 - acc: 0.6158 - val_loss: 1.3439 - val_acc: 0.7867\n",
      "Epoch 2/30\n",
      "48000/48000 - 12s - loss: 1.1658 - acc: 0.7925 - val_loss: 0.9823 - val_acc: 0.8304\n",
      "Epoch 3/30\n",
      "48000/48000 - 12s - loss: 0.9233 - acc: 0.8230 - val_loss: 0.8119 - val_acc: 0.8475\n",
      "Epoch 4/30\n",
      "48000/48000 - 12s - loss: 0.7962 - acc: 0.8375 - val_loss: 0.7135 - val_acc: 0.8592\n",
      "Epoch 5/30\n",
      "48000/48000 - 12s - loss: 0.7175 - acc: 0.8472 - val_loss: 0.6491 - val_acc: 0.8649\n",
      "Epoch 6/30\n",
      "48000/48000 - 12s - loss: 0.6633 - acc: 0.8541 - val_loss: 0.6037 - val_acc: 0.8679\n",
      "Epoch 7/30\n",
      "48000/48000 - 12s - loss: 0.6235 - acc: 0.8586 - val_loss: 0.5693 - val_acc: 0.8721\n",
      "Epoch 8/30\n",
      "48000/48000 - 12s - loss: 0.5929 - acc: 0.8623 - val_loss: 0.5426 - val_acc: 0.8759\n",
      "Epoch 9/30\n",
      "48000/48000 - 12s - loss: 0.5683 - acc: 0.8654 - val_loss: 0.5211 - val_acc: 0.8792\n",
      "Epoch 10/30\n",
      "48000/48000 - 12s - loss: 0.5482 - acc: 0.8686 - val_loss: 0.5036 - val_acc: 0.8801\n",
      "Epoch 11/30\n",
      "48000/48000 - 12s - loss: 0.5313 - acc: 0.8707 - val_loss: 0.4886 - val_acc: 0.8822\n",
      "Epoch 12/30\n",
      "48000/48000 - 12s - loss: 0.5169 - acc: 0.8728 - val_loss: 0.4758 - val_acc: 0.8839\n",
      "Epoch 13/30\n",
      "48000/48000 - 12s - loss: 0.5044 - acc: 0.8745 - val_loss: 0.4647 - val_acc: 0.8859\n",
      "Epoch 14/30\n",
      "48000/48000 - 12s - loss: 0.4934 - acc: 0.8763 - val_loss: 0.4550 - val_acc: 0.8878\n",
      "Epoch 15/30\n",
      "48000/48000 - 12s - loss: 0.4837 - acc: 0.8777 - val_loss: 0.4463 - val_acc: 0.8888\n",
      "Epoch 16/30\n",
      "48000/48000 - 12s - loss: 0.4751 - acc: 0.8795 - val_loss: 0.4387 - val_acc: 0.8891\n",
      "Epoch 17/30\n",
      "48000/48000 - 12s - loss: 0.4673 - acc: 0.8803 - val_loss: 0.4318 - val_acc: 0.8909\n",
      "Epoch 18/30\n",
      "48000/48000 - 12s - loss: 0.4602 - acc: 0.8818 - val_loss: 0.4256 - val_acc: 0.8916\n",
      "Epoch 19/30\n",
      "48000/48000 - 12s - loss: 0.4538 - acc: 0.8827 - val_loss: 0.4200 - val_acc: 0.8931\n",
      "Epoch 20/30\n",
      "48000/48000 - 12s - loss: 0.4479 - acc: 0.8836 - val_loss: 0.4147 - val_acc: 0.8944\n",
      "Epoch 21/30\n",
      "48000/48000 - 12s - loss: 0.4425 - acc: 0.8847 - val_loss: 0.4100 - val_acc: 0.8946\n",
      "Epoch 22/30\n",
      "48000/48000 - 12s - loss: 0.4374 - acc: 0.8854 - val_loss: 0.4055 - val_acc: 0.8963\n",
      "Epoch 23/30\n",
      "48000/48000 - 12s - loss: 0.4328 - acc: 0.8865 - val_loss: 0.4015 - val_acc: 0.8965\n",
      "Epoch 24/30\n",
      "48000/48000 - 12s - loss: 0.4284 - acc: 0.8870 - val_loss: 0.3977 - val_acc: 0.8974\n",
      "Epoch 25/30\n",
      "48000/48000 - 12s - loss: 0.4244 - acc: 0.8878 - val_loss: 0.3942 - val_acc: 0.8978\n",
      "Epoch 26/30\n",
      "48000/48000 - 12s - loss: 0.4206 - acc: 0.8884 - val_loss: 0.3908 - val_acc: 0.8986\n",
      "Epoch 27/30\n",
      "48000/48000 - 12s - loss: 0.4170 - acc: 0.8890 - val_loss: 0.3877 - val_acc: 0.8994\n",
      "Epoch 28/30\n",
      "48000/48000 - 12s - loss: 0.4136 - acc: 0.8897 - val_loss: 0.3848 - val_acc: 0.9002\n",
      "Epoch 29/30\n",
      "48000/48000 - 12s - loss: 0.4104 - acc: 0.8904 - val_loss: 0.3820 - val_acc: 0.9007\n",
      "Epoch 30/30\n",
      "48000/48000 - 12s - loss: 0.4074 - acc: 0.8910 - val_loss: 0.3795 - val_acc: 0.9008\n"
     ]
    }
   ],
   "source": [
    "history = model.fit(x_train, y_train,\n",
    "                    validation_split=1 - trainFactor,\n",
    "                    epochs=epochs,\n",
    "                    batch_size=batch_size,\n",
    "                    verbose=2,\n",
    "                    )"
   ]
  },
  {
   "cell_type": "code",
   "execution_count": 6,
   "id": "376a481a",
   "metadata": {},
   "outputs": [
    {
     "data": {
      "image/png": "[encoded data removed]",
      "text/plain": [
       "<Figure size 432x288 with 1 Axes>"
      ]
     },
     "metadata": {
      "needs_background": "light"
     },
     "output_type": "display_data"
    }
   ],
   "source": [
    "import matplotlib.pyplot as plt\n",
    "plt.plot(history.history['loss'])\n",
    "plt.plot(history.history['val_loss'])\n",
    "plt.title('model loss')\n",
    "plt.ylabel('loss')\n",
    "plt.xlabel('epoch')\n",
    "plt.legend(['train', 'validation'], loc='upper left')\n",
    "\n",
    "plt.show()"
   ]
  },
  {
   "cell_type": "code",
   "execution_count": null,
   "id": "cc79c06b",
   "metadata": {},
   "outputs": [],
   "source": []
  }
 ],
 "metadata": {
  "kernelspec": {
   "display_name": "Python 3",
   "language": "python",
   "name": "python3"
  },
  "language_info": {
   "codemirror_mode": {
    "name": "ipython",
    "version": 3
   },
   "file_extension": ".py",
   "mimetype": "text/x-python",
   "name": "python",
   "nbconvert_exporter": "python",
   "pygments_lexer": "ipython3",
   "version": "3.6.13"
  }
 },
 "nbformat": 4,
 "nbformat_minor": 5
}
