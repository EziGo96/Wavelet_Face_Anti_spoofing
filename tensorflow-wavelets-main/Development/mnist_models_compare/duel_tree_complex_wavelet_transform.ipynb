{
 "cells": [
  {
   "cell_type": "code",
   "execution_count": 1,
   "id": "a177ec7d",
   "metadata": {},
   "outputs": [],
   "source": [
    "import numpy as np\n",
    "import tensorflow as tf\n",
    "from tensorflow import keras\n",
    "from tensorflow.keras import layers, Model\n",
    "from tensorflow.keras.utils import to_categorical\n",
    "\n",
    "import os\n",
    "import sys  \n",
    "sys.path.insert(0, 'G:\\\\My Drive\\\\Colab Notebooks\\\\MWCNN')\n",
    "\n",
    "from Layers.DTCWT import *\n",
    "from tensorflow.keras.datasets import mnist\n",
    "from tensorflow.keras.optimizers import Adam, SGD"
   ]
  },
  {
   "cell_type": "code",
   "execution_count": 2,
   "id": "ba52173b",
   "metadata": {},
   "outputs": [],
   "source": [
    "nb_classes = 10\n",
    "batch_size = 32\n",
    "epochs = 30\n",
    "\n",
    "lr = 1e-4  # learning rate\n",
    "beta_1 = 0.9         # beta 1 - for adam optimizer\n",
    "beta_2 = 0.96        # beta 2 - for adam optimizer\n",
    "epsilon = 1e-7        # epsilon - for adam optimizer\n",
    "\n",
    "trainFactor = 0.8\n",
    "input_shape = (28, 28, 1)  # CIFAR-10 60,000 32X32 color\n",
    "\n",
    "# optimizer = Adam(learning_rate=lr, beta_1=beta_1, beta_2=beta_2, epsilon=epsilon)\n",
    "optimizer = SGD(lr=lr, momentum=beta_1)\n",
    "\n",
    "(x_train, y_train), (x_test, y_test) = mnist.load_data()\n",
    "\n",
    "y_train = to_categorical(y_train)\n",
    "y_test = to_categorical(y_test)\n",
    "x_train = x_train.astype('float32') / 255.0\n",
    "x_train = np.expand_dims(x_train, axis=-1)\n",
    "\n",
    "x_test = x_test.astype('float32') / 255.0\n",
    "x_test = np.expand_dims(x_test, axis=-1)\n"
   ]
  },
  {
   "cell_type": "code",
   "execution_count": 3,
   "id": "33273bbf",
   "metadata": {},
   "outputs": [
    {
     "name": "stdout",
     "output_type": "stream",
     "text": [
      "WARNING:tensorflow:From C:\\Users\\Olya\\Anaconda3\\envs\\dwtcnn\\lib\\site-packages\\tensorflow_core\\python\\ops\\resource_variable_ops.py:1630: calling BaseResourceVariable.__init__ (from tensorflow.python.ops.resource_variable_ops) with constraint is deprecated and will be removed in a future version.\n",
      "Instructions for updating:\n",
      "If using Keras pass *_constraint arguments to layers.\n",
      "Model: \"mymodel\"\n",
      "_________________________________________________________________\n",
      "Layer (type)                 Output Shape              Param #   \n",
      "=================================================================\n",
      "input_1 (InputLayer)         [(None, 28, 28, 1)]       0         \n",
      "_________________________________________________________________\n",
      "conv2d (Conv2D)              (None, 28, 28, 28)        280       \n",
      "_________________________________________________________________\n",
      "dtcwt (DTCWT)                (None, 56, 56, 28)        0         \n",
      "_________________________________________________________________\n",
      "conv2d_1 (Conv2D)            (None, 56, 56, 10)        2530      \n",
      "_________________________________________________________________\n",
      "flatten (Flatten)            (None, 31360)             0         \n",
      "_________________________________________________________________\n",
      "dense (Dense)                (None, 10)                313610    \n",
      "=================================================================\n",
      "Total params: 316,420\n",
      "Trainable params: 316,420\n",
      "Non-trainable params: 0\n",
      "_________________________________________________________________\n"
     ]
    }
   ],
   "source": [
    "# load DWT db2 model\n",
    "input_shape = (28, 28, 1)\n",
    "\n",
    "cplx_input = layers.Input(shape=input_shape)\n",
    "\n",
    "x = layers.Conv2D(28, (3, 3), padding='same')(cplx_input)\n",
    "x = DTCWT(2)(x)\n",
    "x = layers.Conv2D(10, (3, 3),padding='same')(x)\n",
    "x = layers.Flatten()(x)\n",
    "x = layers.Dense(nb_classes, activation=\"softmax\")(x)\n",
    "model = Model(cplx_input, x, name=\"mymodel\")\n",
    "model.summary()\n",
    "\n"
   ]
  },
  {
   "cell_type": "code",
   "execution_count": 4,
   "id": "30715c34",
   "metadata": {},
   "outputs": [],
   "source": [
    "model.compile(loss=\"categorical_crossentropy\",\n",
    "              optimizer=optimizer, metrics=[\"accuracy\"])"
   ]
  },
  {
   "cell_type": "code",
   "execution_count": 5,
   "id": "178e4e7d",
   "metadata": {},
   "outputs": [
    {
     "name": "stdout",
     "output_type": "stream",
     "text": [
      "Train on 48000 samples, validate on 12000 samples\n",
      "Epoch 1/30\n",
      "48000/48000 - 142s - loss: 1.2382 - acc: 0.7362 - val_loss: 0.4654 - val_acc: 0.8812\n",
      "Epoch 2/30\n",
      "48000/48000 - 140s - loss: 0.4244 - acc: 0.8828 - val_loss: 0.3503 - val_acc: 0.9003\n",
      "Epoch 3/30\n",
      "48000/48000 - 140s - loss: 0.3614 - acc: 0.8957 - val_loss: 0.3216 - val_acc: 0.9068\n",
      "Epoch 4/30\n",
      "48000/48000 - 139s - loss: 0.3378 - acc: 0.9019 - val_loss: 0.3094 - val_acc: 0.9112\n",
      "Epoch 5/30\n",
      "48000/48000 - 140s - loss: 0.3248 - acc: 0.9054 - val_loss: 0.3016 - val_acc: 0.9138\n",
      "Epoch 6/30\n",
      "48000/48000 - 139s - loss: 0.3157 - acc: 0.9087 - val_loss: 0.2961 - val_acc: 0.9158\n",
      "Epoch 7/30\n",
      "48000/48000 - 140s - loss: 0.3095 - acc: 0.9106 - val_loss: 0.2934 - val_acc: 0.9162\n",
      "Epoch 8/30\n",
      "48000/48000 - 140s - loss: 0.3042 - acc: 0.9119 - val_loss: 0.2875 - val_acc: 0.9186\n",
      "Epoch 9/30\n",
      "48000/48000 - 141s - loss: 0.2997 - acc: 0.9138 - val_loss: 0.2850 - val_acc: 0.9186\n",
      "Epoch 10/30\n",
      "48000/48000 - 142s - loss: 0.2973 - acc: 0.9156 - val_loss: 0.2820 - val_acc: 0.9201\n",
      "Epoch 11/30\n",
      "48000/48000 - 140s - loss: 0.2942 - acc: 0.9157 - val_loss: 0.2802 - val_acc: 0.9213\n",
      "Epoch 12/30\n",
      "48000/48000 - 139s - loss: 0.2922 - acc: 0.9178 - val_loss: 0.2777 - val_acc: 0.9218\n",
      "Epoch 13/30\n",
      "48000/48000 - 139s - loss: 0.2903 - acc: 0.9176 - val_loss: 0.2787 - val_acc: 0.9228\n",
      "Epoch 14/30\n",
      "48000/48000 - 140s - loss: 0.2881 - acc: 0.9182 - val_loss: 0.2773 - val_acc: 0.9220\n",
      "Epoch 15/30\n",
      "48000/48000 - 140s - loss: 0.2868 - acc: 0.9189 - val_loss: 0.2760 - val_acc: 0.9223\n",
      "Epoch 16/30\n",
      "48000/48000 - 140s - loss: 0.2852 - acc: 0.9194 - val_loss: 0.2769 - val_acc: 0.9219\n",
      "Epoch 17/30\n",
      "48000/48000 - 140s - loss: 0.2841 - acc: 0.9196 - val_loss: 0.2735 - val_acc: 0.9247\n",
      "Epoch 18/30\n",
      "48000/48000 - 140s - loss: 0.2831 - acc: 0.9204 - val_loss: 0.2711 - val_acc: 0.9244\n",
      "Epoch 19/30\n",
      "48000/48000 - 139s - loss: 0.2821 - acc: 0.9204 - val_loss: 0.2701 - val_acc: 0.9234\n",
      "Epoch 20/30\n",
      "48000/48000 - 139s - loss: 0.2809 - acc: 0.9207 - val_loss: 0.2709 - val_acc: 0.9243\n",
      "Epoch 21/30\n",
      "48000/48000 - 139s - loss: 0.2801 - acc: 0.9205 - val_loss: 0.2703 - val_acc: 0.9250\n",
      "Epoch 22/30\n",
      "48000/48000 - 139s - loss: 0.2794 - acc: 0.9209 - val_loss: 0.2717 - val_acc: 0.9240\n",
      "Epoch 23/30\n",
      "48000/48000 - 139s - loss: 0.2782 - acc: 0.9212 - val_loss: 0.2692 - val_acc: 0.9243\n",
      "Epoch 24/30\n",
      "48000/48000 - 139s - loss: 0.2776 - acc: 0.9219 - val_loss: 0.2669 - val_acc: 0.9271\n",
      "Epoch 25/30\n",
      "48000/48000 - 139s - loss: 0.2771 - acc: 0.9213 - val_loss: 0.2690 - val_acc: 0.9253\n",
      "Epoch 26/30\n",
      "48000/48000 - 139s - loss: 0.2762 - acc: 0.9221 - val_loss: 0.2700 - val_acc: 0.9262\n",
      "Epoch 27/30\n",
      "48000/48000 - 139s - loss: 0.2760 - acc: 0.9220 - val_loss: 0.2667 - val_acc: 0.9264\n",
      "Epoch 28/30\n",
      "48000/48000 - 139s - loss: 0.2752 - acc: 0.9228 - val_loss: 0.2676 - val_acc: 0.9258\n",
      "Epoch 29/30\n",
      "48000/48000 - 139s - loss: 0.2744 - acc: 0.9226 - val_loss: 0.2672 - val_acc: 0.9262\n",
      "Epoch 30/30\n",
      "48000/48000 - 139s - loss: 0.2741 - acc: 0.9227 - val_loss: 0.2673 - val_acc: 0.9264\n"
     ]
    }
   ],
   "source": [
    "history = model.fit(x_train, y_train,\n",
    "                    validation_split=1 - trainFactor,\n",
    "                    epochs=epochs,\n",
    "                    batch_size=batch_size,\n",
    "                    verbose=2,\n",
    "                    )"
   ]
  },
  {
   "cell_type": "code",
   "execution_count": 6,
   "id": "376a481a",
   "metadata": {},
   "outputs": [
    {
     "data": {
      "image/png": "[encoded data removed]",
      "text/plain": [
       "<Figure size 432x288 with 1 Axes>"
      ]
     },
     "metadata": {
      "needs_background": "light"
     },
     "output_type": "display_data"
    }
   ],
   "source": [
    "import matplotlib.pyplot as plt\n",
    "plt.plot(history.history['loss'])\n",
    "plt.plot(history.history['val_loss'])\n",
    "plt.title('model loss')\n",
    "plt.ylabel('loss')\n",
    "plt.xlabel('epoch')\n",
    "plt.legend(['train', 'validation'], loc='upper left')\n",
    "\n",
    "plt.show()"
   ]
  },
  {
   "cell_type": "code",
   "execution_count": null,
   "id": "cc79c06b",
   "metadata": {},
   "outputs": [],
   "source": []
  }
 ],
 "metadata": {
  "kernelspec": {
   "display_name": "Python 3",
   "language": "python",
   "name": "python3"
  },
  "language_info": {
   "codemirror_mode": {
    "name": "ipython",
    "version": 3
   },
   "file_extension": ".py",
   "mimetype": "text/x-python",
   "name": "python",
   "nbconvert_exporter": "python",
   "pygments_lexer": "ipython3",
   "version": "3.6.13"
  }
 },
 "nbformat": 4,
 "nbformat_minor": 5
}
