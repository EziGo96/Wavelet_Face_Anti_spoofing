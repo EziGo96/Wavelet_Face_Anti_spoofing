{
 "cells": [
  {
   "cell_type": "code",
   "execution_count": 1,
   "id": "24b738c7",
   "metadata": {},
   "outputs": [
    {
     "name": "stdout",
     "output_type": "stream",
     "text": [
      "1.15.0\n"
     ]
    }
   ],
   "source": [
    "import numpy as np\n",
    "import tensorflow as tf\n",
    "print(tf.__version__)\n",
    "from tensorflow import keras\n",
    "from tensorflow.keras import layers\n",
    "from tensorflow.keras.utils import to_categorical\n",
    "\n",
    "import os\n",
    "import sys  \n",
    "sys.path.insert(0, 'G:\\\\My Drive\\\\Colab Notebooks\\\\MWCNN')\n",
    "import models.DWT2\n",
    "\n",
    "from tensorflow.keras.datasets import mnist\n",
    "from tensorflow.keras.optimizers import Adam, SGD\n"
   ]
  },
  {
   "cell_type": "code",
   "execution_count": 2,
   "id": "63eafcc1",
   "metadata": {},
   "outputs": [],
   "source": [
    "nb_classes = 10\n",
    "batch_size = 32\n",
    "epochs = 30\n",
    "\n",
    "lr = 1e-4  # learning rate\n",
    "beta_1 = 0.9         # beta 1 - for adam optimizer\n",
    "beta_2 = 0.96        # beta 2 - for adam optimizer\n",
    "epsilon = 1e-7        # epsilon - for adam optimizer\n",
    "\n",
    "trainFactor = 0.8\n",
    "input_shape = (28, 28, 1) \n",
    "\n",
    "# optimizer = Adam(learning_rate=lr, beta_1=beta_1, beta_2=beta_2, epsilon=epsilon)\n",
    "optimizer = SGD(lr=lr, momentum=beta_1)\n",
    "\n",
    "(x_train, y_train), (x_test, y_test) = mnist.load_data()\n",
    "\n",
    "# # Remove images to get smaller dataset\n",
    "# x_train = x_train[:1000, :, :]\n",
    "# y_train = y_train[:1000]\n",
    "# x_test = x_test[:500, :, :]\n",
    "# y_test = y_test[:500]\n",
    "\n",
    "\n",
    "y_train = to_categorical(y_train)\n",
    "y_test = to_categorical(y_test)\n",
    "x_train = x_train.astype('float32') / 255.0\n",
    "x_train = np.expand_dims(x_train, axis=-1)\n",
    "\n",
    "x_test = x_test.astype('float32') / 255.0\n",
    "x_test = np.expand_dims(x_test, axis=-1)\n"
   ]
  },
  {
   "cell_type": "code",
   "execution_count": 3,
   "id": "f0fd8ae4",
   "metadata": {},
   "outputs": [
    {
     "name": "stdout",
     "output_type": "stream",
     "text": [
      "WARNING:tensorflow:From C:\\Users\\Olya\\Anaconda3\\envs\\dwtcnn\\lib\\site-packages\\tensorflow_core\\python\\ops\\resource_variable_ops.py:1630: calling BaseResourceVariable.__init__ (from tensorflow.python.ops.resource_variable_ops) with constraint is deprecated and will be removed in a future version.\n",
      "Instructions for updating:\n",
      "If using Keras pass *_constraint arguments to layers.\n",
      "Model: \"sequential\"\n",
      "_________________________________________________________________\n",
      "Layer (type)                 Output Shape              Param #   \n",
      "=================================================================\n",
      "conv2d (Conv2D)              (None, 26, 26, 32)        320       \n",
      "_________________________________________________________________\n",
      "dwt_bior2.8 (DWT)            (None, 21, 21, 128)       0         \n",
      "_________________________________________________________________\n",
      "conv2d_1 (Conv2D)            (None, 19, 19, 64)        73792     \n",
      "_________________________________________________________________\n",
      "dwt_1_sym2 (DWT)             (None, 11, 11, 256)       0         \n",
      "_________________________________________________________________\n",
      "conv2d_2 (Conv2D)            (None, 9, 9, 128)         295040    \n",
      "_________________________________________________________________\n",
      "dropout (Dropout)            (None, 9, 9, 128)         0         \n",
      "_________________________________________________________________\n",
      "flatten (Flatten)            (None, 10368)             0         \n",
      "_________________________________________________________________\n",
      "dense (Dense)                (None, 10)                103690    \n",
      "=================================================================\n",
      "Total params: 472,842\n",
      "Trainable params: 472,842\n",
      "Non-trainable params: 0\n",
      "_________________________________________________________________\n"
     ]
    }
   ],
   "source": [
    "# load DWT db2 model\n",
    "model = keras.Sequential()\n",
    "model.add(keras.Input(shape=input_shape))\n",
    "model.add(keras.layers.Conv2D(32, (3, 3), activation=\"relu\"))\n",
    "model.add(models.DWT2.DWT(name=\"bior2.8\"))\n",
    "model.add(keras.layers.Conv2D(64, (3, 3), activation=\"relu\"))\n",
    "model.add(models.DWT2.DWT(name=\"sym2\"))\n",
    "model.add(keras.layers.Conv2D(128, (3, 3), activation=\"relu\"))\n",
    "model.add(keras.layers.Dropout(0.5))\n",
    "model.add(keras.layers.Flatten())\n",
    "model.add(keras.layers.Dense(nb_classes, activation=\"softmax\"))\n",
    "model.summary()\n"
   ]
  },
  {
   "cell_type": "code",
   "execution_count": 4,
   "id": "2f2649cb",
   "metadata": {},
   "outputs": [],
   "source": [
    "model.compile(loss=\"categorical_crossentropy\",\n",
    "              optimizer=optimizer, metrics=[\"accuracy\"])"
   ]
  },
  {
   "cell_type": "code",
   "execution_count": 5,
   "id": "ca853aca",
   "metadata": {},
   "outputs": [
    {
     "name": "stdout",
     "output_type": "stream",
     "text": [
      "Train on 48000 samples, validate on 12000 samples\n",
      "Epoch 1/30\n",
      "48000/48000 - 55s - loss: 1.7365 - acc: 0.4757 - val_loss: 0.5433 - val_acc: 0.8664\n",
      "Epoch 2/30\n",
      "48000/48000 - 52s - loss: 0.4975 - acc: 0.8502 - val_loss: 0.3184 - val_acc: 0.9107\n",
      "Epoch 3/30\n",
      "48000/48000 - 52s - loss: 0.3681 - acc: 0.8917 - val_loss: 0.2683 - val_acc: 0.9247\n",
      "Epoch 4/30\n",
      "48000/48000 - 52s - loss: 0.3126 - acc: 0.9091 - val_loss: 0.2347 - val_acc: 0.9340\n",
      "Epoch 5/30\n",
      "48000/48000 - 52s - loss: 0.2715 - acc: 0.9211 - val_loss: 0.2057 - val_acc: 0.9444\n",
      "Epoch 6/30\n",
      "48000/48000 - 53s - loss: 0.2394 - acc: 0.9298 - val_loss: 0.1900 - val_acc: 0.9467\n",
      "Epoch 7/30\n",
      "48000/48000 - 53s - loss: 0.2165 - acc: 0.9358 - val_loss: 0.1658 - val_acc: 0.9548\n",
      "Epoch 8/30\n",
      "48000/48000 - 52s - loss: 0.1953 - acc: 0.9431 - val_loss: 0.1509 - val_acc: 0.9582\n",
      "Epoch 9/30\n",
      "48000/48000 - 52s - loss: 0.1773 - acc: 0.9477 - val_loss: 0.1399 - val_acc: 0.9612\n",
      "Epoch 10/30\n",
      "48000/48000 - 52s - loss: 0.1654 - acc: 0.9514 - val_loss: 0.1313 - val_acc: 0.9641\n",
      "Epoch 11/30\n",
      "48000/48000 - 52s - loss: 0.1553 - acc: 0.9545 - val_loss: 0.1233 - val_acc: 0.9652\n",
      "Epoch 12/30\n",
      "48000/48000 - 52s - loss: 0.1455 - acc: 0.9575 - val_loss: 0.1165 - val_acc: 0.9672\n",
      "Epoch 13/30\n",
      "48000/48000 - 52s - loss: 0.1360 - acc: 0.9603 - val_loss: 0.1100 - val_acc: 0.9685\n",
      "Epoch 14/30\n",
      "48000/48000 - 52s - loss: 0.1292 - acc: 0.9617 - val_loss: 0.1044 - val_acc: 0.9695\n",
      "Epoch 15/30\n",
      "48000/48000 - 52s - loss: 0.1224 - acc: 0.9629 - val_loss: 0.1002 - val_acc: 0.9719\n",
      "Epoch 16/30\n",
      "48000/48000 - 52s - loss: 0.1193 - acc: 0.9645 - val_loss: 0.0957 - val_acc: 0.9729\n",
      "Epoch 17/30\n",
      "48000/48000 - 52s - loss: 0.1112 - acc: 0.9674 - val_loss: 0.0938 - val_acc: 0.9737\n",
      "Epoch 18/30\n",
      "48000/48000 - 52s - loss: 0.1089 - acc: 0.9672 - val_loss: 0.0900 - val_acc: 0.9737\n",
      "Epoch 19/30\n",
      "48000/48000 - 52s - loss: 0.1037 - acc: 0.9685 - val_loss: 0.0868 - val_acc: 0.9752\n",
      "Epoch 20/30\n",
      "48000/48000 - 52s - loss: 0.0980 - acc: 0.9708 - val_loss: 0.0838 - val_acc: 0.9758\n",
      "Epoch 21/30\n",
      "48000/48000 - 52s - loss: 0.0965 - acc: 0.9712 - val_loss: 0.0828 - val_acc: 0.9747\n",
      "Epoch 22/30\n",
      "48000/48000 - 52s - loss: 0.0923 - acc: 0.9724 - val_loss: 0.0799 - val_acc: 0.9767\n",
      "Epoch 23/30\n",
      "48000/48000 - 53s - loss: 0.0894 - acc: 0.9736 - val_loss: 0.0785 - val_acc: 0.9770\n",
      "Epoch 24/30\n",
      "48000/48000 - 53s - loss: 0.0868 - acc: 0.9736 - val_loss: 0.0777 - val_acc: 0.9776\n",
      "Epoch 25/30\n",
      "48000/48000 - 54s - loss: 0.0866 - acc: 0.9737 - val_loss: 0.0749 - val_acc: 0.9776\n",
      "Epoch 26/30\n",
      "48000/48000 - 54s - loss: 0.0811 - acc: 0.9754 - val_loss: 0.0735 - val_acc: 0.9781\n",
      "Epoch 27/30\n",
      "48000/48000 - 53s - loss: 0.0814 - acc: 0.9756 - val_loss: 0.0726 - val_acc: 0.9785\n",
      "Epoch 28/30\n",
      "48000/48000 - 53s - loss: 0.0774 - acc: 0.9764 - val_loss: 0.0700 - val_acc: 0.9787\n",
      "Epoch 29/30\n",
      "48000/48000 - 62s - loss: 0.0755 - acc: 0.9771 - val_loss: 0.0695 - val_acc: 0.9781\n",
      "Epoch 30/30\n",
      "48000/48000 - 63s - loss: 0.0744 - acc: 0.9770 - val_loss: 0.0687 - val_acc: 0.9788\n"
     ]
    }
   ],
   "source": [
    "history = model.fit(x_train, y_train,\n",
    "                    validation_split=1 - trainFactor,\n",
    "                    epochs=epochs,\n",
    "                    batch_size=batch_size,\n",
    "                    verbose=2,\n",
    "                    )"
   ]
  },
  {
   "cell_type": "code",
   "execution_count": 6,
   "id": "1e8e05fe",
   "metadata": {},
   "outputs": [
    {
     "data": {
      "image/png": "[encoded data removed]",
      "text/plain": [
       "<Figure size 432x288 with 1 Axes>"
      ]
     },
     "metadata": {
      "needs_background": "light"
     },
     "output_type": "display_data"
    }
   ],
   "source": [
    "import matplotlib.pyplot as plt\n",
    "plt.plot(history.history['loss'])\n",
    "plt.plot(history.history['val_loss'])\n",
    "plt.title('model loss')\n",
    "plt.ylabel('loss')\n",
    "plt.xlabel('epoch')\n",
    "plt.legend(['train', 'validation'], loc='upper left')\n",
    "\n",
    "plt.show()"
   ]
  },
  {
   "cell_type": "code",
   "execution_count": null,
   "id": "941bf276",
   "metadata": {},
   "outputs": [],
   "source": []
  },
  {
   "cell_type": "code",
   "execution_count": null,
   "id": "8f8f73f5",
   "metadata": {},
   "outputs": [],
   "source": []
  }
 ],
 "metadata": {
  "kernelspec": {
   "display_name": "Python 3",
   "language": "python",
   "name": "python3"
  },
  "language_info": {
   "codemirror_mode": {
    "name": "ipython",
    "version": 3
   },
   "file_extension": ".py",
   "mimetype": "text/x-python",
   "name": "python",
   "nbconvert_exporter": "python",
   "pygments_lexer": "ipython3",
   "version": "3.6.13"
  }
 },
 "nbformat": 4,
 "nbformat_minor": 5
}
