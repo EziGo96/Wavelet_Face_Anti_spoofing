{
 "cells": [
  {
   "cell_type": "code",
   "execution_count": 1,
   "id": "a177ec7d",
   "metadata": {},
   "outputs": [],
   "source": [
    "import numpy as np\n",
    "import tensorflow as tf\n",
    "from tensorflow import keras\n",
    "from tensorflow.keras import layers, Model\n",
    "from tensorflow.keras.utils import to_categorical\n",
    "\n",
    "import os\n",
    "import sys  \n",
    "sys.path.insert(0, 'G:\\\\My Drive\\\\Colab Notebooks\\\\MWCNN')\n",
    "\n",
    "from Layers.DTCWT import *\n",
    "from tensorflow.keras.datasets import mnist\n",
    "from tensorflow.keras.optimizers import Adam, SGD"
   ]
  },
  {
   "cell_type": "code",
   "execution_count": 2,
   "id": "ba52173b",
   "metadata": {},
   "outputs": [],
   "source": [
    "nb_classes = 10\n",
    "batch_size = 32\n",
    "epochs = 40\n",
    "\n",
    "lr = 1e-4  # learning rate\n",
    "beta_1 = 0.9         # beta 1 - for adam optimizer\n",
    "beta_2 = 0.96        # beta 2 - for adam optimizer\n",
    "epsilon = 1e-7        # epsilon - for adam optimizer\n",
    "\n",
    "trainFactor = 0.8\n",
    "input_shape = (28, 28, 1)\n",
    "\n",
    "# optimizer = Adam(learning_rate=lr, beta_1=beta_1, beta_2=beta_2, epsilon=epsilon)\n",
    "optimizer = SGD(lr=lr, momentum=beta_1)\n",
    "\n",
    "(x_train, y_train), (x_test, y_test) = mnist.load_data()\n",
    "\n",
    "y_train = to_categorical(y_train)\n",
    "y_test = to_categorical(y_test)\n",
    "x_train = x_train.astype('float32') / 255.0\n",
    "x_train = np.expand_dims(x_train, axis=-1)\n",
    "\n",
    "x_test = x_test.astype('float32') / 255.0\n",
    "x_test = np.expand_dims(x_test, axis=-1)\n"
   ]
  },
  {
   "cell_type": "code",
   "execution_count": 3,
   "id": "33273bbf",
   "metadata": {},
   "outputs": [
    {
     "name": "stdout",
     "output_type": "stream",
     "text": [
      "WARNING:tensorflow:From C:\\Users\\Olya\\Anaconda3\\envs\\dwtcnn\\lib\\site-packages\\tensorflow_core\\python\\ops\\resource_variable_ops.py:1630: calling BaseResourceVariable.__init__ (from tensorflow.python.ops.resource_variable_ops) with constraint is deprecated and will be removed in a future version.\n",
      "Instructions for updating:\n",
      "If using Keras pass *_constraint arguments to layers.\n",
      "Model: \"mymodel\"\n",
      "_________________________________________________________________\n",
      "Layer (type)                 Output Shape              Param #   \n",
      "=================================================================\n",
      "input_1 (InputLayer)         [(None, 28, 28, 1)]       0         \n",
      "_________________________________________________________________\n",
      "conv2d (Conv2D)              (None, 28, 28, 28)        280       \n",
      "_________________________________________________________________\n",
      "dtcwt (DTCWT)                (None, 56, 56, 28)        0         \n",
      "_________________________________________________________________\n",
      "conv2d_1 (Conv2D)            (None, 56, 56, 56)        14168     \n",
      "_________________________________________________________________\n",
      "dtcwt_1 (DTCWT)              (None, 112, 112, 56)      0         \n",
      "_________________________________________________________________\n",
      "dropout (Dropout)            (None, 112, 112, 56)      0         \n",
      "_________________________________________________________________\n",
      "flatten (Flatten)            (None, 702464)            0         \n",
      "_________________________________________________________________\n",
      "dense (Dense)                (None, 10)                7024650   \n",
      "=================================================================\n",
      "Total params: 7,039,098\n",
      "Trainable params: 7,039,098\n",
      "Non-trainable params: 0\n",
      "_________________________________________________________________\n"
     ]
    }
   ],
   "source": [
    "# load DWT db2 model\n",
    "input_shape = (28, 28, 1)\n",
    "\n",
    "cplx_input = layers.Input(shape=input_shape)\n",
    "x = layers.Conv2D(28, (3, 3), padding='same', activation=\"relu\")(cplx_input)\n",
    "x = DTCWT(2)(x)\n",
    "x = layers.Conv2D(56, (3, 3), padding='same', activation=\"relu\")(x)\n",
    "x = DTCWT(2)(x)\n",
    "x = layers.Dropout(0.5)(x)\n",
    "x = layers.Flatten()(x)\n",
    "x = layers.Dense(nb_classes, activation=\"softmax\")(x)\n",
    "model = Model(cplx_input, x, name=\"mymodel\")\n",
    "model.summary()\n",
    "\n"
   ]
  },
  {
   "cell_type": "code",
   "execution_count": 4,
   "id": "30715c34",
   "metadata": {},
   "outputs": [],
   "source": [
    "model.compile(loss=\"categorical_crossentropy\",\n",
    "              optimizer=optimizer, metrics=[\"accuracy\"])"
   ]
  },
  {
   "cell_type": "code",
   "execution_count": 5,
   "id": "178e4e7d",
   "metadata": {},
   "outputs": [
    {
     "name": "stdout",
     "output_type": "stream",
     "text": [
      "Train on 48000 samples, validate on 12000 samples\n",
      "Epoch 1/40\n",
      "48000/48000 - 963s - loss: 1.5903 - acc: 0.6983 - val_loss: 0.5588 - val_acc: 0.8718\n",
      "Epoch 2/40\n",
      "48000/48000 - 958s - loss: 0.4336 - acc: 0.8842 - val_loss: 0.3273 - val_acc: 0.9091\n",
      "Epoch 3/40\n",
      "48000/48000 - 969s - loss: 0.3283 - acc: 0.9066 - val_loss: 0.2823 - val_acc: 0.9193\n",
      "Epoch 4/40\n",
      "48000/48000 - 967s - loss: 0.2881 - acc: 0.9178 - val_loss: 0.2518 - val_acc: 0.9259\n",
      "Epoch 5/40\n",
      "48000/48000 - 965s - loss: 0.2587 - acc: 0.9257 - val_loss: 0.2314 - val_acc: 0.9342\n",
      "Epoch 6/40\n",
      "48000/48000 - 967s - loss: 0.2351 - acc: 0.9331 - val_loss: 0.2099 - val_acc: 0.9413\n",
      "Epoch 7/40\n",
      "48000/48000 - 963s - loss: 0.2144 - acc: 0.9393 - val_loss: 0.1921 - val_acc: 0.9467\n",
      "Epoch 8/40\n",
      "48000/48000 - 966s - loss: 0.1963 - acc: 0.9439 - val_loss: 0.1815 - val_acc: 0.9491\n",
      "Epoch 9/40\n",
      "48000/48000 - 970s - loss: 0.1795 - acc: 0.9488 - val_loss: 0.1632 - val_acc: 0.9555\n",
      "Epoch 10/40\n",
      "48000/48000 - 962s - loss: 0.1650 - acc: 0.9535 - val_loss: 0.1515 - val_acc: 0.9600\n",
      "Epoch 11/40\n",
      "48000/48000 - 958s - loss: 0.1536 - acc: 0.9559 - val_loss: 0.1430 - val_acc: 0.9617\n",
      "Epoch 12/40\n",
      "48000/48000 - 958s - loss: 0.1422 - acc: 0.9598 - val_loss: 0.1320 - val_acc: 0.9650\n",
      "Epoch 13/40\n",
      "48000/48000 - 958s - loss: 0.1325 - acc: 0.9632 - val_loss: 0.1232 - val_acc: 0.9675\n",
      "Epoch 14/40\n",
      "48000/48000 - 958s - loss: 0.1235 - acc: 0.9657 - val_loss: 0.1168 - val_acc: 0.9691\n",
      "Epoch 15/40\n",
      "48000/48000 - 965s - loss: 0.1164 - acc: 0.9667 - val_loss: 0.1109 - val_acc: 0.9697\n",
      "Epoch 16/40\n",
      "48000/48000 - 963s - loss: 0.1092 - acc: 0.9694 - val_loss: 0.1050 - val_acc: 0.9718\n",
      "Epoch 17/40\n",
      "48000/48000 - 963s - loss: 0.1028 - acc: 0.9714 - val_loss: 0.1020 - val_acc: 0.9731\n",
      "Epoch 18/40\n",
      "48000/48000 - 963s - loss: 0.0979 - acc: 0.9736 - val_loss: 0.0977 - val_acc: 0.9729\n",
      "Epoch 19/40\n",
      "48000/48000 - 963s - loss: 0.0939 - acc: 0.9734 - val_loss: 0.0917 - val_acc: 0.9745\n",
      "Epoch 20/40\n",
      "48000/48000 - 964s - loss: 0.0890 - acc: 0.9747 - val_loss: 0.0920 - val_acc: 0.9753\n",
      "Epoch 21/40\n",
      "48000/48000 - 964s - loss: 0.0854 - acc: 0.9763 - val_loss: 0.0856 - val_acc: 0.9766\n",
      "Epoch 22/40\n",
      "48000/48000 - 965s - loss: 0.0813 - acc: 0.9776 - val_loss: 0.0844 - val_acc: 0.9766\n",
      "Epoch 23/40\n",
      "48000/48000 - 964s - loss: 0.0780 - acc: 0.9781 - val_loss: 0.0806 - val_acc: 0.9777\n",
      "Epoch 24/40\n",
      "48000/48000 - 963s - loss: 0.0754 - acc: 0.9790 - val_loss: 0.0790 - val_acc: 0.9778\n",
      "Epoch 25/40\n",
      "48000/48000 - 963s - loss: 0.0728 - acc: 0.9795 - val_loss: 0.0762 - val_acc: 0.9793\n",
      "Epoch 26/40\n",
      "48000/48000 - 962s - loss: 0.0698 - acc: 0.9808 - val_loss: 0.0748 - val_acc: 0.9791\n",
      "Epoch 27/40\n",
      "48000/48000 - 952s - loss: 0.0679 - acc: 0.9811 - val_loss: 0.0735 - val_acc: 0.9798\n",
      "Epoch 28/40\n",
      "48000/48000 - 952s - loss: 0.0651 - acc: 0.9819 - val_loss: 0.0727 - val_acc: 0.9789\n",
      "Epoch 29/40\n",
      "48000/48000 - 952s - loss: 0.0638 - acc: 0.9818 - val_loss: 0.0709 - val_acc: 0.9801\n",
      "Epoch 30/40\n",
      "48000/48000 - 952s - loss: 0.0618 - acc: 0.9830 - val_loss: 0.0699 - val_acc: 0.9798\n",
      "Epoch 31/40\n",
      "48000/48000 - 952s - loss: 0.0603 - acc: 0.9835 - val_loss: 0.0680 - val_acc: 0.9801\n",
      "Epoch 32/40\n",
      "48000/48000 - 952s - loss: 0.0582 - acc: 0.9836 - val_loss: 0.0684 - val_acc: 0.9805\n",
      "Epoch 33/40\n",
      "48000/48000 - 952s - loss: 0.0570 - acc: 0.9844 - val_loss: 0.0674 - val_acc: 0.9809\n",
      "Epoch 34/40\n",
      "48000/48000 - 952s - loss: 0.0557 - acc: 0.9838 - val_loss: 0.0654 - val_acc: 0.9818\n",
      "Epoch 35/40\n",
      "48000/48000 - 952s - loss: 0.0540 - acc: 0.9850 - val_loss: 0.0651 - val_acc: 0.9814\n",
      "Epoch 36/40\n",
      "48000/48000 - 952s - loss: 0.0526 - acc: 0.9853 - val_loss: 0.0638 - val_acc: 0.9822\n",
      "Epoch 37/40\n",
      "48000/48000 - 952s - loss: 0.0512 - acc: 0.9859 - val_loss: 0.0626 - val_acc: 0.9821\n",
      "Epoch 38/40\n",
      "48000/48000 - 952s - loss: 0.0501 - acc: 0.9861 - val_loss: 0.0627 - val_acc: 0.9824\n",
      "Epoch 39/40\n",
      "48000/48000 - 952s - loss: 0.0498 - acc: 0.9862 - val_loss: 0.0613 - val_acc: 0.9821\n",
      "Epoch 40/40\n",
      "48000/48000 - 952s - loss: 0.0486 - acc: 0.9864 - val_loss: 0.0613 - val_acc: 0.9823\n"
     ]
    }
   ],
   "source": [
    "history = model.fit(x_train, y_train,\n",
    "                    validation_split=1 - trainFactor,\n",
    "                    epochs=epochs,\n",
    "                    batch_size=batch_size,\n",
    "                    verbose=2,\n",
    "                    )"
   ]
  },
  {
   "cell_type": "code",
   "execution_count": 6,
   "id": "376a481a",
   "metadata": {},
   "outputs": [
    {
     "data": {
      "image/png": "[encoded data removed]",
      "text/plain": [
       "<Figure size 432x288 with 1 Axes>"
      ]
     },
     "metadata": {
      "needs_background": "light"
     },
     "output_type": "display_data"
    }
   ],
   "source": [
    "import matplotlib.pyplot as plt\n",
    "plt.plot(history.history['loss'])\n",
    "plt.plot(history.history['val_loss'])\n",
    "plt.title('model loss')\n",
    "plt.ylabel('loss')\n",
    "plt.xlabel('epoch')\n",
    "plt.legend(['train', 'validation'], loc='upper left')\n",
    "\n",
    "plt.show()"
   ]
  },
  {
   "cell_type": "code",
   "execution_count": null,
   "id": "cc79c06b",
   "metadata": {},
   "outputs": [],
   "source": []
  }
 ],
 "metadata": {
  "kernelspec": {
   "display_name": "Python 3",
   "language": "python",
   "name": "python3"
  },
  "language_info": {
   "codemirror_mode": {
    "name": "ipython",
    "version": 3
   },
   "file_extension": ".py",
   "mimetype": "text/x-python",
   "name": "python",
   "nbconvert_exporter": "python",
   "pygments_lexer": "ipython3",
   "version": "3.6.13"
  }
 },
 "nbformat": 4,
 "nbformat_minor": 5
}
