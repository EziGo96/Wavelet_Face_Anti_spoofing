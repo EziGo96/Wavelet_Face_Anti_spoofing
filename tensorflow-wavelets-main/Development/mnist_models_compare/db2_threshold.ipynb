{
 "cells": [
  {
   "cell_type": "code",
   "execution_count": 1,
   "metadata": {},
   "outputs": [],
   "source": [
    "import numpy as np\n",
    "import tensorflow as tf\n",
    "from tensorflow import keras\n",
    "from tensorflow.keras import layers\n",
    "\n",
    "import tensorflow_wavelets.Layers.DWT as DWT\n",
    "import tensorflow_wavelets.Layers.DMWT as DMWT\n",
    "import tensorflow_wavelets.Layers.DTCWT as DTCWT\n",
    "import tensorflow_wavelets.Layers.Activation as Activation\n",
    "\n",
    "from tensorflow_wavelets.utils.data import *\n",
    "\n",
    "from tensorflow.keras.optimizers import Adam, SGD"
   ]
  },
  {
   "cell_type": "code",
   "execution_count": 2,
   "metadata": {},
   "outputs": [
    {
     "name": "stderr",
     "output_type": "stream",
     "text": [
      "C:\\Users\\Olya\\Anaconda3\\envs\\test\\lib\\site-packages\\keras\\optimizer_v2\\optimizer_v2.py:355: UserWarning: The `lr` argument is deprecated, use `learning_rate` instead.\n",
      "  warnings.warn(\n"
     ]
    }
   ],
   "source": [
    "nb_classes = 10\n",
    "batch_size = 32\n",
    "epochs = 30\n",
    "\n",
    "lr = 1e-4  # learning rate\n",
    "beta_1 = 0.9         # beta 1 - for adam optimizer\n",
    "beta_2 = 0.96        # beta 2 - for adam optimizer\n",
    "epsilon = 1e-7        # epsilon - for adam optimizer\n",
    "\n",
    "trainFactor = 0.8\n",
    "input_shape = (28, 28, 1)  \n",
    "\n",
    "# optimizer = Adam(learning_rate=lr, beta_1=beta_1, beta_2=beta_2, epsilon=epsilon)\n",
    "optimizer = SGD(lr=lr, momentum=beta_1)\n",
    "\n",
    "(x_train, y_train), (x_test, y_test) = load_mnist(remove_n_samples=0)\n",
    "\n"
   ]
  },
  {
   "cell_type": "code",
   "execution_count": 3,
   "metadata": {},
   "outputs": [
    {
     "name": "stdout",
     "output_type": "stream",
     "text": [
      "Model: \"sequential\"\n",
      "_________________________________________________________________\n",
      "Layer (type)                 Output Shape              Param #   \n",
      "=================================================================\n",
      "dwt (DWT)                    (None, 30, 30, 1)         0         \n",
      "_________________________________________________________________\n",
      "threshold (Threshold)        (None, 30, 30, 1)         0         \n",
      "_________________________________________________________________\n",
      "idwt (IDWT)                  (None, 28, 28, 1)         0         \n",
      "_________________________________________________________________\n",
      "flatten (Flatten)            (None, 784)               0         \n",
      "_________________________________________________________________\n",
      "dense (Dense)                (None, 10)                7850      \n",
      "=================================================================\n",
      "Total params: 7,850\n",
      "Trainable params: 7,850\n",
      "Non-trainable params: 0\n",
      "_________________________________________________________________\n"
     ]
    }
   ],
   "source": [
    "# load DWT db2 model\n",
    "model = keras.Sequential()\n",
    "model.add(keras.Input(shape=input_shape))\n",
    "model.add(DWT.DWT(wavelet_name=\"db2\"))\n",
    "model.add(Activation.Threshold(algo='sure', mode=\"hard\"))\n",
    "model.add(DWT.IDWT(wavelet_name=\"db2\"))\n",
    "model.add(keras.layers.Flatten())\n",
    "model.add(keras.layers.Dense(nb_classes, activation=\"softmax\"))\n",
    "model.summary()\n"
   ]
  },
  {
   "cell_type": "code",
   "execution_count": 4,
   "metadata": {},
   "outputs": [],
   "source": [
    "model.compile(loss=\"categorical_crossentropy\",\n",
    "              optimizer=optimizer, metrics=[\"accuracy\"])"
   ]
  },
  {
   "cell_type": "code",
   "execution_count": 5,
   "metadata": {},
   "outputs": [
    {
     "name": "stdout",
     "output_type": "stream",
     "text": [
      "Epoch 1/30\n",
      "1500/1500 - 9s - loss: 1.8143 - accuracy: 0.5012 - val_loss: 1.3756 - val_accuracy: 0.7397\n",
      "Epoch 2/30\n",
      "1500/1500 - 9s - loss: 1.1907 - accuracy: 0.7626 - val_loss: 1.0023 - val_accuracy: 0.8147\n",
      "Epoch 3/30\n",
      "1500/1500 - 9s - loss: 0.9407 - accuracy: 0.8074 - val_loss: 0.8269 - val_accuracy: 0.8363\n",
      "Epoch 4/30\n",
      "1500/1500 - 9s - loss: 0.8100 - accuracy: 0.8255 - val_loss: 0.7258 - val_accuracy: 0.8501\n",
      "Epoch 5/30\n",
      "1500/1500 - 9s - loss: 0.7292 - accuracy: 0.8365 - val_loss: 0.6598 - val_accuracy: 0.8564\n",
      "Epoch 6/30\n",
      "1500/1500 - 9s - loss: 0.6737 - accuracy: 0.8451 - val_loss: 0.6127 - val_accuracy: 0.8641\n",
      "Epoch 7/30\n",
      "1500/1500 - 9s - loss: 0.6328 - accuracy: 0.8513 - val_loss: 0.5778 - val_accuracy: 0.8670\n",
      "Epoch 8/30\n",
      "1500/1500 - 9s - loss: 0.6013 - accuracy: 0.8559 - val_loss: 0.5505 - val_accuracy: 0.8703\n",
      "Epoch 9/30\n",
      "1500/1500 - 9s - loss: 0.5761 - accuracy: 0.8592 - val_loss: 0.5282 - val_accuracy: 0.8733\n",
      "Epoch 10/30\n",
      "1500/1500 - 9s - loss: 0.5554 - accuracy: 0.8628 - val_loss: 0.5098 - val_accuracy: 0.8779\n",
      "Epoch 11/30\n",
      "1500/1500 - 9s - loss: 0.5380 - accuracy: 0.8659 - val_loss: 0.4944 - val_accuracy: 0.8803\n",
      "Epoch 12/30\n",
      "1500/1500 - 9s - loss: 0.5231 - accuracy: 0.8682 - val_loss: 0.4812 - val_accuracy: 0.8814\n",
      "Epoch 13/30\n",
      "1500/1500 - 9s - loss: 0.5103 - accuracy: 0.8707 - val_loss: 0.4699 - val_accuracy: 0.8831\n",
      "Epoch 14/30\n",
      "1500/1500 - 9s - loss: 0.4990 - accuracy: 0.8726 - val_loss: 0.4598 - val_accuracy: 0.8843\n",
      "Epoch 15/30\n",
      "1500/1500 - 9s - loss: 0.4890 - accuracy: 0.8744 - val_loss: 0.4510 - val_accuracy: 0.8861\n",
      "Epoch 16/30\n",
      "1500/1500 - 9s - loss: 0.4801 - accuracy: 0.8761 - val_loss: 0.4430 - val_accuracy: 0.8870\n",
      "Epoch 17/30\n",
      "1500/1500 - 9s - loss: 0.4720 - accuracy: 0.8778 - val_loss: 0.4360 - val_accuracy: 0.8888\n",
      "Epoch 18/30\n",
      "1500/1500 - 9s - loss: 0.4648 - accuracy: 0.8790 - val_loss: 0.4295 - val_accuracy: 0.8900\n",
      "Epoch 19/30\n",
      "1500/1500 - 9s - loss: 0.4581 - accuracy: 0.8805 - val_loss: 0.4236 - val_accuracy: 0.8907\n",
      "Epoch 20/30\n",
      "1500/1500 - 9s - loss: 0.4520 - accuracy: 0.8813 - val_loss: 0.4182 - val_accuracy: 0.8915\n",
      "Epoch 21/30\n",
      "1500/1500 - 9s - loss: 0.4464 - accuracy: 0.8825 - val_loss: 0.4133 - val_accuracy: 0.8921\n",
      "Epoch 22/30\n",
      "1500/1500 - 9s - loss: 0.4412 - accuracy: 0.8832 - val_loss: 0.4087 - val_accuracy: 0.8938\n",
      "Epoch 23/30\n",
      "1500/1500 - 9s - loss: 0.4364 - accuracy: 0.8844 - val_loss: 0.4045 - val_accuracy: 0.8951\n",
      "Epoch 24/30\n",
      "1500/1500 - 9s - loss: 0.4319 - accuracy: 0.8858 - val_loss: 0.4006 - val_accuracy: 0.8955\n",
      "Epoch 25/30\n",
      "1500/1500 - 9s - loss: 0.4277 - accuracy: 0.8863 - val_loss: 0.3969 - val_accuracy: 0.8959\n",
      "Epoch 26/30\n",
      "1500/1500 - 9s - loss: 0.4238 - accuracy: 0.8873 - val_loss: 0.3934 - val_accuracy: 0.8967\n",
      "Epoch 27/30\n",
      "1500/1500 - 9s - loss: 0.4201 - accuracy: 0.8878 - val_loss: 0.3902 - val_accuracy: 0.8972\n",
      "Epoch 28/30\n",
      "1500/1500 - 9s - loss: 0.4166 - accuracy: 0.8886 - val_loss: 0.3871 - val_accuracy: 0.8982\n",
      "Epoch 29/30\n",
      "1500/1500 - 9s - loss: 0.4133 - accuracy: 0.8892 - val_loss: 0.3842 - val_accuracy: 0.8992\n",
      "Epoch 30/30\n",
      "1500/1500 - 9s - loss: 0.4102 - accuracy: 0.8898 - val_loss: 0.3816 - val_accuracy: 0.8997\n"
     ]
    }
   ],
   "source": [
    "history = model.fit(x_train, y_train,\n",
    "                    validation_split=1 - trainFactor,\n",
    "                    epochs=epochs,\n",
    "                    batch_size=batch_size,\n",
    "                    verbose=2,\n",
    "                    )"
   ]
  },
  {
   "cell_type": "code",
   "execution_count": 6,
   "metadata": {},
   "outputs": [
    {
     "data": {
      "image/png": "[encoded data removed]",
      "text/plain": [
       "<Figure size 432x288 with 1 Axes>"
      ]
     },
     "metadata": {
      "needs_background": "light"
     },
     "output_type": "display_data"
    }
   ],
   "source": [
    "import matplotlib.pyplot as plt\n",
    "plt.plot(history.history['loss'])\n",
    "plt.plot(history.history['val_loss'])\n",
    "plt.title('model loss')\n",
    "plt.ylabel('loss')\n",
    "plt.xlabel('epoch')\n",
    "plt.legend(['train', 'validation'], loc='upper left')\n",
    "\n",
    "plt.show()"
   ]
  },
  {
   "cell_type": "code",
   "execution_count": null,
   "metadata": {},
   "outputs": [],
   "source": []
  },
  {
   "cell_type": "code",
   "execution_count": null,
   "metadata": {},
   "outputs": [],
   "source": []
  }
 ],
 "metadata": {
  "kernelspec": {
   "display_name": "test",
   "language": "python",
   "name": "test"
  },
  "language_info": {
   "codemirror_mode": {
    "name": "ipython",
    "version": 3
   },
   "file_extension": ".py",
   "mimetype": "text/x-python",
   "name": "python",
   "nbconvert_exporter": "python",
   "pygments_lexer": "ipython3",
   "version": "3.8.11"
  }
 },
 "nbformat": 4,
 "nbformat_minor": 5
}
