{
 "cells": [
  {
   "cell_type": "code",
   "execution_count": 1,
   "id": "a177ec7d",
   "metadata": {},
   "outputs": [],
   "source": [
    "import numpy as np\n",
    "import tensorflow as tf\n",
    "from tensorflow import keras\n",
    "from tensorflow.keras import layers, Model\n",
    "from tensorflow.keras.utils import to_categorical\n",
    "\n",
    "import os\n",
    "import sys  \n",
    "sys.path.insert(0, 'G:\\\\My Drive\\\\Colab Notebooks\\\\MWCNN')\n",
    "\n",
    "from Layers.DMWT import *\n",
    "from tensorflow.keras.datasets import mnist\n",
    "from tensorflow.keras.optimizers import Adam, SGD"
   ]
  },
  {
   "cell_type": "code",
   "execution_count": 2,
   "id": "ba52173b",
   "metadata": {},
   "outputs": [],
   "source": [
    "nb_classes = 10\n",
    "batch_size = 32\n",
    "epochs = 40\n",
    "\n",
    "lr = 1e-4  # learning rate\n",
    "beta_1 = 0.9         # beta 1 - for adam optimizer\n",
    "beta_2 = 0.96        # beta 2 - for adam optimizer\n",
    "epsilon = 1e-7        # epsilon - for adam optimizer\n",
    "\n",
    "trainFactor = 0.8\n",
    "input_shape = (28, 28, 1)\n",
    "\n",
    "# optimizer = Adam(learning_rate=lr, beta_1=beta_1, beta_2=beta_2, epsilon=epsilon)\n",
    "optimizer = SGD(lr=lr, momentum=beta_1)\n",
    "\n",
    "(x_train, y_train), (x_test, y_test) = mnist.load_data()\n",
    "\n",
    "y_train = to_categorical(y_train)\n",
    "y_test = to_categorical(y_test)\n",
    "x_train = x_train.astype('float32') / 255.0\n",
    "x_train = np.expand_dims(x_train, axis=-1)\n",
    "\n",
    "x_test = x_test.astype('float32') / 255.0\n",
    "x_test = np.expand_dims(x_test, axis=-1)\n"
   ]
  },
  {
   "cell_type": "code",
   "execution_count": 3,
   "id": "33273bbf",
   "metadata": {},
   "outputs": [
    {
     "name": "stdout",
     "output_type": "stream",
     "text": [
      "WARNING:tensorflow:From C:\\Users\\Olya\\Anaconda3\\envs\\dwtcnn\\lib\\site-packages\\tensorflow_core\\python\\ops\\resource_variable_ops.py:1630: calling BaseResourceVariable.__init__ (from tensorflow.python.ops.resource_variable_ops) with constraint is deprecated and will be removed in a future version.\n",
      "Instructions for updating:\n",
      "If using Keras pass *_constraint arguments to layers.\n",
      "Model: \"mymodel\"\n",
      "_________________________________________________________________\n",
      "Layer (type)                 Output Shape              Param #   \n",
      "=================================================================\n",
      "input_1 (InputLayer)         [(None, 28, 28, 1)]       0         \n",
      "_________________________________________________________________\n",
      "dmwt (DMWT)                  (None, 56, 56, 1)         0         \n",
      "_________________________________________________________________\n",
      "flatten (Flatten)            (None, 3136)              0         \n",
      "_________________________________________________________________\n",
      "dense (Dense)                (None, 10)                31370     \n",
      "=================================================================\n",
      "Total params: 31,370\n",
      "Trainable params: 31,370\n",
      "Non-trainable params: 0\n",
      "_________________________________________________________________\n"
     ]
    }
   ],
   "source": [
    "# load DWT db2 model\n",
    "input_shape = (28, 28, 1) \n",
    "\n",
    "x_input = layers.Input(shape=input_shape)\n",
    "x = DMWT('ghm')(x_input)\n",
    "x = layers.Flatten()(x)\n",
    "x = layers.Dense(nb_classes, activation=\"softmax\")(x)\n",
    "\n",
    "model = Model(x_input, x, name=\"mymodel\")\n",
    "model.summary()\n",
    "\n"
   ]
  },
  {
   "cell_type": "code",
   "execution_count": 4,
   "id": "30715c34",
   "metadata": {},
   "outputs": [],
   "source": [
    "model.compile(loss=\"categorical_crossentropy\",\n",
    "              optimizer=optimizer, metrics=[\"accuracy\"])"
   ]
  },
  {
   "cell_type": "code",
   "execution_count": 5,
   "id": "178e4e7d",
   "metadata": {},
   "outputs": [
    {
     "name": "stdout",
     "output_type": "stream",
     "text": [
      "Train on 48000 samples, validate on 12000 samples\n",
      "Epoch 1/40\n",
      "48000/48000 - 4s - loss: 1.4330 - acc: 0.6691 - val_loss: 0.9403 - val_acc: 0.8197\n",
      "Epoch 2/40\n",
      "48000/48000 - 3s - loss: 0.8277 - acc: 0.8251 - val_loss: 0.6859 - val_acc: 0.8533\n",
      "Epoch 3/40\n",
      "48000/48000 - 4s - loss: 0.6677 - acc: 0.8483 - val_loss: 0.5837 - val_acc: 0.8673\n",
      "Epoch 4/40\n",
      "48000/48000 - 3s - loss: 0.5905 - acc: 0.8595 - val_loss: 0.5268 - val_acc: 0.8749\n",
      "Epoch 5/40\n",
      "48000/48000 - 3s - loss: 0.5435 - acc: 0.8661 - val_loss: 0.4900 - val_acc: 0.8811\n",
      "Epoch 6/40\n",
      "48000/48000 - 3s - loss: 0.5113 - acc: 0.8718 - val_loss: 0.4643 - val_acc: 0.8838\n",
      "Epoch 7/40\n",
      "48000/48000 - 3s - loss: 0.4876 - acc: 0.8760 - val_loss: 0.4449 - val_acc: 0.8876\n",
      "Epoch 8/40\n",
      "48000/48000 - 3s - loss: 0.4691 - acc: 0.8789 - val_loss: 0.4297 - val_acc: 0.8894\n",
      "Epoch 9/40\n",
      "48000/48000 - 3s - loss: 0.4544 - acc: 0.8809 - val_loss: 0.4175 - val_acc: 0.8923\n",
      "Epoch 10/40\n",
      "48000/48000 - 3s - loss: 0.4422 - acc: 0.8836 - val_loss: 0.4072 - val_acc: 0.8946\n",
      "Epoch 11/40\n",
      "48000/48000 - 3s - loss: 0.4319 - acc: 0.8849 - val_loss: 0.3986 - val_acc: 0.8960\n",
      "Epoch 12/40\n",
      "48000/48000 - 3s - loss: 0.4231 - acc: 0.8864 - val_loss: 0.3912 - val_acc: 0.8969\n",
      "Epoch 13/40\n",
      "48000/48000 - 3s - loss: 0.4154 - acc: 0.8884 - val_loss: 0.3847 - val_acc: 0.8980\n",
      "Epoch 14/40\n",
      "48000/48000 - 3s - loss: 0.4086 - acc: 0.8898 - val_loss: 0.3790 - val_acc: 0.8993\n",
      "Epoch 15/40\n",
      "48000/48000 - 3s - loss: 0.4026 - acc: 0.8911 - val_loss: 0.3740 - val_acc: 0.9004\n",
      "Epoch 16/40\n",
      "48000/48000 - 3s - loss: 0.3972 - acc: 0.8921 - val_loss: 0.3695 - val_acc: 0.9014\n",
      "Epoch 17/40\n",
      "48000/48000 - 3s - loss: 0.3923 - acc: 0.8934 - val_loss: 0.3655 - val_acc: 0.9018\n",
      "Epoch 18/40\n",
      "48000/48000 - 3s - loss: 0.3878 - acc: 0.8941 - val_loss: 0.3617 - val_acc: 0.9028\n",
      "Epoch 19/40\n",
      "48000/48000 - 3s - loss: 0.3837 - acc: 0.8951 - val_loss: 0.3584 - val_acc: 0.9032\n",
      "Epoch 20/40\n",
      "48000/48000 - 3s - loss: 0.3800 - acc: 0.8961 - val_loss: 0.3553 - val_acc: 0.9041\n",
      "Epoch 21/40\n",
      "48000/48000 - 3s - loss: 0.3765 - acc: 0.8966 - val_loss: 0.3523 - val_acc: 0.9052\n",
      "Epoch 22/40\n",
      "48000/48000 - 3s - loss: 0.3733 - acc: 0.8978 - val_loss: 0.3498 - val_acc: 0.9057\n",
      "Epoch 23/40\n",
      "48000/48000 - 3s - loss: 0.3703 - acc: 0.8980 - val_loss: 0.3472 - val_acc: 0.9058\n",
      "Epoch 24/40\n",
      "48000/48000 - 3s - loss: 0.3675 - acc: 0.8986 - val_loss: 0.3450 - val_acc: 0.9062\n",
      "Epoch 25/40\n",
      "48000/48000 - 3s - loss: 0.3649 - acc: 0.8991 - val_loss: 0.3427 - val_acc: 0.9069\n",
      "Epoch 26/40\n",
      "48000/48000 - 3s - loss: 0.3624 - acc: 0.8997 - val_loss: 0.3407 - val_acc: 0.9073\n",
      "Epoch 27/40\n",
      "48000/48000 - 3s - loss: 0.3600 - acc: 0.9005 - val_loss: 0.3387 - val_acc: 0.9080\n",
      "Epoch 28/40\n",
      "48000/48000 - 3s - loss: 0.3579 - acc: 0.9009 - val_loss: 0.3370 - val_acc: 0.9078\n",
      "Epoch 29/40\n",
      "48000/48000 - 3s - loss: 0.3557 - acc: 0.9014 - val_loss: 0.3353 - val_acc: 0.9087\n",
      "Epoch 30/40\n",
      "48000/48000 - 3s - loss: 0.3538 - acc: 0.9018 - val_loss: 0.3337 - val_acc: 0.9090\n",
      "Epoch 31/40\n",
      "48000/48000 - 3s - loss: 0.3519 - acc: 0.9026 - val_loss: 0.3321 - val_acc: 0.9091\n",
      "Epoch 32/40\n",
      "48000/48000 - 3s - loss: 0.3501 - acc: 0.9031 - val_loss: 0.3306 - val_acc: 0.9098\n",
      "Epoch 33/40\n",
      "48000/48000 - 3s - loss: 0.3484 - acc: 0.9034 - val_loss: 0.3293 - val_acc: 0.9096\n",
      "Epoch 34/40\n",
      "48000/48000 - 3s - loss: 0.3468 - acc: 0.9037 - val_loss: 0.3280 - val_acc: 0.9097\n",
      "Epoch 35/40\n",
      "48000/48000 - 3s - loss: 0.3452 - acc: 0.9039 - val_loss: 0.3267 - val_acc: 0.9099\n",
      "Epoch 36/40\n",
      "48000/48000 - 3s - loss: 0.3437 - acc: 0.9047 - val_loss: 0.3256 - val_acc: 0.9104\n",
      "Epoch 37/40\n",
      "48000/48000 - 3s - loss: 0.3423 - acc: 0.9048 - val_loss: 0.3243 - val_acc: 0.9107\n",
      "Epoch 38/40\n",
      "48000/48000 - 3s - loss: 0.3409 - acc: 0.9055 - val_loss: 0.3234 - val_acc: 0.9113\n",
      "Epoch 39/40\n",
      "48000/48000 - 3s - loss: 0.3396 - acc: 0.9055 - val_loss: 0.3221 - val_acc: 0.9112\n",
      "Epoch 40/40\n",
      "48000/48000 - 3s - loss: 0.3383 - acc: 0.9062 - val_loss: 0.3211 - val_acc: 0.9117\n"
     ]
    }
   ],
   "source": [
    "history = model.fit(x_train, y_train,\n",
    "                    validation_split=1 - trainFactor,\n",
    "                    epochs=epochs,\n",
    "                    batch_size=batch_size,\n",
    "                    verbose=2,\n",
    "                    )"
   ]
  },
  {
   "cell_type": "code",
   "execution_count": 6,
   "id": "376a481a",
   "metadata": {},
   "outputs": [
    {
     "data": {
      "image/png": "[encoded data removed]",
      "text/plain": [
       "<Figure size 432x288 with 1 Axes>"
      ]
     },
     "metadata": {
      "needs_background": "light"
     },
     "output_type": "display_data"
    }
   ],
   "source": [
    "import matplotlib.pyplot as plt\n",
    "plt.plot(history.history['loss'])\n",
    "plt.plot(history.history['val_loss'])\n",
    "plt.title('model loss')\n",
    "plt.ylabel('loss')\n",
    "plt.xlabel('epoch')\n",
    "plt.legend(['train', 'validation'], loc='upper left')\n",
    "\n",
    "plt.show()"
   ]
  },
  {
   "cell_type": "code",
   "execution_count": null,
   "id": "cc79c06b",
   "metadata": {},
   "outputs": [],
   "source": []
  }
 ],
 "metadata": {
  "kernelspec": {
   "display_name": "Python 3",
   "language": "python",
   "name": "python3"
  },
  "language_info": {
   "codemirror_mode": {
    "name": "ipython",
    "version": 3
   },
   "file_extension": ".py",
   "mimetype": "text/x-python",
   "name": "python",
   "nbconvert_exporter": "python",
   "pygments_lexer": "ipython3",
   "version": "3.6.13"
  }
 },
 "nbformat": 4,
 "nbformat_minor": 5
}
