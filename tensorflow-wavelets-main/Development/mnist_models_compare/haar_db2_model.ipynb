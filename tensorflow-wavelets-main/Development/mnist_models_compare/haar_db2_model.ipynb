{
 "cells": [
  {
   "cell_type": "code",
   "execution_count": 1,
   "metadata": {},
   "outputs": [],
   "source": [
    "import numpy as np\n",
    "import tensorflow as tf\n",
    "from tensorflow import keras\n",
    "from tensorflow.keras import layers\n",
    "from tensorflow.keras.utils import to_categorical\n",
    "\n",
    "import os\n",
    "import sys  \n",
    "sys.path.insert(0, 'G:\\\\My Drive\\\\Colab Notebooks\\\\MWCNN')\n",
    "import models.DWT2\n",
    "\n",
    "from tensorflow.keras.datasets import mnist\n",
    "from tensorflow.keras.optimizers import Adam, SGD"
   ]
  },
  {
   "cell_type": "code",
   "execution_count": 2,
   "metadata": {},
   "outputs": [],
   "source": [
    "nb_classes = 10\n",
    "batch_size = 32\n",
    "epochs = 30\n",
    "\n",
    "lr = 1e-4  # learning rate\n",
    "beta_1 = 0.9         # beta 1 - for adam optimizer\n",
    "beta_2 = 0.96        # beta 2 - for adam optimizer\n",
    "epsilon = 1e-7        # epsilon - for adam optimizer\n",
    "\n",
    "trainFactor = 0.8\n",
    "input_shape = (28, 28, 1)  # CIFAR-10 60,000 32X32 color\n",
    "\n",
    "# optimizer = Adam(learning_rate=lr, beta_1=beta_1, beta_2=beta_2, epsilon=epsilon)\n",
    "optimizer = SGD(lr=lr, momentum=beta_1)\n",
    "\n",
    "(x_train, y_train), (x_test, y_test) = mnist.load_data()\n",
    "\n",
    "# # Remove images to get smaller dataset\n",
    "# x_train = x_train[:1000, :, :]\n",
    "# y_train = y_train[:1000]\n",
    "# x_test = x_test[:500, :, :]\n",
    "# y_test = y_test[:500]\n",
    "\n",
    "\n",
    "y_train = to_categorical(y_train)\n",
    "y_test = to_categorical(y_test)\n",
    "x_train = x_train.astype('float32') / 255.0\n",
    "x_train = np.expand_dims(x_train, axis=-1)\n",
    "\n",
    "x_test = x_test.astype('float32') / 255.0\n",
    "x_test = np.expand_dims(x_test, axis=-1)\n"
   ]
  },
  {
   "cell_type": "code",
   "execution_count": 3,
   "metadata": {},
   "outputs": [
    {
     "name": "stdout",
     "output_type": "stream",
     "text": [
      "WARNING:tensorflow:From C:\\Users\\Olya\\Anaconda3\\envs\\dwtcnn\\lib\\site-packages\\tensorflow_core\\python\\ops\\resource_variable_ops.py:1630: calling BaseResourceVariable.__init__ (from tensorflow.python.ops.resource_variable_ops) with constraint is deprecated and will be removed in a future version.\n",
      "Instructions for updating:\n",
      "If using Keras pass *_constraint arguments to layers.\n",
      "Model: \"sequential\"\n",
      "_________________________________________________________________\n",
      "Layer (type)                 Output Shape              Param #   \n",
      "=================================================================\n",
      "conv2d (Conv2D)              (None, 26, 26, 32)        320       \n",
      "_________________________________________________________________\n",
      "dwt_haar (DWT)               (None, 13, 13, 128)       0         \n",
      "_________________________________________________________________\n",
      "conv2d_1 (Conv2D)            (None, 11, 11, 64)        73792     \n",
      "_________________________________________________________________\n",
      "dwt_1_db2 (DWT)              (None, 7, 7, 256)         0         \n",
      "_________________________________________________________________\n",
      "conv2d_2 (Conv2D)            (None, 5, 5, 128)         295040    \n",
      "_________________________________________________________________\n",
      "dropout (Dropout)            (None, 5, 5, 128)         0         \n",
      "_________________________________________________________________\n",
      "flatten (Flatten)            (None, 3200)              0         \n",
      "_________________________________________________________________\n",
      "dense (Dense)                (None, 10)                32010     \n",
      "=================================================================\n",
      "Total params: 401,162\n",
      "Trainable params: 401,162\n",
      "Non-trainable params: 0\n",
      "_________________________________________________________________\n"
     ]
    }
   ],
   "source": [
    "# load DWT db2 model\n",
    "model = keras.Sequential()\n",
    "model.add(keras.Input(shape=input_shape))\n",
    "model.add(keras.layers.Conv2D(32, (3, 3), activation=\"relu\"))\n",
    "model.add(models.DWT2.DWT(name=\"haar\"))\n",
    "model.add(keras.layers.Conv2D(64, (3, 3), activation=\"relu\"))\n",
    "model.add(models.DWT2.DWT(name=\"db2\"))\n",
    "model.add(keras.layers.Conv2D(128, (3, 3), activation=\"relu\"))\n",
    "model.add(keras.layers.Dropout(0.5))\n",
    "model.add(keras.layers.Flatten())\n",
    "model.add(keras.layers.Dense(nb_classes, activation=\"softmax\"))\n",
    "model.summary()\n"
   ]
  },
  {
   "cell_type": "code",
   "execution_count": 4,
   "metadata": {},
   "outputs": [],
   "source": [
    "model.compile(loss=\"categorical_crossentropy\",\n",
    "              optimizer=optimizer, metrics=[\"accuracy\"])"
   ]
  },
  {
   "cell_type": "code",
   "execution_count": 5,
   "metadata": {},
   "outputs": [
    {
     "name": "stdout",
     "output_type": "stream",
     "text": [
      "Train on 48000 samples, validate on 12000 samples\n",
      "Epoch 1/30\n",
      "48000/48000 - 21s - loss: 1.6273 - acc: 0.5059 - val_loss: 0.5395 - val_acc: 0.8612\n",
      "Epoch 2/30\n",
      "48000/48000 - 20s - loss: 0.5485 - acc: 0.8318 - val_loss: 0.3348 - val_acc: 0.9068\n",
      "Epoch 3/30\n",
      "48000/48000 - 20s - loss: 0.4029 - acc: 0.8784 - val_loss: 0.2725 - val_acc: 0.9233\n",
      "Epoch 4/30\n",
      "48000/48000 - 20s - loss: 0.3340 - acc: 0.9000 - val_loss: 0.2331 - val_acc: 0.9350\n",
      "Epoch 5/30\n",
      "48000/48000 - 20s - loss: 0.2894 - acc: 0.9140 - val_loss: 0.2048 - val_acc: 0.9430\n",
      "Epoch 6/30\n",
      "48000/48000 - 20s - loss: 0.2531 - acc: 0.9248 - val_loss: 0.1827 - val_acc: 0.9493\n",
      "Epoch 7/30\n",
      "48000/48000 - 20s - loss: 0.2300 - acc: 0.9319 - val_loss: 0.1662 - val_acc: 0.9532\n",
      "Epoch 8/30\n",
      "48000/48000 - 20s - loss: 0.2104 - acc: 0.9374 - val_loss: 0.1519 - val_acc: 0.9582\n",
      "Epoch 9/30\n",
      "48000/48000 - 20s - loss: 0.1949 - acc: 0.9419 - val_loss: 0.1412 - val_acc: 0.9614\n",
      "Epoch 10/30\n",
      "48000/48000 - 20s - loss: 0.1795 - acc: 0.9459 - val_loss: 0.1327 - val_acc: 0.9626\n",
      "Epoch 11/30\n",
      "48000/48000 - 20s - loss: 0.1683 - acc: 0.9502 - val_loss: 0.1254 - val_acc: 0.9655\n",
      "Epoch 12/30\n",
      "48000/48000 - 20s - loss: 0.1598 - acc: 0.9530 - val_loss: 0.1183 - val_acc: 0.9665\n",
      "Epoch 13/30\n",
      "48000/48000 - 20s - loss: 0.1528 - acc: 0.9547 - val_loss: 0.1133 - val_acc: 0.9675\n",
      "Epoch 14/30\n",
      "48000/48000 - 20s - loss: 0.1467 - acc: 0.9556 - val_loss: 0.1083 - val_acc: 0.9698\n",
      "Epoch 15/30\n",
      "48000/48000 - 20s - loss: 0.1393 - acc: 0.9584 - val_loss: 0.1030 - val_acc: 0.9706\n",
      "Epoch 16/30\n",
      "48000/48000 - 20s - loss: 0.1349 - acc: 0.9595 - val_loss: 0.1007 - val_acc: 0.9712\n",
      "Epoch 17/30\n",
      "48000/48000 - 20s - loss: 0.1265 - acc: 0.9625 - val_loss: 0.0974 - val_acc: 0.9718\n",
      "Epoch 18/30\n",
      "48000/48000 - 20s - loss: 0.1224 - acc: 0.9623 - val_loss: 0.0948 - val_acc: 0.9722\n",
      "Epoch 19/30\n",
      "48000/48000 - 20s - loss: 0.1191 - acc: 0.9644 - val_loss: 0.0912 - val_acc: 0.9738\n",
      "Epoch 20/30\n",
      "48000/48000 - 20s - loss: 0.1176 - acc: 0.9646 - val_loss: 0.0899 - val_acc: 0.9751\n",
      "Epoch 21/30\n",
      "48000/48000 - 20s - loss: 0.1122 - acc: 0.9659 - val_loss: 0.0864 - val_acc: 0.9754\n",
      "Epoch 22/30\n",
      "48000/48000 - 20s - loss: 0.1093 - acc: 0.9680 - val_loss: 0.0853 - val_acc: 0.9756\n",
      "Epoch 23/30\n",
      "48000/48000 - 20s - loss: 0.1059 - acc: 0.9674 - val_loss: 0.0825 - val_acc: 0.9762\n",
      "Epoch 24/30\n",
      "48000/48000 - 20s - loss: 0.1049 - acc: 0.9681 - val_loss: 0.0809 - val_acc: 0.9763\n",
      "Epoch 25/30\n",
      "48000/48000 - 20s - loss: 0.1000 - acc: 0.9696 - val_loss: 0.0793 - val_acc: 0.9764\n",
      "Epoch 26/30\n",
      "48000/48000 - 20s - loss: 0.0972 - acc: 0.9703 - val_loss: 0.0779 - val_acc: 0.9776\n",
      "Epoch 27/30\n",
      "48000/48000 - 20s - loss: 0.0934 - acc: 0.9715 - val_loss: 0.0764 - val_acc: 0.9775\n",
      "Epoch 28/30\n",
      "48000/48000 - 20s - loss: 0.0947 - acc: 0.9712 - val_loss: 0.0758 - val_acc: 0.9783\n",
      "Epoch 29/30\n",
      "48000/48000 - 20s - loss: 0.0908 - acc: 0.9718 - val_loss: 0.0734 - val_acc: 0.9787\n",
      "Epoch 30/30\n",
      "48000/48000 - 20s - loss: 0.0901 - acc: 0.9726 - val_loss: 0.0728 - val_acc: 0.9791\n"
     ]
    }
   ],
   "source": [
    "history = model.fit(x_train, y_train,\n",
    "                    validation_split=1 - trainFactor,\n",
    "                    epochs=epochs,\n",
    "                    batch_size=batch_size,\n",
    "                    verbose=2,\n",
    "                    )"
   ]
  },
  {
   "cell_type": "code",
   "execution_count": 6,
   "metadata": {},
   "outputs": [
    {
     "data": {
      "image/png": "[encoded data removed]",
      "text/plain": [
       "<Figure size 432x288 with 1 Axes>"
      ]
     },
     "metadata": {
      "needs_background": "light"
     },
     "output_type": "display_data"
    }
   ],
   "source": [
    "import matplotlib.pyplot as plt\n",
    "plt.plot(history.history['loss'])\n",
    "plt.plot(history.history['val_loss'])\n",
    "plt.title('model loss')\n",
    "plt.ylabel('loss')\n",
    "plt.xlabel('epoch')\n",
    "plt.legend(['train', 'validation'], loc='upper left')\n",
    "\n",
    "plt.show()"
   ]
  },
  {
   "cell_type": "code",
   "execution_count": null,
   "metadata": {},
   "outputs": [],
   "source": []
  }
 ],
 "metadata": {
  "kernelspec": {
   "display_name": "Python 3",
   "language": "python",
   "name": "python3"
  },
  "language_info": {
   "codemirror_mode": {
    "name": "ipython",
    "version": 3
   },
   "file_extension": ".py",
   "mimetype": "text/x-python",
   "name": "python",
   "nbconvert_exporter": "python",
   "pygments_lexer": "ipython3",
   "version": "3.6.9"
  }
 },
 "nbformat": 4,
 "nbformat_minor": 5
}
