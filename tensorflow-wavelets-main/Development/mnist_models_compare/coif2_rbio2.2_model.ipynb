{
 "cells": [
  {
   "cell_type": "code",
   "execution_count": 1,
   "id": "702756af",
   "metadata": {},
   "outputs": [],
   "source": [
    "import numpy as np\n",
    "import tensorflow as tf\n",
    "from tensorflow import keras\n",
    "from tensorflow.keras import layers\n",
    "from tensorflow.keras.utils import to_categorical\n",
    "\n",
    "import os\n",
    "import sys  \n",
    "sys.path.insert(0, 'G:\\\\My Drive\\\\Colab Notebooks\\\\MWCNN')\n",
    "import models.DWT2\n",
    "\n",
    "from tensorflow.keras.datasets import mnist\n",
    "from tensorflow.keras.optimizers import Adam, SGD"
   ]
  },
  {
   "cell_type": "code",
   "execution_count": 2,
   "id": "91254cf7",
   "metadata": {},
   "outputs": [],
   "source": [
    "nb_classes = 10\n",
    "batch_size = 32\n",
    "epochs = 30\n",
    "\n",
    "lr = 1e-4  # learning rate\n",
    "beta_1 = 0.9         # beta 1 - for adam optimizer\n",
    "beta_2 = 0.96        # beta 2 - for adam optimizer\n",
    "epsilon = 1e-7        # epsilon - for adam optimizer\n",
    "\n",
    "trainFactor = 0.8\n",
    "input_shape = (28, 28, 1) \n",
    "\n",
    "# optimizer = Adam(learning_rate=lr, beta_1=beta_1, beta_2=beta_2, epsilon=epsilon)\n",
    "optimizer = SGD(lr=lr, momentum=beta_1)\n",
    "\n",
    "(x_train, y_train), (x_test, y_test) = mnist.load_data()\n",
    "\n",
    "# # Remove images to get smaller dataset\n",
    "# x_train = x_train[:1000, :, :]\n",
    "# y_train = y_train[:1000]\n",
    "# x_test = x_test[:500, :, :]\n",
    "# y_test = y_test[:500]\n",
    "\n",
    "\n",
    "y_train = to_categorical(y_train)\n",
    "y_test = to_categorical(y_test)\n",
    "x_train = x_train.astype('float32') / 255.0\n",
    "x_train = np.expand_dims(x_train, axis=-1)\n",
    "\n",
    "x_test = x_test.astype('float32') / 255.0\n",
    "x_test = np.expand_dims(x_test, axis=-1)\n"
   ]
  },
  {
   "cell_type": "code",
   "execution_count": 3,
   "id": "59f14f83",
   "metadata": {},
   "outputs": [
    {
     "name": "stdout",
     "output_type": "stream",
     "text": [
      "WARNING:tensorflow:From C:\\Users\\Olya\\Anaconda3\\envs\\dwtcnn\\lib\\site-packages\\tensorflow_core\\python\\ops\\resource_variable_ops.py:1630: calling BaseResourceVariable.__init__ (from tensorflow.python.ops.resource_variable_ops) with constraint is deprecated and will be removed in a future version.\n",
      "Instructions for updating:\n",
      "If using Keras pass *_constraint arguments to layers.\n",
      "Model: \"sequential\"\n",
      "_________________________________________________________________\n",
      "Layer (type)                 Output Shape              Param #   \n",
      "=================================================================\n",
      "conv2d (Conv2D)              (None, 26, 26, 32)        320       \n",
      "_________________________________________________________________\n",
      "dwt_coif2 (DWT)              (None, 18, 18, 128)       0         \n",
      "_________________________________________________________________\n",
      "conv2d_1 (Conv2D)            (None, 16, 16, 64)        73792     \n",
      "_________________________________________________________________\n",
      "dwt_1_rbio2.2 (DWT)          (None, 10, 10, 256)       0         \n",
      "_________________________________________________________________\n",
      "conv2d_2 (Conv2D)            (None, 8, 8, 128)         295040    \n",
      "_________________________________________________________________\n",
      "dropout (Dropout)            (None, 8, 8, 128)         0         \n",
      "_________________________________________________________________\n",
      "flatten (Flatten)            (None, 8192)              0         \n",
      "_________________________________________________________________\n",
      "dense (Dense)                (None, 10)                81930     \n",
      "=================================================================\n",
      "Total params: 451,082\n",
      "Trainable params: 451,082\n",
      "Non-trainable params: 0\n",
      "_________________________________________________________________\n"
     ]
    }
   ],
   "source": [
    "# load DWT db2 model\n",
    "model = keras.Sequential()\n",
    "model.add(keras.Input(shape=input_shape))\n",
    "model.add(keras.layers.Conv2D(32, (3, 3), activation=\"relu\"))\n",
    "model.add(models.DWT2.DWT(name=\"coif2\"))\n",
    "model.add(keras.layers.Conv2D(64, (3, 3), activation=\"relu\"))\n",
    "model.add(models.DWT2.DWT(name=\"rbio2.2\"))\n",
    "model.add(keras.layers.Conv2D(128, (3, 3), activation=\"relu\"))\n",
    "model.add(keras.layers.Dropout(0.5))\n",
    "model.add(keras.layers.Flatten())\n",
    "model.add(keras.layers.Dense(nb_classes, activation=\"softmax\"))\n",
    "model.summary()\n"
   ]
  },
  {
   "cell_type": "code",
   "execution_count": 4,
   "id": "d30a39ec",
   "metadata": {},
   "outputs": [],
   "source": [
    "model.compile(loss=\"categorical_crossentropy\",\n",
    "              optimizer=optimizer, metrics=[\"accuracy\"])"
   ]
  },
  {
   "cell_type": "code",
   "execution_count": 5,
   "id": "d5a936c3",
   "metadata": {},
   "outputs": [
    {
     "name": "stdout",
     "output_type": "stream",
     "text": [
      "Train on 48000 samples, validate on 12000 samples\n",
      "Epoch 1/30\n",
      "48000/48000 - 40s - loss: 1.5350 - acc: 0.5437 - val_loss: 0.4800 - val_acc: 0.8736\n",
      "Epoch 2/30\n",
      "48000/48000 - 39s - loss: 0.4889 - acc: 0.8553 - val_loss: 0.3222 - val_acc: 0.9097\n",
      "Epoch 3/30\n",
      "48000/48000 - 39s - loss: 0.3690 - acc: 0.8920 - val_loss: 0.2694 - val_acc: 0.9227\n",
      "Epoch 4/30\n",
      "48000/48000 - 39s - loss: 0.3127 - acc: 0.9090 - val_loss: 0.2319 - val_acc: 0.9344\n",
      "Epoch 5/30\n",
      "48000/48000 - 39s - loss: 0.2695 - acc: 0.9212 - val_loss: 0.2070 - val_acc: 0.9427\n",
      "Epoch 6/30\n",
      "48000/48000 - 39s - loss: 0.2385 - acc: 0.9301 - val_loss: 0.1824 - val_acc: 0.9488\n",
      "Epoch 7/30\n",
      "48000/48000 - 39s - loss: 0.2134 - acc: 0.9375 - val_loss: 0.1633 - val_acc: 0.9547\n",
      "Epoch 8/30\n",
      "48000/48000 - 39s - loss: 0.1933 - acc: 0.9437 - val_loss: 0.1498 - val_acc: 0.9589\n",
      "Epoch 9/30\n",
      "48000/48000 - 39s - loss: 0.1795 - acc: 0.9476 - val_loss: 0.1408 - val_acc: 0.9599\n",
      "Epoch 10/30\n",
      "48000/48000 - 39s - loss: 0.1684 - acc: 0.9506 - val_loss: 0.1292 - val_acc: 0.9641\n",
      "Epoch 11/30\n",
      "48000/48000 - 39s - loss: 0.1578 - acc: 0.9534 - val_loss: 0.1218 - val_acc: 0.9656\n",
      "Epoch 12/30\n",
      "48000/48000 - 39s - loss: 0.1474 - acc: 0.9557 - val_loss: 0.1149 - val_acc: 0.9673\n",
      "Epoch 13/30\n",
      "48000/48000 - 39s - loss: 0.1397 - acc: 0.9586 - val_loss: 0.1098 - val_acc: 0.9689\n",
      "Epoch 14/30\n",
      "48000/48000 - 39s - loss: 0.1336 - acc: 0.9607 - val_loss: 0.1051 - val_acc: 0.9703\n",
      "Epoch 15/30\n",
      "48000/48000 - 39s - loss: 0.1266 - acc: 0.9620 - val_loss: 0.1010 - val_acc: 0.9718\n",
      "Epoch 16/30\n",
      "48000/48000 - 39s - loss: 0.1210 - acc: 0.9642 - val_loss: 0.0982 - val_acc: 0.9709\n",
      "Epoch 17/30\n",
      "48000/48000 - 39s - loss: 0.1148 - acc: 0.9657 - val_loss: 0.0937 - val_acc: 0.9732\n",
      "Epoch 18/30\n",
      "48000/48000 - 39s - loss: 0.1118 - acc: 0.9663 - val_loss: 0.0904 - val_acc: 0.9736\n",
      "Epoch 19/30\n",
      "48000/48000 - 39s - loss: 0.1071 - acc: 0.9677 - val_loss: 0.0888 - val_acc: 0.9737\n",
      "Epoch 20/30\n",
      "48000/48000 - 40s - loss: 0.1051 - acc: 0.9684 - val_loss: 0.0856 - val_acc: 0.9754\n",
      "Epoch 21/30\n",
      "48000/48000 - 39s - loss: 0.1003 - acc: 0.9706 - val_loss: 0.0830 - val_acc: 0.9753\n",
      "Epoch 22/30\n",
      "48000/48000 - 39s - loss: 0.0992 - acc: 0.9703 - val_loss: 0.0820 - val_acc: 0.9755\n",
      "Epoch 23/30\n",
      "48000/48000 - 39s - loss: 0.0964 - acc: 0.9708 - val_loss: 0.0810 - val_acc: 0.9765\n",
      "Epoch 24/30\n",
      "48000/48000 - 39s - loss: 0.0919 - acc: 0.9727 - val_loss: 0.0783 - val_acc: 0.9768\n",
      "Epoch 25/30\n",
      "48000/48000 - 39s - loss: 0.0909 - acc: 0.9724 - val_loss: 0.0758 - val_acc: 0.9767\n",
      "Epoch 26/30\n",
      "48000/48000 - 39s - loss: 0.0879 - acc: 0.9740 - val_loss: 0.0743 - val_acc: 0.9774\n",
      "Epoch 27/30\n",
      "48000/48000 - 39s - loss: 0.0858 - acc: 0.9742 - val_loss: 0.0736 - val_acc: 0.9768\n",
      "Epoch 28/30\n",
      "48000/48000 - 39s - loss: 0.0837 - acc: 0.9744 - val_loss: 0.0739 - val_acc: 0.9782\n",
      "Epoch 29/30\n",
      "48000/48000 - 39s - loss: 0.0817 - acc: 0.9747 - val_loss: 0.0711 - val_acc: 0.9783\n",
      "Epoch 30/30\n",
      "48000/48000 - 39s - loss: 0.0796 - acc: 0.9752 - val_loss: 0.0711 - val_acc: 0.9780\n"
     ]
    }
   ],
   "source": [
    "history = model.fit(x_train, y_train,\n",
    "                    validation_split=1 - trainFactor,\n",
    "                    epochs=epochs,\n",
    "                    batch_size=batch_size,\n",
    "                    verbose=2,\n",
    "                    )"
   ]
  },
  {
   "cell_type": "code",
   "execution_count": 6,
   "id": "4564fcb4",
   "metadata": {},
   "outputs": [
    {
     "data": {
      "image/png": "[encoded data removed]",
      "text/plain": [
       "<Figure size 432x288 with 1 Axes>"
      ]
     },
     "metadata": {
      "needs_background": "light"
     },
     "output_type": "display_data"
    }
   ],
   "source": [
    "import matplotlib.pyplot as plt\n",
    "plt.plot(history.history['loss'])\n",
    "plt.plot(history.history['val_loss'])\n",
    "plt.title('model loss')\n",
    "plt.ylabel('loss')\n",
    "plt.xlabel('epoch')\n",
    "plt.legend(['train', 'validation'], loc='upper left')\n",
    "\n",
    "plt.show()"
   ]
  },
  {
   "cell_type": "code",
   "execution_count": null,
   "id": "4454b038",
   "metadata": {},
   "outputs": [],
   "source": []
  }
 ],
 "metadata": {
  "kernelspec": {
   "display_name": "Python 3",
   "language": "python",
   "name": "python3"
  },
  "language_info": {
   "codemirror_mode": {
    "name": "ipython",
    "version": 3
   },
   "file_extension": ".py",
   "mimetype": "text/x-python",
   "name": "python",
   "nbconvert_exporter": "python",
   "pygments_lexer": "ipython3",
   "version": "3.6.13"
  }
 },
 "nbformat": 4,
 "nbformat_minor": 5
}
