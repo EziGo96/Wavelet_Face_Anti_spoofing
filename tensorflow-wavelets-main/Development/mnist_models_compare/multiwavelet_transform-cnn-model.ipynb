{
 "cells": [
  {
   "cell_type": "code",
   "execution_count": 1,
   "id": "a177ec7d",
   "metadata": {},
   "outputs": [],
   "source": [
    "import numpy as np\n",
    "import tensorflow as tf\n",
    "from tensorflow import keras\n",
    "from tensorflow.keras import layers, Model\n",
    "from tensorflow.keras.utils import to_categorical\n",
    "\n",
    "import os\n",
    "import sys  \n",
    "sys.path.insert(0, 'G:\\\\My Drive\\\\Colab Notebooks\\\\MWCNN')\n",
    "\n",
    "from Layers.DMWT import *\n",
    "from tensorflow.keras.datasets import mnist\n",
    "from tensorflow.keras.optimizers import Adam, SGD"
   ]
  },
  {
   "cell_type": "code",
   "execution_count": 2,
   "id": "ba52173b",
   "metadata": {},
   "outputs": [],
   "source": [
    "nb_classes = 10\n",
    "batch_size = 32\n",
    "epochs = 40\n",
    "\n",
    "lr = 1e-4  # learning rate\n",
    "beta_1 = 0.9         # beta 1 - for adam optimizer\n",
    "beta_2 = 0.96        # beta 2 - for adam optimizer\n",
    "epsilon = 1e-7        # epsilon - for adam optimizer\n",
    "\n",
    "trainFactor = 0.8\n",
    "input_shape = (28, 28, 1) \n",
    "\n",
    "# optimizer = Adam(learning_rate=lr, beta_1=beta_1, beta_2=beta_2, epsilon=epsilon)\n",
    "optimizer = SGD(lr=lr, momentum=beta_1)\n",
    "\n",
    "(x_train, y_train), (x_test, y_test) = mnist.load_data()\n",
    "\n",
    "y_train = to_categorical(y_train)\n",
    "y_test = to_categorical(y_test)\n",
    "x_train = x_train.astype('float32') / 255.0\n",
    "x_train = np.expand_dims(x_train, axis=-1)\n",
    "\n",
    "x_test = x_test.astype('float32') / 255.0\n",
    "x_test = np.expand_dims(x_test, axis=-1)\n"
   ]
  },
  {
   "cell_type": "code",
   "execution_count": 3,
   "id": "33273bbf",
   "metadata": {},
   "outputs": [
    {
     "name": "stdout",
     "output_type": "stream",
     "text": [
      "WARNING:tensorflow:From C:\\Users\\Olya\\Anaconda3\\envs\\dwtcnn\\lib\\site-packages\\tensorflow_core\\python\\ops\\resource_variable_ops.py:1630: calling BaseResourceVariable.__init__ (from tensorflow.python.ops.resource_variable_ops) with constraint is deprecated and will be removed in a future version.\n",
      "Instructions for updating:\n",
      "If using Keras pass *_constraint arguments to layers.\n",
      "Model: \"mymodel\"\n",
      "_________________________________________________________________\n",
      "Layer (type)                 Output Shape              Param #   \n",
      "=================================================================\n",
      "input_1 (InputLayer)         [(None, 28, 28, 1)]       0         \n",
      "_________________________________________________________________\n",
      "conv2d (Conv2D)              (None, 28, 28, 28)        280       \n",
      "_________________________________________________________________\n",
      "dmwt (DMWT)                  (None, 56, 56, 28)        0         \n",
      "_________________________________________________________________\n",
      "conv2d_1 (Conv2D)            (None, 56, 56, 56)        14168     \n",
      "_________________________________________________________________\n",
      "dropout (Dropout)            (None, 56, 56, 56)        0         \n",
      "_________________________________________________________________\n",
      "flatten (Flatten)            (None, 175616)            0         \n",
      "_________________________________________________________________\n",
      "dense (Dense)                (None, 10)                1756170   \n",
      "=================================================================\n",
      "Total params: 1,770,618\n",
      "Trainable params: 1,770,618\n",
      "Non-trainable params: 0\n",
      "_________________________________________________________________\n"
     ]
    }
   ],
   "source": [
    "# load DWT db2 model\n",
    "input_shape = (28, 28, 1) \n",
    "\n",
    "x_input = layers.Input(shape=input_shape)\n",
    "x = layers.Conv2D(28, (3, 3), padding='same', activation=\"relu\")(x_input)\n",
    "x = DMWT()(x)\n",
    "x = layers.Conv2D(56, (3, 3), padding='same', activation=\"relu\")(x)\n",
    "x = layers.Dropout(0.5)(x)\n",
    "x = layers.Flatten()(x)\n",
    "x = layers.Dense(nb_classes, activation=\"softmax\")(x)\n",
    "\n",
    "model = Model(x_input, x, name=\"mymodel\")\n",
    "model.summary()\n",
    "\n"
   ]
  },
  {
   "cell_type": "code",
   "execution_count": 4,
   "id": "30715c34",
   "metadata": {},
   "outputs": [],
   "source": [
    "model.compile(loss=\"categorical_crossentropy\",\n",
    "              optimizer=optimizer, metrics=[\"accuracy\"])"
   ]
  },
  {
   "cell_type": "code",
   "execution_count": 5,
   "id": "178e4e7d",
   "metadata": {},
   "outputs": [
    {
     "name": "stdout",
     "output_type": "stream",
     "text": [
      "Train on 48000 samples, validate on 12000 samples\n",
      "Epoch 1/40\n",
      "48000/48000 - 128s - loss: 0.9235 - acc: 0.7837 - val_loss: 0.3674 - val_acc: 0.8973\n",
      "Epoch 2/40\n",
      "48000/48000 - 127s - loss: 0.3828 - acc: 0.8885 - val_loss: 0.3131 - val_acc: 0.9118\n",
      "Epoch 3/40\n",
      "48000/48000 - 124s - loss: 0.3401 - acc: 0.9001 - val_loss: 0.2856 - val_acc: 0.9195\n",
      "Epoch 4/40\n",
      "48000/48000 - 123s - loss: 0.3119 - acc: 0.9088 - val_loss: 0.2658 - val_acc: 0.9246\n",
      "Epoch 5/40\n",
      "48000/48000 - 123s - loss: 0.2866 - acc: 0.9175 - val_loss: 0.2453 - val_acc: 0.9317\n",
      "Epoch 6/40\n",
      "48000/48000 - 123s - loss: 0.2633 - acc: 0.9241 - val_loss: 0.2226 - val_acc: 0.9371\n",
      "Epoch 7/40\n",
      "48000/48000 - 125s - loss: 0.2376 - acc: 0.9320 - val_loss: 0.2030 - val_acc: 0.9442\n",
      "Epoch 8/40\n",
      "48000/48000 - 124s - loss: 0.2166 - acc: 0.9386 - val_loss: 0.1843 - val_acc: 0.9495\n",
      "Epoch 9/40\n",
      "48000/48000 - 124s - loss: 0.1957 - acc: 0.9449 - val_loss: 0.1666 - val_acc: 0.9561\n",
      "Epoch 10/40\n",
      "48000/48000 - 124s - loss: 0.1748 - acc: 0.9511 - val_loss: 0.1508 - val_acc: 0.9592\n",
      "Epoch 11/40\n",
      "48000/48000 - 124s - loss: 0.1587 - acc: 0.9557 - val_loss: 0.1381 - val_acc: 0.9631\n",
      "Epoch 12/40\n",
      "48000/48000 - 124s - loss: 0.1442 - acc: 0.9590 - val_loss: 0.1273 - val_acc: 0.9659\n",
      "Epoch 13/40\n",
      "48000/48000 - 124s - loss: 0.1330 - acc: 0.9626 - val_loss: 0.1176 - val_acc: 0.9697\n",
      "Epoch 14/40\n",
      "48000/48000 - 124s - loss: 0.1222 - acc: 0.9653 - val_loss: 0.1132 - val_acc: 0.9692\n",
      "Epoch 15/40\n",
      "48000/48000 - 124s - loss: 0.1142 - acc: 0.9674 - val_loss: 0.1039 - val_acc: 0.9726\n",
      "Epoch 16/40\n",
      "48000/48000 - 124s - loss: 0.1075 - acc: 0.9689 - val_loss: 0.0983 - val_acc: 0.9734\n",
      "Epoch 17/40\n",
      "48000/48000 - 124s - loss: 0.1011 - acc: 0.9714 - val_loss: 0.0943 - val_acc: 0.9745\n",
      "Epoch 18/40\n",
      "48000/48000 - 124s - loss: 0.0955 - acc: 0.9729 - val_loss: 0.0923 - val_acc: 0.9746\n",
      "Epoch 19/40\n",
      "48000/48000 - 124s - loss: 0.0918 - acc: 0.9732 - val_loss: 0.0866 - val_acc: 0.9768\n",
      "Epoch 20/40\n",
      "48000/48000 - 124s - loss: 0.0882 - acc: 0.9754 - val_loss: 0.0851 - val_acc: 0.9770\n",
      "Epoch 21/40\n",
      "48000/48000 - 124s - loss: 0.0850 - acc: 0.9758 - val_loss: 0.0813 - val_acc: 0.9769\n",
      "Epoch 22/40\n",
      "48000/48000 - 124s - loss: 0.0811 - acc: 0.9763 - val_loss: 0.0807 - val_acc: 0.9767\n",
      "Epoch 23/40\n",
      "48000/48000 - 124s - loss: 0.0783 - acc: 0.9779 - val_loss: 0.0782 - val_acc: 0.9770\n",
      "Epoch 24/40\n",
      "48000/48000 - 124s - loss: 0.0762 - acc: 0.9780 - val_loss: 0.0763 - val_acc: 0.9782\n",
      "Epoch 25/40\n",
      "48000/48000 - 124s - loss: 0.0736 - acc: 0.9789 - val_loss: 0.0756 - val_acc: 0.9789\n",
      "Epoch 26/40\n",
      "48000/48000 - 124s - loss: 0.0723 - acc: 0.9791 - val_loss: 0.0733 - val_acc: 0.9787\n",
      "Epoch 27/40\n",
      "48000/48000 - 124s - loss: 0.0700 - acc: 0.9796 - val_loss: 0.0727 - val_acc: 0.9792\n",
      "Epoch 28/40\n",
      "48000/48000 - 124s - loss: 0.0680 - acc: 0.9805 - val_loss: 0.0711 - val_acc: 0.9798\n",
      "Epoch 29/40\n",
      "48000/48000 - 124s - loss: 0.0673 - acc: 0.9805 - val_loss: 0.0708 - val_acc: 0.9804\n",
      "Epoch 30/40\n",
      "48000/48000 - 124s - loss: 0.0654 - acc: 0.9805 - val_loss: 0.0704 - val_acc: 0.9792\n",
      "Epoch 31/40\n",
      "48000/48000 - 124s - loss: 0.0641 - acc: 0.9811 - val_loss: 0.0694 - val_acc: 0.9801\n",
      "Epoch 32/40\n",
      "48000/48000 - 124s - loss: 0.0623 - acc: 0.9816 - val_loss: 0.0681 - val_acc: 0.9807\n",
      "Epoch 33/40\n",
      "48000/48000 - 124s - loss: 0.0607 - acc: 0.9818 - val_loss: 0.0671 - val_acc: 0.9807\n",
      "Epoch 34/40\n",
      "48000/48000 - 124s - loss: 0.0605 - acc: 0.9821 - val_loss: 0.0669 - val_acc: 0.9807\n",
      "Epoch 35/40\n",
      "48000/48000 - 124s - loss: 0.0591 - acc: 0.9819 - val_loss: 0.0652 - val_acc: 0.9808\n",
      "Epoch 36/40\n",
      "48000/48000 - 124s - loss: 0.0589 - acc: 0.9824 - val_loss: 0.0650 - val_acc: 0.9813\n",
      "Epoch 37/40\n",
      "48000/48000 - 124s - loss: 0.0572 - acc: 0.9830 - val_loss: 0.0651 - val_acc: 0.9809\n",
      "Epoch 38/40\n",
      "48000/48000 - 124s - loss: 0.0568 - acc: 0.9830 - val_loss: 0.0652 - val_acc: 0.9810\n",
      "Epoch 39/40\n",
      "48000/48000 - 124s - loss: 0.0540 - acc: 0.9839 - val_loss: 0.0637 - val_acc: 0.9808\n",
      "Epoch 40/40\n",
      "48000/48000 - 124s - loss: 0.0542 - acc: 0.9840 - val_loss: 0.0626 - val_acc: 0.9816\n"
     ]
    }
   ],
   "source": [
    "history = model.fit(x_train, y_train,\n",
    "                    validation_split=1 - trainFactor,\n",
    "                    epochs=epochs,\n",
    "                    batch_size=batch_size,\n",
    "                    verbose=2,\n",
    "                    )"
   ]
  },
  {
   "cell_type": "code",
   "execution_count": 6,
   "id": "376a481a",
   "metadata": {},
   "outputs": [
    {
     "data": {
      "image/png": "[encoded data removed]",
      "text/plain": [
       "<Figure size 432x288 with 1 Axes>"
      ]
     },
     "metadata": {
      "needs_background": "light"
     },
     "output_type": "display_data"
    }
   ],
   "source": [
    "import matplotlib.pyplot as plt\n",
    "plt.plot(history.history['loss'])\n",
    "plt.plot(history.history['val_loss'])\n",
    "plt.title('model loss')\n",
    "plt.ylabel('loss')\n",
    "plt.xlabel('epoch')\n",
    "plt.legend(['train', 'validation'], loc='upper left')\n",
    "\n",
    "plt.show()"
   ]
  },
  {
   "cell_type": "code",
   "execution_count": null,
   "id": "cc79c06b",
   "metadata": {},
   "outputs": [],
   "source": []
  }
 ],
 "metadata": {
  "kernelspec": {
   "display_name": "Python 3",
   "language": "python",
   "name": "python3"
  },
  "language_info": {
   "codemirror_mode": {
    "name": "ipython",
    "version": 3
   },
   "file_extension": ".py",
   "mimetype": "text/x-python",
   "name": "python",
   "nbconvert_exporter": "python",
   "pygments_lexer": "ipython3",
   "version": "3.6.13"
  }
 },
 "nbformat": 4,
 "nbformat_minor": 5
}
