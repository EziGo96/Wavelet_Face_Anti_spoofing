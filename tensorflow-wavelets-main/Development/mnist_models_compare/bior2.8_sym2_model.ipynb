{
 "cells": [
  {
   "cell_type": "code",
   "execution_count": 1,
   "metadata": {},
   "outputs": [
    {
     "name": "stdout",
     "output_type": "stream",
     "text": [
      "1.15.0\n"
     ]
    }
   ],
   "source": [
    "import numpy as np\n",
    "import tensorflow as tf\n",
    "print(tf.__version__)\n",
    "from tensorflow import keras\n",
    "from tensorflow.keras import layers\n",
    "from tensorflow.keras.utils import to_categorical\n",
    "\n",
    "import os\n",
    "import sys  \n",
    "sys.path.insert(0, 'G:\\\\My Drive\\\\Colab Notebooks\\\\MWCNN')\n",
    "import models.DWT2\n",
    "\n",
    "from tensorflow.keras.datasets import mnist\n",
    "from tensorflow.keras.optimizers import Adam, SGD\n"
   ]
  },
  {
   "cell_type": "code",
   "execution_count": 2,
   "metadata": {},
   "outputs": [],
   "source": [
    "nb_classes = 10\n",
    "batch_size = 32\n",
    "epochs = 30\n",
    "\n",
    "lr = 1e-4  # learning rate\n",
    "beta_1 = 0.9         # beta 1 - for adam optimizer\n",
    "beta_2 = 0.96        # beta 2 - for adam optimizer\n",
    "epsilon = 1e-7        # epsilon - for adam optimizer\n",
    "\n",
    "trainFactor = 0.8\n",
    "input_shape = (28, 28, 1) \n",
    "\n",
    "# optimizer = Adam(learning_rate=lr, beta_1=beta_1, beta_2=beta_2, epsilon=epsilon)\n",
    "optimizer = SGD(lr=lr, momentum=beta_1)\n",
    "\n",
    "(x_train, y_train), (x_test, y_test) = mnist.load_data()\n",
    "\n",
    "# # Remove images to get smaller dataset\n",
    "# x_train = x_train[:1000, :, :]\n",
    "# y_train = y_train[:1000]\n",
    "# x_test = x_test[:500, :, :]\n",
    "# y_test = y_test[:500]\n",
    "\n",
    "\n",
    "y_train = to_categorical(y_train)\n",
    "y_test = to_categorical(y_test)\n",
    "x_train = x_train.astype('float32') / 255.0\n",
    "x_train = np.expand_dims(x_train, axis=-1)\n",
    "\n",
    "x_test = x_test.astype('float32') / 255.0\n",
    "x_test = np.expand_dims(x_test, axis=-1)\n"
   ]
  },
  {
   "cell_type": "code",
   "execution_count": 3,
   "metadata": {},
   "outputs": [
    {
     "name": "stdout",
     "output_type": "stream",
     "text": [
      "WARNING:tensorflow:From C:\\Users\\Olya\\Anaconda3\\envs\\dwtcnn\\lib\\site-packages\\tensorflow_core\\python\\ops\\resource_variable_ops.py:1630: calling BaseResourceVariable.__init__ (from tensorflow.python.ops.resource_variable_ops) with constraint is deprecated and will be removed in a future version.\n",
      "Instructions for updating:\n",
      "If using Keras pass *_constraint arguments to layers.\n",
      "Model: \"sequential\"\n",
      "_________________________________________________________________\n",
      "Layer (type)                 Output Shape              Param #   \n",
      "=================================================================\n",
      "conv2d (Conv2D)              (None, 26, 26, 32)        320       \n",
      "_________________________________________________________________\n",
      "dwt_bior2.8 (DWT)            (None, 21, 21, 128)       0         \n",
      "_________________________________________________________________\n",
      "conv2d_1 (Conv2D)            (None, 19, 19, 64)        73792     \n",
      "_________________________________________________________________\n",
      "dwt_1_sym2 (DWT)             (None, 11, 11, 256)       0         \n",
      "_________________________________________________________________\n",
      "conv2d_2 (Conv2D)            (None, 9, 9, 128)         295040    \n",
      "_________________________________________________________________\n",
      "dropout (Dropout)            (None, 9, 9, 128)         0         \n",
      "_________________________________________________________________\n",
      "flatten (Flatten)            (None, 10368)             0         \n",
      "_________________________________________________________________\n",
      "dense (Dense)                (None, 10)                103690    \n",
      "=================================================================\n",
      "Total params: 472,842\n",
      "Trainable params: 472,842\n",
      "Non-trainable params: 0\n",
      "_________________________________________________________________\n"
     ]
    }
   ],
   "source": [
    "# load DWT db2 model\n",
    "model = keras.Sequential()\n",
    "model.add(keras.Input(shape=input_shape))\n",
    "model.add(keras.layers.Conv2D(32, (3, 3)))\n",
    "model.add(models.DWT2.DWT(name=\"bior2.8\"))\n",
    "model.add(keras.layers.Conv2D(64, (3, 3)))\n",
    "model.add(models.DWT2.DWT(name=\"sym2\"))\n",
    "model.add(keras.layers.Conv2D(128, (3, 3)))\n",
    "model.add(keras.layers.Dropout(0.5))\n",
    "model.add(keras.layers.Flatten())\n",
    "model.add(keras.layers.Dense(nb_classes, activation=\"softmax\"))\n",
    "model.summary()\n"
   ]
  },
  {
   "cell_type": "code",
   "execution_count": 4,
   "metadata": {},
   "outputs": [],
   "source": [
    "model.compile(loss=\"categorical_crossentropy\",\n",
    "              optimizer=optimizer, metrics=[\"accuracy\"])"
   ]
  },
  {
   "cell_type": "code",
   "execution_count": 5,
   "metadata": {},
   "outputs": [
    {
     "name": "stdout",
     "output_type": "stream",
     "text": [
      "Train on 48000 samples, validate on 12000 samples\n",
      "Epoch 1/30\n",
      "48000/48000 - 55s - loss: 1.1271 - acc: 0.6923 - val_loss: 0.3945 - val_acc: 0.8886\n",
      "Epoch 2/30\n",
      "48000/48000 - 53s - loss: 0.4263 - acc: 0.8729 - val_loss: 0.3300 - val_acc: 0.9051\n",
      "Epoch 3/30\n",
      "48000/48000 - 53s - loss: 0.3844 - acc: 0.8858 - val_loss: 0.3133 - val_acc: 0.9100\n",
      "Epoch 4/30\n",
      "48000/48000 - 53s - loss: 0.3646 - acc: 0.8919 - val_loss: 0.3040 - val_acc: 0.9131\n",
      "Epoch 5/30\n",
      "48000/48000 - 53s - loss: 0.3544 - acc: 0.8959 - val_loss: 0.2991 - val_acc: 0.9136\n",
      "Epoch 6/30\n",
      "48000/48000 - 53s - loss: 0.3463 - acc: 0.8979 - val_loss: 0.2959 - val_acc: 0.9160\n",
      "Epoch 7/30\n",
      "48000/48000 - 53s - loss: 0.3399 - acc: 0.9001 - val_loss: 0.2912 - val_acc: 0.9168\n",
      "Epoch 8/30\n",
      "48000/48000 - 52s - loss: 0.3366 - acc: 0.9025 - val_loss: 0.2888 - val_acc: 0.9170\n",
      "Epoch 9/30\n",
      "48000/48000 - 51s - loss: 0.3286 - acc: 0.9039 - val_loss: 0.2862 - val_acc: 0.9190\n",
      "Epoch 10/30\n",
      "48000/48000 - 51s - loss: 0.3253 - acc: 0.9055 - val_loss: 0.2848 - val_acc: 0.9187\n",
      "Epoch 11/30\n",
      "48000/48000 - 51s - loss: 0.3248 - acc: 0.9059 - val_loss: 0.2828 - val_acc: 0.9201\n",
      "Epoch 12/30\n",
      "48000/48000 - 51s - loss: 0.3217 - acc: 0.9065 - val_loss: 0.2803 - val_acc: 0.9212\n",
      "Epoch 13/30\n",
      "48000/48000 - 51s - loss: 0.3195 - acc: 0.9080 - val_loss: 0.2805 - val_acc: 0.9220\n",
      "Epoch 14/30\n",
      "48000/48000 - 51s - loss: 0.3165 - acc: 0.9087 - val_loss: 0.2784 - val_acc: 0.9227\n",
      "Epoch 15/30\n",
      "48000/48000 - 51s - loss: 0.3150 - acc: 0.9098 - val_loss: 0.2774 - val_acc: 0.9233\n",
      "Epoch 16/30\n",
      "48000/48000 - 51s - loss: 0.3125 - acc: 0.9093 - val_loss: 0.2767 - val_acc: 0.9220\n",
      "Epoch 17/30\n",
      "48000/48000 - 51s - loss: 0.3103 - acc: 0.9112 - val_loss: 0.2765 - val_acc: 0.9227\n",
      "Epoch 18/30\n",
      "48000/48000 - 51s - loss: 0.3101 - acc: 0.9114 - val_loss: 0.2765 - val_acc: 0.9234\n",
      "Epoch 19/30\n",
      "48000/48000 - 51s - loss: 0.3063 - acc: 0.9121 - val_loss: 0.2738 - val_acc: 0.9236\n",
      "Epoch 20/30\n",
      "48000/48000 - 51s - loss: 0.3063 - acc: 0.9126 - val_loss: 0.2739 - val_acc: 0.9232\n",
      "Epoch 21/30\n",
      "48000/48000 - 51s - loss: 0.3076 - acc: 0.9114 - val_loss: 0.2734 - val_acc: 0.9237\n",
      "Epoch 22/30\n",
      "48000/48000 - 51s - loss: 0.3044 - acc: 0.9124 - val_loss: 0.2736 - val_acc: 0.9235\n",
      "Epoch 23/30\n",
      "48000/48000 - 51s - loss: 0.3031 - acc: 0.9135 - val_loss: 0.2731 - val_acc: 0.9227\n",
      "Epoch 24/30\n",
      "48000/48000 - 51s - loss: 0.3032 - acc: 0.9135 - val_loss: 0.2724 - val_acc: 0.9233\n",
      "Epoch 25/30\n",
      "48000/48000 - 51s - loss: 0.3006 - acc: 0.9145 - val_loss: 0.2718 - val_acc: 0.9249\n",
      "Epoch 26/30\n",
      "48000/48000 - 51s - loss: 0.3015 - acc: 0.9149 - val_loss: 0.2711 - val_acc: 0.9249\n",
      "Epoch 27/30\n",
      "48000/48000 - 51s - loss: 0.2996 - acc: 0.9149 - val_loss: 0.2711 - val_acc: 0.9256\n",
      "Epoch 28/30\n",
      "48000/48000 - 51s - loss: 0.2996 - acc: 0.9146 - val_loss: 0.2696 - val_acc: 0.9247\n",
      "Epoch 29/30\n",
      "48000/48000 - 51s - loss: 0.2990 - acc: 0.9153 - val_loss: 0.2714 - val_acc: 0.9247\n",
      "Epoch 30/30\n",
      "48000/48000 - 51s - loss: 0.2958 - acc: 0.9156 - val_loss: 0.2700 - val_acc: 0.9249\n"
     ]
    }
   ],
   "source": [
    "history = model.fit(x_train, y_train,\n",
    "                    validation_split=1 - trainFactor,\n",
    "                    epochs=epochs,\n",
    "                    batch_size=batch_size,\n",
    "                    verbose=2,\n",
    "                    )"
   ]
  },
  {
   "cell_type": "code",
   "execution_count": 6,
   "metadata": {},
   "outputs": [
    {
     "data": {
      "image/png": "[encoded data removed]",
      "text/plain": [
       "<Figure size 432x288 with 1 Axes>"
      ]
     },
     "metadata": {
      "needs_background": "light"
     },
     "output_type": "display_data"
    }
   ],
   "source": [
    "import matplotlib.pyplot as plt\n",
    "plt.plot(history.history['loss'])\n",
    "plt.plot(history.history['val_loss'])\n",
    "plt.title('model loss')\n",
    "plt.ylabel('loss')\n",
    "plt.xlabel('epoch')\n",
    "plt.legend(['train', 'validation'], loc='upper left')\n",
    "\n",
    "plt.show()"
   ]
  },
  {
   "cell_type": "code",
   "execution_count": null,
   "metadata": {},
   "outputs": [],
   "source": []
  },
  {
   "cell_type": "code",
   "execution_count": null,
   "metadata": {},
   "outputs": [],
   "source": []
  }
 ],
 "metadata": {
  "kernelspec": {
   "display_name": "Python 3",
   "language": "python",
   "name": "python3"
  },
  "language_info": {
   "codemirror_mode": {
    "name": "ipython",
    "version": 3
   },
   "file_extension": ".py",
   "mimetype": "text/x-python",
   "name": "python",
   "nbconvert_exporter": "python",
   "pygments_lexer": "ipython3",
   "version": "3.6.9"
  }
 },
 "nbformat": 4,
 "nbformat_minor": 5
}
