{
 "cells": [
  {
   "cell_type": "code",
   "execution_count": 1,
   "id": "a177ec7d",
   "metadata": {},
   "outputs": [],
   "source": [
    "import numpy as np\n",
    "import tensorflow as tf\n",
    "from tensorflow import keras\n",
    "from tensorflow.keras import layers, Model\n",
    "from tensorflow.keras.utils import to_categorical\n",
    "\n",
    "import os\n",
    "import sys  \n",
    "sys.path.insert(0, 'G:\\\\My Drive\\\\Colab Notebooks\\\\MWCNN')\n",
    "\n",
    "from Layers.DTCWT import *\n",
    "from tensorflow.keras.datasets import mnist\n",
    "from tensorflow.keras.optimizers import Adam, SGD"
   ]
  },
  {
   "cell_type": "code",
   "execution_count": 2,
   "id": "ba52173b",
   "metadata": {},
   "outputs": [],
   "source": [
    "nb_classes = 10\n",
    "batch_size = 32\n",
    "epochs = 30\n",
    "\n",
    "lr = 1e-4  # learning rate\n",
    "beta_1 = 0.9         # beta 1 - for adam optimizer\n",
    "beta_2 = 0.96        # beta 2 - for adam optimizer\n",
    "epsilon = 1e-7        # epsilon - for adam optimizer\n",
    "\n",
    "trainFactor = 0.8\n",
    "input_shape = (28, 28, 1)  # CIFAR-10 60,000 32X32 color\n",
    "\n",
    "# optimizer = Adam(learning_rate=lr, beta_1=beta_1, beta_2=beta_2, epsilon=epsilon)\n",
    "optimizer = SGD(lr=lr, momentum=beta_1)\n",
    "\n",
    "(x_train, y_train), (x_test, y_test) = mnist.load_data()\n",
    "\n",
    "y_train = to_categorical(y_train)\n",
    "y_test = to_categorical(y_test)\n",
    "x_train = x_train.astype('float32') / 255.0\n",
    "x_train = np.expand_dims(x_train, axis=-1)\n",
    "\n",
    "x_test = x_test.astype('float32') / 255.0\n",
    "x_test = np.expand_dims(x_test, axis=-1)\n"
   ]
  },
  {
   "cell_type": "code",
   "execution_count": 3,
   "id": "33273bbf",
   "metadata": {},
   "outputs": [
    {
     "name": "stdout",
     "output_type": "stream",
     "text": [
      "WARNING:tensorflow:From C:\\Users\\Olya\\Anaconda3\\envs\\dwtcnn\\lib\\site-packages\\tensorflow_core\\python\\ops\\resource_variable_ops.py:1630: calling BaseResourceVariable.__init__ (from tensorflow.python.ops.resource_variable_ops) with constraint is deprecated and will be removed in a future version.\n",
      "Instructions for updating:\n",
      "If using Keras pass *_constraint arguments to layers.\n",
      "Model: \"mymodel\"\n",
      "_________________________________________________________________\n",
      "Layer (type)                 Output Shape              Param #   \n",
      "=================================================================\n",
      "input_1 (InputLayer)         [(None, 28, 28, 1)]       0         \n",
      "_________________________________________________________________\n",
      "conv2d (Conv2D)              (None, 28, 28, 28)        280       \n",
      "_________________________________________________________________\n",
      "dtcwt (DTCWT)                (None, 56, 56, 28)        0         \n",
      "_________________________________________________________________\n",
      "conv2d_1 (Conv2D)            (None, 56, 56, 10)        2530      \n",
      "_________________________________________________________________\n",
      "dropout (Dropout)            (None, 56, 56, 10)        0         \n",
      "_________________________________________________________________\n",
      "flatten (Flatten)            (None, 31360)             0         \n",
      "_________________________________________________________________\n",
      "dense (Dense)                (None, 10)                313610    \n",
      "=================================================================\n",
      "Total params: 316,420\n",
      "Trainable params: 316,420\n",
      "Non-trainable params: 0\n",
      "_________________________________________________________________\n"
     ]
    }
   ],
   "source": [
    "# load DWT db2 model\n",
    "input_shape = (28, 28, 1) \n",
    "\n",
    "cplx_input = layers.Input(shape=input_shape)\n",
    "x = layers.Conv2D(28, (3, 3), padding='same', activation=\"relu\")(cplx_input)\n",
    "x = DTCWT(2)(x)\n",
    "x = layers.Conv2D(10, (3, 3), padding='same', activation=\"relu\")(x)\n",
    "x = layers.Dropout(0.5)(x)\n",
    "x = layers.Flatten()(x)\n",
    "x = layers.Dense(nb_classes, activation=\"softmax\")(x)\n",
    "model = Model(cplx_input, x, name=\"mymodel\")\n",
    "model.summary()\n",
    "\n"
   ]
  },
  {
   "cell_type": "code",
   "execution_count": 4,
   "id": "30715c34",
   "metadata": {},
   "outputs": [],
   "source": [
    "model.compile(loss=\"categorical_crossentropy\",\n",
    "              optimizer=optimizer, metrics=[\"accuracy\"])"
   ]
  },
  {
   "cell_type": "code",
   "execution_count": 5,
   "id": "178e4e7d",
   "metadata": {},
   "outputs": [
    {
     "name": "stdout",
     "output_type": "stream",
     "text": [
      "Train on 48000 samples, validate on 12000 samples\n",
      "Epoch 1/30\n",
      "48000/48000 - 145s - loss: 1.8255 - acc: 0.5769 - val_loss: 0.7651 - val_acc: 0.8543\n",
      "Epoch 2/30\n",
      "48000/48000 - 144s - loss: 0.5572 - acc: 0.8482 - val_loss: 0.3507 - val_acc: 0.9032\n",
      "Epoch 3/30\n",
      "48000/48000 - 143s - loss: 0.3918 - acc: 0.8854 - val_loss: 0.2905 - val_acc: 0.9172\n",
      "Epoch 4/30\n",
      "48000/48000 - 143s - loss: 0.3361 - acc: 0.9026 - val_loss: 0.2602 - val_acc: 0.9269\n",
      "Epoch 5/30\n",
      "48000/48000 - 143s - loss: 0.2947 - acc: 0.9149 - val_loss: 0.2315 - val_acc: 0.9367\n",
      "Epoch 6/30\n",
      "48000/48000 - 142s - loss: 0.2612 - acc: 0.9251 - val_loss: 0.2060 - val_acc: 0.9428\n",
      "Epoch 7/30\n",
      "48000/48000 - 142s - loss: 0.2329 - acc: 0.9336 - val_loss: 0.1868 - val_acc: 0.9498\n",
      "Epoch 8/30\n",
      "48000/48000 - 142s - loss: 0.2123 - acc: 0.9387 - val_loss: 0.1694 - val_acc: 0.9553\n",
      "Epoch 9/30\n",
      "48000/48000 - 142s - loss: 0.1924 - acc: 0.9461 - val_loss: 0.1559 - val_acc: 0.9581\n",
      "Epoch 10/30\n",
      "48000/48000 - 142s - loss: 0.1782 - acc: 0.9489 - val_loss: 0.1431 - val_acc: 0.9628\n",
      "Epoch 11/30\n",
      "48000/48000 - 142s - loss: 0.1631 - acc: 0.9534 - val_loss: 0.1327 - val_acc: 0.9657\n",
      "Epoch 12/30\n",
      "48000/48000 - 142s - loss: 0.1515 - acc: 0.9572 - val_loss: 0.1249 - val_acc: 0.9674\n",
      "Epoch 13/30\n",
      "48000/48000 - 142s - loss: 0.1445 - acc: 0.9594 - val_loss: 0.1183 - val_acc: 0.9678\n",
      "Epoch 14/30\n",
      "48000/48000 - 142s - loss: 0.1355 - acc: 0.9615 - val_loss: 0.1109 - val_acc: 0.9697\n",
      "Epoch 15/30\n",
      "48000/48000 - 142s - loss: 0.1293 - acc: 0.9639 - val_loss: 0.1062 - val_acc: 0.9708\n",
      "Epoch 16/30\n",
      "48000/48000 - 142s - loss: 0.1221 - acc: 0.9656 - val_loss: 0.1014 - val_acc: 0.9724\n",
      "Epoch 17/30\n",
      "48000/48000 - 142s - loss: 0.1172 - acc: 0.9664 - val_loss: 0.0980 - val_acc: 0.9732\n",
      "Epoch 18/30\n",
      "48000/48000 - 142s - loss: 0.1128 - acc: 0.9673 - val_loss: 0.0945 - val_acc: 0.9739\n",
      "Epoch 19/30\n",
      "48000/48000 - 142s - loss: 0.1076 - acc: 0.9692 - val_loss: 0.0909 - val_acc: 0.9753\n",
      "Epoch 20/30\n",
      "48000/48000 - 142s - loss: 0.1064 - acc: 0.9693 - val_loss: 0.0879 - val_acc: 0.9753\n",
      "Epoch 21/30\n",
      "48000/48000 - 143s - loss: 0.1000 - acc: 0.9715 - val_loss: 0.0859 - val_acc: 0.9758\n",
      "Epoch 22/30\n",
      "48000/48000 - 143s - loss: 0.0985 - acc: 0.9716 - val_loss: 0.0844 - val_acc: 0.9762\n",
      "Epoch 23/30\n",
      "48000/48000 - 143s - loss: 0.0944 - acc: 0.9724 - val_loss: 0.0817 - val_acc: 0.9766\n",
      "Epoch 24/30\n",
      "48000/48000 - 142s - loss: 0.0939 - acc: 0.9726 - val_loss: 0.0787 - val_acc: 0.9772\n",
      "Epoch 25/30\n",
      "48000/48000 - 142s - loss: 0.0899 - acc: 0.9743 - val_loss: 0.0780 - val_acc: 0.9777\n",
      "Epoch 26/30\n",
      "48000/48000 - 142s - loss: 0.0862 - acc: 0.9750 - val_loss: 0.0761 - val_acc: 0.9787\n",
      "Epoch 27/30\n",
      "48000/48000 - 142s - loss: 0.0863 - acc: 0.9748 - val_loss: 0.0739 - val_acc: 0.9789\n",
      "Epoch 28/30\n",
      "48000/48000 - 142s - loss: 0.0813 - acc: 0.9762 - val_loss: 0.0729 - val_acc: 0.9791\n",
      "Epoch 29/30\n",
      "48000/48000 - 142s - loss: 0.0812 - acc: 0.9760 - val_loss: 0.0721 - val_acc: 0.9790\n",
      "Epoch 30/30\n",
      "48000/48000 - 142s - loss: 0.0812 - acc: 0.9764 - val_loss: 0.0701 - val_acc: 0.9798\n"
     ]
    }
   ],
   "source": [
    "history = model.fit(x_train, y_train,\n",
    "                    validation_split=1 - trainFactor,\n",
    "                    epochs=epochs,\n",
    "                    batch_size=batch_size,\n",
    "                    verbose=2,\n",
    "                    )"
   ]
  },
  {
   "cell_type": "code",
   "execution_count": 6,
   "id": "376a481a",
   "metadata": {},
   "outputs": [
    {
     "data": {
      "image/png": "[encoded data removed]",
      "text/plain": [
       "<Figure size 432x288 with 1 Axes>"
      ]
     },
     "metadata": {
      "needs_background": "light"
     },
     "output_type": "display_data"
    }
   ],
   "source": [
    "import matplotlib.pyplot as plt\n",
    "plt.plot(history.history['loss'])\n",
    "plt.plot(history.history['val_loss'])\n",
    "plt.title('model loss')\n",
    "plt.ylabel('loss')\n",
    "plt.xlabel('epoch')\n",
    "plt.legend(['train', 'validation'], loc='upper left')\n",
    "\n",
    "plt.show()"
   ]
  },
  {
   "cell_type": "code",
   "execution_count": null,
   "id": "cc79c06b",
   "metadata": {},
   "outputs": [],
   "source": []
  }
 ],
 "metadata": {
  "kernelspec": {
   "display_name": "Python 3",
   "language": "python",
   "name": "python3"
  },
  "language_info": {
   "codemirror_mode": {
    "name": "ipython",
    "version": 3
   },
   "file_extension": ".py",
   "mimetype": "text/x-python",
   "name": "python",
   "nbconvert_exporter": "python",
   "pygments_lexer": "ipython3",
   "version": "3.6.13"
  }
 },
 "nbformat": 4,
 "nbformat_minor": 5
}
