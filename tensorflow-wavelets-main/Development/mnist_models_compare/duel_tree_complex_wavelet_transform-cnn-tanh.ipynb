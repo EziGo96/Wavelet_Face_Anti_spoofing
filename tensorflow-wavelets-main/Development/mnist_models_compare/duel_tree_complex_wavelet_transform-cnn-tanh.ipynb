{
 "cells": [
  {
   "cell_type": "code",
   "execution_count": 1,
   "id": "a177ec7d",
   "metadata": {},
   "outputs": [],
   "source": [
    "import numpy as np\n",
    "import tensorflow as tf\n",
    "from tensorflow import keras\n",
    "from tensorflow.keras import layers, Model\n",
    "from tensorflow.keras.utils import to_categorical\n",
    "\n",
    "import os\n",
    "import sys  \n",
    "sys.path.insert(0, 'G:\\\\My Drive\\\\Colab Notebooks\\\\MWCNN')\n",
    "\n",
    "from Layers.DTCWT import *\n",
    "from tensorflow.keras.datasets import mnist\n",
    "from tensorflow.keras.optimizers import Adam, SGD"
   ]
  },
  {
   "cell_type": "code",
   "execution_count": 2,
   "id": "ba52173b",
   "metadata": {},
   "outputs": [],
   "source": [
    "nb_classes = 10\n",
    "batch_size = 32\n",
    "epochs = 40\n",
    "\n",
    "lr = 1e-4  # learning rate\n",
    "beta_1 = 0.9         # beta 1 - for adam optimizer\n",
    "beta_2 = 0.96        # beta 2 - for adam optimizer\n",
    "epsilon = 1e-7        # epsilon - for adam optimizer\n",
    "\n",
    "trainFactor = 0.8\n",
    "input_shape = (28, 28, 1)  # CIFAR-10 60,000 32X32 color\n",
    "\n",
    "# optimizer = Adam(learning_rate=lr, beta_1=beta_1, beta_2=beta_2, epsilon=epsilon)\n",
    "optimizer = SGD(lr=lr, momentum=beta_1)\n",
    "\n",
    "(x_train, y_train), (x_test, y_test) = mnist.load_data()\n",
    "\n",
    "y_train = to_categorical(y_train)\n",
    "y_test = to_categorical(y_test)\n",
    "x_train = x_train.astype('float32') / 255.0\n",
    "x_train = np.expand_dims(x_train, axis=-1)\n",
    "\n",
    "x_test = x_test.astype('float32') / 255.0\n",
    "x_test = np.expand_dims(x_test, axis=-1)\n"
   ]
  },
  {
   "cell_type": "code",
   "execution_count": 3,
   "id": "33273bbf",
   "metadata": {},
   "outputs": [
    {
     "name": "stdout",
     "output_type": "stream",
     "text": [
      "WARNING:tensorflow:From C:\\Users\\Olya\\Anaconda3\\envs\\dwtcnn\\lib\\site-packages\\tensorflow_core\\python\\ops\\resource_variable_ops.py:1630: calling BaseResourceVariable.__init__ (from tensorflow.python.ops.resource_variable_ops) with constraint is deprecated and will be removed in a future version.\n",
      "Instructions for updating:\n",
      "If using Keras pass *_constraint arguments to layers.\n",
      "Model: \"mymodel\"\n",
      "_________________________________________________________________\n",
      "Layer (type)                 Output Shape              Param #   \n",
      "=================================================================\n",
      "input_1 (InputLayer)         [(None, 28, 28, 1)]       0         \n",
      "_________________________________________________________________\n",
      "conv2d (Conv2D)              (None, 28, 28, 28)        280       \n",
      "_________________________________________________________________\n",
      "dtcwt (DTCWT)                (None, 56, 56, 28)        0         \n",
      "_________________________________________________________________\n",
      "conv2d_1 (Conv2D)            (None, 56, 56, 28)        7084      \n",
      "_________________________________________________________________\n",
      "dropout (Dropout)            (None, 56, 56, 28)        0         \n",
      "_________________________________________________________________\n",
      "flatten (Flatten)            (None, 87808)             0         \n",
      "_________________________________________________________________\n",
      "dense (Dense)                (None, 10)                878090    \n",
      "=================================================================\n",
      "Total params: 885,454\n",
      "Trainable params: 885,454\n",
      "Non-trainable params: 0\n",
      "_________________________________________________________________\n"
     ]
    }
   ],
   "source": [
    "# load DWT db2 model\n",
    "input_shape = (28, 28, 1) \n",
    "\n",
    "cplx_input = layers.Input(shape=input_shape)\n",
    "x = layers.Conv2D(28, (3, 3), padding='same', activation=\"tanh\")(cplx_input)\n",
    "x = DTCWT(2)(x)\n",
    "x = layers.Conv2D(28, (3, 3), padding='same', activation=\"tanh\")(x)\n",
    "x = layers.Dropout(0.5)(x)\n",
    "x = layers.Flatten()(x)\n",
    "x = layers.Dense(nb_classes, activation=\"softmax\")(x)\n",
    "model = Model(cplx_input, x, name=\"mymodel\")\n",
    "model.summary()\n",
    "\n"
   ]
  },
  {
   "cell_type": "code",
   "execution_count": 4,
   "id": "30715c34",
   "metadata": {},
   "outputs": [],
   "source": [
    "model.compile(loss=\"categorical_crossentropy\",\n",
    "              optimizer=optimizer, metrics=[\"accuracy\"])"
   ]
  },
  {
   "cell_type": "code",
   "execution_count": 5,
   "id": "178e4e7d",
   "metadata": {},
   "outputs": [
    {
     "name": "stdout",
     "output_type": "stream",
     "text": [
      "Train on 48000 samples, validate on 12000 samples\n",
      "Epoch 1/40\n",
      "48000/48000 - 151s - loss: 1.1021 - acc: 0.7627 - val_loss: 0.4873 - val_acc: 0.8795\n",
      "Epoch 2/40\n",
      "48000/48000 - 148s - loss: 0.4515 - acc: 0.8773 - val_loss: 0.3618 - val_acc: 0.8993\n",
      "Epoch 3/40\n",
      "48000/48000 - 147s - loss: 0.3759 - acc: 0.8931 - val_loss: 0.3233 - val_acc: 0.9087\n",
      "Epoch 4/40\n",
      "48000/48000 - 147s - loss: 0.3433 - acc: 0.9004 - val_loss: 0.3031 - val_acc: 0.9138\n",
      "Epoch 5/40\n",
      "48000/48000 - 147s - loss: 0.3245 - acc: 0.9059 - val_loss: 0.2892 - val_acc: 0.9177\n",
      "Epoch 6/40\n",
      "48000/48000 - 147s - loss: 0.3094 - acc: 0.9094 - val_loss: 0.2790 - val_acc: 0.9212\n",
      "Epoch 7/40\n",
      "48000/48000 - 147s - loss: 0.2981 - acc: 0.9122 - val_loss: 0.2700 - val_acc: 0.9227\n",
      "Epoch 8/40\n",
      "48000/48000 - 147s - loss: 0.2877 - acc: 0.9165 - val_loss: 0.2614 - val_acc: 0.9262\n",
      "Epoch 9/40\n",
      "48000/48000 - 147s - loss: 0.2801 - acc: 0.9181 - val_loss: 0.2539 - val_acc: 0.9284\n",
      "Epoch 10/40\n",
      "48000/48000 - 147s - loss: 0.2729 - acc: 0.9202 - val_loss: 0.2476 - val_acc: 0.9293\n",
      "Epoch 11/40\n",
      "48000/48000 - 147s - loss: 0.2654 - acc: 0.9221 - val_loss: 0.2404 - val_acc: 0.9309\n",
      "Epoch 12/40\n",
      "48000/48000 - 147s - loss: 0.2592 - acc: 0.9237 - val_loss: 0.2358 - val_acc: 0.9322\n",
      "Epoch 13/40\n",
      "48000/48000 - 147s - loss: 0.2514 - acc: 0.9269 - val_loss: 0.2298 - val_acc: 0.9334\n",
      "Epoch 14/40\n",
      "48000/48000 - 147s - loss: 0.2459 - acc: 0.9280 - val_loss: 0.2236 - val_acc: 0.9362\n",
      "Epoch 15/40\n",
      "48000/48000 - 147s - loss: 0.2403 - acc: 0.9296 - val_loss: 0.2200 - val_acc: 0.9368\n",
      "Epoch 16/40\n",
      "48000/48000 - 147s - loss: 0.2349 - acc: 0.9313 - val_loss: 0.2137 - val_acc: 0.9388\n",
      "Epoch 17/40\n",
      "48000/48000 - 147s - loss: 0.2299 - acc: 0.9324 - val_loss: 0.2087 - val_acc: 0.9403\n",
      "Epoch 18/40\n",
      "48000/48000 - 147s - loss: 0.2244 - acc: 0.9344 - val_loss: 0.2036 - val_acc: 0.9420\n",
      "Epoch 19/40\n",
      "48000/48000 - 147s - loss: 0.2200 - acc: 0.9358 - val_loss: 0.1999 - val_acc: 0.9434\n",
      "Epoch 20/40\n",
      "48000/48000 - 147s - loss: 0.2144 - acc: 0.9379 - val_loss: 0.1940 - val_acc: 0.9452\n",
      "Epoch 21/40\n",
      "48000/48000 - 147s - loss: 0.2109 - acc: 0.9379 - val_loss: 0.1901 - val_acc: 0.9473\n",
      "Epoch 22/40\n",
      "48000/48000 - 147s - loss: 0.2055 - acc: 0.9400 - val_loss: 0.1867 - val_acc: 0.9473\n",
      "Epoch 23/40\n",
      "48000/48000 - 147s - loss: 0.2011 - acc: 0.9406 - val_loss: 0.1831 - val_acc: 0.9488\n",
      "Epoch 24/40\n",
      "48000/48000 - 147s - loss: 0.1975 - acc: 0.9423 - val_loss: 0.1797 - val_acc: 0.9489\n",
      "Epoch 25/40\n",
      "48000/48000 - 147s - loss: 0.1935 - acc: 0.9443 - val_loss: 0.1744 - val_acc: 0.9509\n",
      "Epoch 26/40\n",
      "48000/48000 - 147s - loss: 0.1905 - acc: 0.9441 - val_loss: 0.1720 - val_acc: 0.9515\n",
      "Epoch 27/40\n",
      "48000/48000 - 147s - loss: 0.1858 - acc: 0.9453 - val_loss: 0.1674 - val_acc: 0.9530\n",
      "Epoch 28/40\n",
      "48000/48000 - 147s - loss: 0.1822 - acc: 0.9457 - val_loss: 0.1647 - val_acc: 0.9531\n",
      "Epoch 29/40\n",
      "48000/48000 - 147s - loss: 0.1782 - acc: 0.9469 - val_loss: 0.1614 - val_acc: 0.9548\n",
      "Epoch 30/40\n",
      "48000/48000 - 147s - loss: 0.1743 - acc: 0.9488 - val_loss: 0.1583 - val_acc: 0.9555\n",
      "Epoch 31/40\n",
      "48000/48000 - 147s - loss: 0.1712 - acc: 0.9495 - val_loss: 0.1560 - val_acc: 0.9558\n",
      "Epoch 32/40\n",
      "48000/48000 - 147s - loss: 0.1686 - acc: 0.9503 - val_loss: 0.1534 - val_acc: 0.9569\n",
      "Epoch 33/40\n",
      "48000/48000 - 147s - loss: 0.1664 - acc: 0.9510 - val_loss: 0.1517 - val_acc: 0.9565\n",
      "Epoch 34/40\n",
      "48000/48000 - 147s - loss: 0.1629 - acc: 0.9523 - val_loss: 0.1475 - val_acc: 0.9574\n",
      "Epoch 35/40\n",
      "48000/48000 - 147s - loss: 0.1610 - acc: 0.9518 - val_loss: 0.1450 - val_acc: 0.9591\n",
      "Epoch 36/40\n",
      "48000/48000 - 147s - loss: 0.1558 - acc: 0.9533 - val_loss: 0.1426 - val_acc: 0.9592\n",
      "Epoch 37/40\n",
      "48000/48000 - 147s - loss: 0.1538 - acc: 0.9543 - val_loss: 0.1421 - val_acc: 0.9599\n",
      "Epoch 38/40\n",
      "48000/48000 - 147s - loss: 0.1530 - acc: 0.9545 - val_loss: 0.1383 - val_acc: 0.9614\n",
      "Epoch 39/40\n",
      "48000/48000 - 147s - loss: 0.1502 - acc: 0.9550 - val_loss: 0.1357 - val_acc: 0.9623\n",
      "Epoch 40/40\n",
      "48000/48000 - 147s - loss: 0.1454 - acc: 0.9572 - val_loss: 0.1348 - val_acc: 0.9622\n"
     ]
    }
   ],
   "source": [
    "history = model.fit(x_train, y_train,\n",
    "                    validation_split=1 - trainFactor,\n",
    "                    epochs=epochs,\n",
    "                    batch_size=batch_size,\n",
    "                    verbose=2,\n",
    "                    )"
   ]
  },
  {
   "cell_type": "code",
   "execution_count": 6,
   "id": "376a481a",
   "metadata": {},
   "outputs": [
    {
     "data": {
      "image/png": "[encoded data removed]",
      "text/plain": [
       "<Figure size 432x288 with 1 Axes>"
      ]
     },
     "metadata": {
      "needs_background": "light"
     },
     "output_type": "display_data"
    }
   ],
   "source": [
    "import matplotlib.pyplot as plt\n",
    "plt.plot(history.history['loss'])\n",
    "plt.plot(history.history['val_loss'])\n",
    "plt.title('model loss')\n",
    "plt.ylabel('loss')\n",
    "plt.xlabel('epoch')\n",
    "plt.legend(['train', 'validation'], loc='upper left')\n",
    "\n",
    "plt.show()"
   ]
  },
  {
   "cell_type": "code",
   "execution_count": null,
   "id": "cc79c06b",
   "metadata": {},
   "outputs": [],
   "source": []
  }
 ],
 "metadata": {
  "kernelspec": {
   "display_name": "Python 3",
   "language": "python",
   "name": "python3"
  },
  "language_info": {
   "codemirror_mode": {
    "name": "ipython",
    "version": 3
   },
   "file_extension": ".py",
   "mimetype": "text/x-python",
   "name": "python",
   "nbconvert_exporter": "python",
   "pygments_lexer": "ipython3",
   "version": "3.6.13"
  }
 },
 "nbformat": 4,
 "nbformat_minor": 5
}
