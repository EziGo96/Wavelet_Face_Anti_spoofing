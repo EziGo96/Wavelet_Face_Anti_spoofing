{
 "cells": [
  {
   "cell_type": "code",
   "execution_count": 1,
   "metadata": {
    "id": "PKgXo17x3_hg"
   },
   "outputs": [
    {
     "name": "stderr",
     "output_type": "stream",
     "text": [
      "Using TensorFlow backend.\n"
     ]
    }
   ],
   "source": [
    "import os\n",
    "import pickle\n",
    "import datetime\n",
    "import numpy as np\n",
    "import tensorflow as tf\n",
    "import models.cifar10CNN\n",
    "import models.WaveletCifar10CNN\n",
    "\n",
    "from keras.datasets import cifar10\n",
    "from sklearn.model_selection import KFold\n",
    "from keras.optimizers import Adam, SGD, RMSprop\n",
    "from keras.callbacks import ModelCheckpoint, EarlyStopping\n",
    "from tensorflow.keras.utils import to_categorical, Sequence"
   ]
  },
  {
   "cell_type": "code",
   "execution_count": 2,
   "metadata": {
    "id": "TfvnzkdZSqli"
   },
   "outputs": [],
   "source": [
    "weights_filepath = 'weights'\n",
    "logs_filepath = 'logs'\n",
    "\n",
    "\n",
    "if not os.path.exists(weights_filepath):\n",
    "    os.makedirs(weights_filepath)\n",
    "\n",
    "if not os.path.exists(logs_filepath):\n",
    "    os.makedirs(logs_filepath)\n"
   ]
  },
  {
   "cell_type": "code",
   "execution_count": 3,
   "metadata": {
    "id": "i7Y0GE3jSqlj"
   },
   "outputs": [],
   "source": [
    "nb_classes = 10\n",
    "num_folds = 10\n",
    "batch_size = 32\n",
    "epochs = 30\n",
    "\n",
    "lr = 1e-4  # learning rate\n",
    "beta_1 = 0.9         # beta 1 - for adam optimizer\n",
    "beta_2 = 0.96        # beta 2 - for adam optimizer\n",
    "epsilon = 1e-7        # epsilon - for adam optimizer\n",
    "\n",
    "trainFactor = 0.8\n",
    "imageShape = (32, 32, 3)  # CIFAR-10 60,000 32X32 color\n"
   ]
  },
  {
   "cell_type": "code",
   "execution_count": 4,
   "metadata": {
    "id": "I9Sur-BnSqlj"
   },
   "outputs": [],
   "source": [
    "(x_train, y_train), (x_test, y_test) = cifar10.load_data()"
   ]
  },
  {
   "cell_type": "code",
   "execution_count": 5,
   "metadata": {
    "id": "tc2eXRu6Sqlj"
   },
   "outputs": [
    {
     "name": "stdout",
     "output_type": "stream",
     "text": [
      "WARNING:tensorflow:From C:\\Users\\Olya\\Anaconda3\\envs\\dwtcnn\\lib\\site-packages\\tensorflow_core\\python\\ops\\resource_variable_ops.py:1630: calling BaseResourceVariable.__init__ (from tensorflow.python.ops.resource_variable_ops) with constraint is deprecated and will be removed in a future version.\n",
      "Instructions for updating:\n",
      "If using Keras pass *_constraint arguments to layers.\n"
     ]
    }
   ],
   "source": [
    "optimizer = Adam(learning_rate=lr, beta_1=beta_1, beta_2=beta_2, epsilon=epsilon)  # SGD()"
   ]
  },
  {
   "cell_type": "code",
   "execution_count": 6,
   "metadata": {
    "id": "WHTWJQwwSqlj"
   },
   "outputs": [],
   "source": [
    "y_train = to_categorical(y_train)\n",
    "y_test = to_categorical(y_test)\n",
    "x_train = x_train.astype('float32') / 255.0\n",
    "x_test = x_test.astype('float32') / 255.0\n"
   ]
  },
  {
   "cell_type": "code",
   "execution_count": 7,
   "metadata": {
    "colab": {
     "base_uri": "https://localhost:8080/"
    },
    "id": "BS6tyzZwSqlk",
    "outputId": "9f924190-9aa6-451c-9d52-a0528ae34b38"
   },
   "outputs": [
    {
     "name": "stdout",
     "output_type": "stream",
     "text": [
      "WARNING:tensorflow:From C:\\Users\\Olya\\Anaconda3\\envs\\dwtcnn\\lib\\site-packages\\keras\\backend\\tensorflow_backend.py:4070: The name tf.nn.max_pool is deprecated. Please use tf.nn.max_pool2d instead.\n",
      "\n",
      "WARNING:tensorflow:From C:\\Users\\Olya\\Anaconda3\\envs\\dwtcnn\\lib\\site-packages\\keras\\backend\\tensorflow_backend.py:422: The name tf.global_variables is deprecated. Please use tf.compat.v1.global_variables instead.\n",
      "\n",
      "Train on 40000 samples, validate on 10000 samples\n",
      "Epoch 1/30\n",
      " - 22s - loss: 2.1494 - accuracy: 0.2394 - val_loss: 1.7769 - val_accuracy: 0.3503\n",
      "Epoch 2/30\n",
      " - 21s - loss: 1.7202 - accuracy: 0.3667 - val_loss: 1.6097 - val_accuracy: 0.4249\n",
      "Epoch 3/30\n",
      " - 21s - loss: 1.5818 - accuracy: 0.4223 - val_loss: 1.4315 - val_accuracy: 0.4820\n",
      "Epoch 4/30\n",
      " - 21s - loss: 1.4901 - accuracy: 0.4615 - val_loss: 1.3599 - val_accuracy: 0.5216\n",
      "Epoch 5/30\n",
      " - 21s - loss: 1.4155 - accuracy: 0.4899 - val_loss: 1.2019 - val_accuracy: 0.5751\n",
      "Epoch 6/30\n",
      " - 21s - loss: 1.3545 - accuracy: 0.5160 - val_loss: 1.1736 - val_accuracy: 0.5875\n",
      "Epoch 7/30\n",
      " - 21s - loss: 1.2985 - accuracy: 0.5362 - val_loss: 1.0979 - val_accuracy: 0.6130\n",
      "Epoch 8/30\n",
      " - 21s - loss: 1.2410 - accuracy: 0.5579 - val_loss: 1.0466 - val_accuracy: 0.6332\n",
      "Epoch 9/30\n",
      " - 21s - loss: 1.1956 - accuracy: 0.5761 - val_loss: 1.0054 - val_accuracy: 0.6512\n",
      "Epoch 10/30\n",
      " - 21s - loss: 1.1560 - accuracy: 0.5888 - val_loss: 1.0498 - val_accuracy: 0.6379\n",
      "Epoch 11/30\n",
      " - 21s - loss: 1.1149 - accuracy: 0.6052 - val_loss: 0.9277 - val_accuracy: 0.6768\n",
      "Epoch 12/30\n",
      " - 21s - loss: 1.0855 - accuracy: 0.6159 - val_loss: 0.9157 - val_accuracy: 0.6807\n",
      "Epoch 13/30\n",
      " - 21s - loss: 1.0544 - accuracy: 0.6295 - val_loss: 0.8607 - val_accuracy: 0.7014\n",
      "Epoch 14/30\n",
      " - 21s - loss: 1.0231 - accuracy: 0.6395 - val_loss: 0.8807 - val_accuracy: 0.6917\n",
      "Epoch 15/30\n",
      " - 21s - loss: 1.0084 - accuracy: 0.6445 - val_loss: 0.8376 - val_accuracy: 0.7124\n",
      "Epoch 16/30\n",
      " - 21s - loss: 0.9791 - accuracy: 0.6559 - val_loss: 0.7992 - val_accuracy: 0.7267\n",
      "Epoch 17/30\n",
      " - 21s - loss: 0.9596 - accuracy: 0.6625 - val_loss: 0.7834 - val_accuracy: 0.7264\n",
      "Epoch 18/30\n",
      " - 21s - loss: 0.9402 - accuracy: 0.6698 - val_loss: 0.8003 - val_accuracy: 0.7291\n",
      "Epoch 19/30\n",
      " - 21s - loss: 0.9279 - accuracy: 0.6767 - val_loss: 0.8128 - val_accuracy: 0.7200\n",
      "Epoch 20/30\n",
      " - 21s - loss: 0.9016 - accuracy: 0.6848 - val_loss: 0.8343 - val_accuracy: 0.7114\n",
      "Epoch 21/30\n",
      " - 21s - loss: 0.8876 - accuracy: 0.6913 - val_loss: 0.7618 - val_accuracy: 0.7367\n",
      "Epoch 22/30\n",
      " - 21s - loss: 0.8810 - accuracy: 0.6909 - val_loss: 0.7045 - val_accuracy: 0.7521\n",
      "Epoch 23/30\n",
      " - 21s - loss: 0.8579 - accuracy: 0.7015 - val_loss: 0.7495 - val_accuracy: 0.7421\n",
      "Epoch 24/30\n",
      " - 21s - loss: 0.8494 - accuracy: 0.7046 - val_loss: 0.7009 - val_accuracy: 0.7632\n",
      "Epoch 25/30\n",
      " - 21s - loss: 0.8377 - accuracy: 0.7084 - val_loss: 0.7408 - val_accuracy: 0.7396\n",
      "Epoch 26/30\n",
      " - 21s - loss: 0.8228 - accuracy: 0.7151 - val_loss: 0.6911 - val_accuracy: 0.7603\n",
      "Epoch 27/30\n",
      " - 21s - loss: 0.8019 - accuracy: 0.7222 - val_loss: 0.6803 - val_accuracy: 0.7704\n",
      "Epoch 28/30\n",
      " - 21s - loss: 0.7984 - accuracy: 0.7239 - val_loss: 0.6857 - val_accuracy: 0.7668\n",
      "Epoch 29/30\n",
      " - 21s - loss: 0.7865 - accuracy: 0.7244 - val_loss: 0.7204 - val_accuracy: 0.7588\n",
      "Epoch 30/30\n",
      " - 21s - loss: 0.7754 - accuracy: 0.7322 - val_loss: 0.7176 - val_accuracy: 0.7492\n",
      "10000/10000 [==============================] - 1s 139us/step\n"
     ]
    }
   ],
   "source": [
    "\n",
    "# Create and Train the Model\n",
    "model = models.cifar10CNN.cifar10CNN(imageShape, nb_classes)\n",
    "history_file_path = \"trainHistoryCifar10CNN.txt\"  # save loss and val loss\n",
    "\n",
    "model.compile(loss='categorical_crossentropy', optimizer=optimizer, metrics=[\"accuracy\"])\n",
    "\n",
    "h5_tmp = \"tmp.h5\"\n",
    "\n",
    "history = model.fit(x_train, y_train,\n",
    "                    validation_split=1 - trainFactor,\n",
    "                    epochs=epochs,\n",
    "                    batch_size=batch_size,\n",
    "                    verbose=2,\n",
    "                    callbacks=[\n",
    "                        ModelCheckpoint(h5_tmp, monitor='val_loss', verbose=0, save_best_only=True, mode='auto'),\n",
    "                        EarlyStopping(monitor='val_loss', min_delta=1e-3, patience=10, verbose=1, mode='auto')\n",
    "                        ],\n",
    "                    )\n",
    "\n",
    "model.load_weights(h5_tmp)\n",
    "weights_path = os.path.join(weights_filepath, \"WCNNN.h5\")\n",
    "model.save(weights_path)\n",
    "\n",
    "# Model Evaluation\n",
    "result = model.evaluate(x_test, y_test)\n",
    "\n",
    "with open(history_file_path, 'wb') as f:\n",
    "    pickle.dump(history.history, f)\n"
   ]
  },
  {
   "cell_type": "code",
   "execution_count": 1,
   "metadata": {
    "id": "GR7psEeUSqll"
   },
   "outputs": [
    {
     "data": {
      "image/png": "[encoded data removed]",
      "text/plain": [
       "<Figure size 432x288 with 1 Axes>"
      ]
     },
     "metadata": {
      "needs_background": "light"
     },
     "output_type": "display_data"
    }
   ],
   "source": [
    "import pickle\n",
    "import matplotlib.pyplot as plt\n",
    "\n",
    "history_file_path = r\"trainHistoryCifar10CNN.txt\"\n",
    "\n",
    "with open(history_file_path, 'rb') as pickle_file:\n",
    "    history = pickle.load(pickle_file)\n",
    "\n",
    "\n",
    "# plot train and validation loss\n",
    "plt.plot(history['loss'])\n",
    "plt.plot(history['val_loss'])\n",
    "plt.title('model cifar10 pooling loss')\n",
    "plt.ylabel('loss')\n",
    "plt.xlabel('epoch')\n",
    "plt.legend(['train', 'validation'], loc='upper left')\n",
    "\n",
    "plt.show()\n",
    "\n",
    "\n",
    "\n"
   ]
  },
  {
   "cell_type": "code",
   "execution_count": null,
   "metadata": {},
   "outputs": [],
   "source": []
  }
 ],
 "metadata": {
  "colab": {
   "collapsed_sections": [],
   "include_colab_link": true,
   "name": "cifar10.ipynb",
   "provenance": []
  },
  "kernelspec": {
   "display_name": "Python 3",
   "language": "python",
   "name": "python3"
  },
  "language_info": {
   "codemirror_mode": {
    "name": "ipython",
    "version": 3
   },
   "file_extension": ".py",
   "mimetype": "text/x-python",
   "name": "python",
   "nbconvert_exporter": "python",
   "pygments_lexer": "ipython3",
   "version": "3.6.13"
  }
 },
 "nbformat": 4,
 "nbformat_minor": 1
}
