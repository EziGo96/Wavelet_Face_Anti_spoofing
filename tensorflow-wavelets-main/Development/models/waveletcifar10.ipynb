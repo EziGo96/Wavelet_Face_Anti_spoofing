{
 "cells": [
  {
   "cell_type": "code",
   "execution_count": 1,
   "metadata": {
    "id": "PKgXo17x3_hg"
   },
   "outputs": [
    {
     "name": "stderr",
     "output_type": "stream",
     "text": [
      "Using TensorFlow backend.\n"
     ]
    }
   ],
   "source": [
    "import os\n",
    "import pickle\n",
    "import datetime\n",
    "import numpy as np\n",
    "import tensorflow as tf\n",
    "import models.cifar10CNN\n",
    "import models.WaveletCifar10CNN\n",
    "\n",
    "from keras.models import Model\n",
    "from models.DWT import DWT_Pooling, IWT_UpSampling\n",
    "\n",
    "from keras.datasets import cifar10\n",
    "from keras.models import model_from_json\n",
    "from sklearn.model_selection import KFold\n",
    "from keras.optimizers import Adam, SGD, RMSprop\n",
    "from keras.callbacks import ModelCheckpoint, EarlyStopping\n",
    "from tensorflow.keras.utils import to_categorical, Sequence\n"
   ]
  },
  {
   "cell_type": "code",
   "execution_count": 2,
   "metadata": {
    "id": "TfvnzkdZSqli"
   },
   "outputs": [],
   "source": [
    "weights_filepath = 'weights'\n",
    "logs_filepath = 'logs'\n",
    "\n",
    "\n",
    "if not os.path.exists(weights_filepath):\n",
    "    os.makedirs(weights_filepath)\n",
    "\n",
    "if not os.path.exists(logs_filepath):\n",
    "    os.makedirs(logs_filepath)\n"
   ]
  },
  {
   "cell_type": "code",
   "execution_count": 3,
   "metadata": {
    "id": "i7Y0GE3jSqlj"
   },
   "outputs": [],
   "source": [
    "nb_classes = 10\n",
    "num_folds = 10\n",
    "batch_size = 32\n",
    "epochs = 30\n",
    "\n",
    "lr = 1e-4  # learning rate\n",
    "beta_1 = 0.9         # beta 1 - for adam optimizer\n",
    "beta_2 = 0.96        # beta 2 - for adam optimizer\n",
    "epsilon = 1e-7        # epsilon - for adam optimizer\n",
    "\n",
    "trainFactor = 0.8\n",
    "imageShape = (32, 32, 3)  # CIFAR-10 60,000 32X32 color\n"
   ]
  },
  {
   "cell_type": "code",
   "execution_count": 4,
   "metadata": {
    "id": "I9Sur-BnSqlj"
   },
   "outputs": [],
   "source": [
    "(x_train, y_train), (x_test, y_test) = cifar10.load_data()"
   ]
  },
  {
   "cell_type": "code",
   "execution_count": 5,
   "metadata": {
    "id": "tc2eXRu6Sqlj"
   },
   "outputs": [
    {
     "name": "stdout",
     "output_type": "stream",
     "text": [
      "WARNING:tensorflow:From C:\\Users\\Olya\\Anaconda3\\envs\\dwtcnn\\lib\\site-packages\\tensorflow_core\\python\\ops\\resource_variable_ops.py:1630: calling BaseResourceVariable.__init__ (from tensorflow.python.ops.resource_variable_ops) with constraint is deprecated and will be removed in a future version.\n",
      "Instructions for updating:\n",
      "If using Keras pass *_constraint arguments to layers.\n"
     ]
    }
   ],
   "source": [
    "optimizer = Adam(learning_rate=lr, beta_1=beta_1, beta_2=beta_2, epsilon=epsilon)  # SGD()"
   ]
  },
  {
   "cell_type": "code",
   "execution_count": 6,
   "metadata": {
    "id": "WHTWJQwwSqlj"
   },
   "outputs": [],
   "source": [
    "y_train = to_categorical(y_train)\n",
    "y_test = to_categorical(y_test)\n",
    "x_train = x_train.astype('float32') / 255.0\n",
    "x_test = x_test.astype('float32') / 255.0\n"
   ]
  },
  {
   "cell_type": "code",
   "execution_count": 7,
   "metadata": {
    "colab": {
     "base_uri": "https://localhost:8080/",
     "height": 374
    },
    "executionInfo": {
     "elapsed": 1528,
     "status": "error",
     "timestamp": 1619560564816,
     "user": {
      "displayName": "Timor Leiderman",
      "photoUrl": "",
      "userId": "08373872098763895641"
     },
     "user_tz": -180
    },
    "id": "BS6tyzZwSqlk",
    "outputId": "72496378-c9c1-4782-95ce-9a0803e0a851"
   },
   "outputs": [
    {
     "name": "stdout",
     "output_type": "stream",
     "text": [
      "WARNING:tensorflow:From C:\\Users\\Olya\\Anaconda3\\envs\\dwtcnn\\lib\\site-packages\\keras\\backend\\tensorflow_backend.py:422: The name tf.global_variables is deprecated. Please use tf.compat.v1.global_variables instead.\n",
      "\n",
      "Train on 40000 samples, validate on 10000 samples\n",
      "Epoch 1/30\n",
      " - 29s - loss: 2.4651 - accuracy: 0.2019 - val_loss: 1.8627 - val_accuracy: 0.3168\n",
      "Epoch 2/30\n",
      " - 28s - loss: 1.8321 - accuracy: 0.3211 - val_loss: 1.8983 - val_accuracy: 0.3523\n",
      "Epoch 3/30\n",
      " - 28s - loss: 1.6660 - accuracy: 0.3847 - val_loss: 1.4787 - val_accuracy: 0.4679\n",
      "Epoch 4/30\n",
      " - 28s - loss: 1.5728 - accuracy: 0.4267 - val_loss: 1.4187 - val_accuracy: 0.4882\n",
      "Epoch 5/30\n",
      " - 28s - loss: 1.5007 - accuracy: 0.4575 - val_loss: 1.3162 - val_accuracy: 0.5222\n",
      "Epoch 6/30\n",
      " - 28s - loss: 1.4361 - accuracy: 0.4810 - val_loss: 1.2578 - val_accuracy: 0.5505\n",
      "Epoch 7/30\n",
      " - 28s - loss: 1.3822 - accuracy: 0.4996 - val_loss: 1.3269 - val_accuracy: 0.5276\n",
      "Epoch 8/30\n",
      " - 28s - loss: 1.3352 - accuracy: 0.5204 - val_loss: 1.2108 - val_accuracy: 0.5653\n",
      "Epoch 9/30\n",
      " - 28s - loss: 1.2883 - accuracy: 0.5389 - val_loss: 1.1317 - val_accuracy: 0.5978\n",
      "Epoch 10/30\n",
      " - 28s - loss: 1.2484 - accuracy: 0.5548 - val_loss: 1.0915 - val_accuracy: 0.6084\n",
      "Epoch 11/30\n",
      " - 28s - loss: 1.2194 - accuracy: 0.5691 - val_loss: 1.0362 - val_accuracy: 0.6304\n",
      "Epoch 12/30\n",
      " - 28s - loss: 1.1777 - accuracy: 0.5811 - val_loss: 1.0940 - val_accuracy: 0.6145\n",
      "Epoch 13/30\n",
      " - 28s - loss: 1.1478 - accuracy: 0.5939 - val_loss: 0.9978 - val_accuracy: 0.6477\n",
      "Epoch 14/30\n",
      " - 28s - loss: 1.1209 - accuracy: 0.6017 - val_loss: 0.9899 - val_accuracy: 0.6571\n",
      "Epoch 15/30\n",
      " - 28s - loss: 1.0856 - accuracy: 0.6158 - val_loss: 0.9252 - val_accuracy: 0.6798\n",
      "Epoch 16/30\n",
      " - 28s - loss: 1.0676 - accuracy: 0.6237 - val_loss: 0.9207 - val_accuracy: 0.6781\n",
      "Epoch 17/30\n",
      " - 28s - loss: 1.0426 - accuracy: 0.6331 - val_loss: 1.0177 - val_accuracy: 0.6499\n",
      "Epoch 18/30\n",
      " - 28s - loss: 1.0140 - accuracy: 0.6422 - val_loss: 0.8647 - val_accuracy: 0.6985\n",
      "Epoch 19/30\n",
      " - 28s - loss: 0.9944 - accuracy: 0.6532 - val_loss: 0.8252 - val_accuracy: 0.7104\n",
      "Epoch 20/30\n",
      " - 28s - loss: 0.9699 - accuracy: 0.6585 - val_loss: 0.8690 - val_accuracy: 0.7014\n",
      "Epoch 21/30\n",
      " - 28s - loss: 0.9526 - accuracy: 0.6658 - val_loss: 0.9626 - val_accuracy: 0.6820\n",
      "Epoch 22/30\n",
      " - 28s - loss: 0.9327 - accuracy: 0.6726 - val_loss: 0.7974 - val_accuracy: 0.7239\n",
      "Epoch 23/30\n",
      " - 28s - loss: 0.9174 - accuracy: 0.6787 - val_loss: 0.8912 - val_accuracy: 0.7034\n",
      "Epoch 24/30\n",
      " - 28s - loss: 0.8985 - accuracy: 0.6869 - val_loss: 0.7983 - val_accuracy: 0.7275\n",
      "Epoch 25/30\n",
      " - 28s - loss: 0.8785 - accuracy: 0.6920 - val_loss: 0.7649 - val_accuracy: 0.7398\n",
      "Epoch 26/30\n",
      " - 28s - loss: 0.8535 - accuracy: 0.6992 - val_loss: 0.7455 - val_accuracy: 0.7499\n",
      "Epoch 27/30\n",
      " - 28s - loss: 0.8477 - accuracy: 0.7030 - val_loss: 0.8071 - val_accuracy: 0.7295\n",
      "Epoch 28/30\n",
      " - 28s - loss: 0.8345 - accuracy: 0.7094 - val_loss: 0.7451 - val_accuracy: 0.7467\n",
      "Epoch 29/30\n",
      " - 29s - loss: 0.8153 - accuracy: 0.7160 - val_loss: 0.7800 - val_accuracy: 0.7369\n",
      "Epoch 30/30\n",
      " - 28s - loss: 0.8041 - accuracy: 0.7176 - val_loss: 0.7428 - val_accuracy: 0.7490\n",
      "10000/10000 [==============================] - 2s 184us/step\n"
     ]
    }
   ],
   "source": [
    "\n",
    "# Create and Train the Model\n",
    "\n",
    "model = models.WaveletCifar10CNN.WaveletCNN(imageShape, nb_classes)\n",
    "history_file_path = \"trainHistoryWaveletCifar10CNN.txt\" # save loss and val loss\n",
    "\n",
    "# model.summary()\n",
    "\n",
    "model.compile(loss='categorical_crossentropy', optimizer=optimizer, metrics=[\"accuracy\"])\n",
    "\n",
    "h5_tmp = \"tmp.h5\"\n",
    "\n",
    "history = model.fit(x_train, y_train,\n",
    "                    validation_split=1 - trainFactor,\n",
    "                    epochs=epochs,\n",
    "                    batch_size=batch_size,\n",
    "                    verbose=2,\n",
    "                    callbacks=[\n",
    "                        ModelCheckpoint(h5_tmp, monitor='val_loss', verbose=0, save_best_only=True, mode='auto'),\n",
    "                        EarlyStopping(monitor='val_loss', min_delta=1e-3, patience=10, verbose=1, mode='auto')\n",
    "                        ],\n",
    "                    )\n",
    "\n",
    "model.load_weights(h5_tmp)\n",
    "weights_path = os.path.join(weights_filepath, \"WCNNN.h5\")\n",
    "model.save(weights_path)\n",
    "\n",
    "# Model Evaluation\n",
    "result = model.evaluate(x_test, y_test)\n",
    "\n",
    "with open(history_file_path, 'wb') as f:\n",
    "    pickle.dump(history.history, f)\n"
   ]
  },
  {
   "cell_type": "code",
   "execution_count": 8,
   "metadata": {
    "id": "GR7psEeUSqll"
   },
   "outputs": [
    {
     "data": {
      "image/png": "[encoded data removed]",
      "text/plain": [
       "<Figure size 432x288 with 1 Axes>"
      ]
     },
     "metadata": {
      "needs_background": "light"
     },
     "output_type": "display_data"
    }
   ],
   "source": [
    "import pickle\n",
    "import matplotlib.pyplot as plt\n",
    "\n",
    "history_file_path = r\"trainHistoryWaveletCifar10CNN.txt\"\n",
    "\n",
    "with open(history_file_path, 'rb') as pickle_file:\n",
    "    history = pickle.load(pickle_file)\n",
    "\n",
    "\n",
    "# plot train and validation loss\n",
    "plt.plot(history['loss'])\n",
    "plt.plot(history['val_loss'])\n",
    "plt.title('model cifar10 wavelet loss')\n",
    "plt.ylabel('loss')\n",
    "plt.xlabel('epoch')\n",
    "plt.legend(['train', 'validation'], loc='upper left')\n",
    "\n",
    "plt.show()\n",
    "\n",
    "\n",
    "\n"
   ]
  },
  {
   "cell_type": "code",
   "execution_count": 9,
   "metadata": {},
   "outputs": [
    {
     "name": "stdout",
     "output_type": "stream",
     "text": [
      "Saved model to disk\n"
     ]
    }
   ],
   "source": [
    "# serialize model to JSON\n",
    "model_json = model.to_json()\n",
    "with open(\"model.json\", \"w\") as json_file:\n",
    "    json_file.write(model_json)\n",
    "\n",
    "# serialize weights to HDF5\n",
    "model.save_weights(\"model.h5\")\n",
    "print(\"Saved model to disk\")"
   ]
  },
  {
   "cell_type": "code",
   "execution_count": 10,
   "metadata": {},
   "outputs": [
    {
     "name": "stdout",
     "output_type": "stream",
     "text": [
      "Loaded model from disk\n"
     ]
    }
   ],
   "source": [
    "# load json and create model\n",
    "json_file = open('model.json', 'r')\n",
    "loaded_model_json = json_file.read()\n",
    "json_file.close()\n",
    "loaded_model = model_from_json(loaded_model_json,{'DWT_Pooling':DWT_Pooling})\n",
    "# load weights into new model\n",
    "loaded_model.load_weights(\"model.h5\")\n",
    "print(\"Loaded model from disk\")"
   ]
  },
  {
   "cell_type": "code",
   "execution_count": 11,
   "metadata": {
    "id": "BaMMFzhOT7OM"
   },
   "outputs": [],
   "source": [
    "# load layers from the model\n",
    "layer_outputs = [layer.output for layer in loaded_model.layers][1:] # Extracts the outputs of the top layers\n",
    "activation_model = Model(inputs=loaded_model.input, outputs=layer_outputs) # Creates a model that will return these outputs, given the model input\n",
    "activations = activation_model.predict(x_test) # Returns a list of Numpy arrays: one array per layer activation\n",
    "\n"
   ]
  },
  {
   "cell_type": "code",
   "execution_count": 12,
   "metadata": {},
   "outputs": [
    {
     "data": {
      "text/plain": [
       "<matplotlib.image.AxesImage at 0x21bcd3e4f60>"
      ]
     },
     "execution_count": 12,
     "metadata": {},
     "output_type": "execute_result"
    },
    {
     "data": {
      "image/png": "[encoded data removed]",
      "text/plain": [
       "<Figure size 432x288 with 1 Axes>"
      ]
     },
     "metadata": {
      "needs_background": "light"
     },
     "output_type": "display_data"
    }
   ],
   "source": [
    "img_idx = 1\n",
    "plt.imshow(x_test[img_idx,:,:,])\n",
    "# plt.axis('off')\n",
    "# for idx, act in enumerate(activations):\n",
    "#     pass\n",
    "    # plt.subplot(20,20,idx+1)\n",
    "#     plt.imshow(act[img_idx, :, :,0], cmap='viridis')\n",
    "#     plt.axis('off')\n",
    "    "
   ]
  },
  {
   "cell_type": "code",
   "execution_count": 13,
   "metadata": {},
   "outputs": [],
   "source": [
    "# fig, ax = plt.subplots(4)\n",
    "\n",
    "# for i in range(4):\n",
    "#     ax[i].imshow(act[img_idx, :, :,i])\n",
    "# #     plt.imshow(act[img_idx, :, :,i])"
   ]
  },
  {
   "cell_type": "code",
   "execution_count": 14,
   "metadata": {},
   "outputs": [
    {
     "data": {
      "text/plain": [
       "24"
      ]
     },
     "execution_count": 14,
     "metadata": {},
     "output_type": "execute_result"
    }
   ],
   "source": [
    "len(activations)\n"
   ]
  },
  {
   "cell_type": "code",
   "execution_count": 15,
   "metadata": {},
   "outputs": [
    {
     "data": {
      "text/plain": [
       "(10000, 512)"
      ]
     },
     "execution_count": 15,
     "metadata": {},
     "output_type": "execute_result"
    }
   ],
   "source": [
    "activations[22].shape"
   ]
  },
  {
   "cell_type": "code",
   "execution_count": null,
   "metadata": {},
   "outputs": [],
   "source": []
  },
  {
   "cell_type": "code",
   "execution_count": null,
   "metadata": {},
   "outputs": [],
   "source": []
  },
  {
   "cell_type": "code",
   "execution_count": null,
   "metadata": {},
   "outputs": [],
   "source": []
  },
  {
   "cell_type": "code",
   "execution_count": null,
   "metadata": {},
   "outputs": [],
   "source": []
  },
  {
   "cell_type": "code",
   "execution_count": null,
   "metadata": {},
   "outputs": [],
   "source": []
  },
  {
   "cell_type": "code",
   "execution_count": 16,
   "metadata": {},
   "outputs": [
    {
     "name": "stdout",
     "output_type": "stream",
     "text": [
      "Model: \"model_2\"\n",
      "_________________________________________________________________\n",
      "Layer (type)                 Output Shape              Param #   \n",
      "=================================================================\n",
      "input_1 (InputLayer)         (None, 32, 32, 3)         0         \n",
      "_________________________________________________________________\n",
      "conv2d_1 (Conv2D)            (None, 32, 32, 32)        896       \n",
      "_________________________________________________________________\n",
      "batch_normalization_1 (Batch (None, 32, 32, 32)        128       \n",
      "_________________________________________________________________\n",
      "activation_1 (Activation)    (None, 32, 32, 32)        0         \n",
      "_________________________________________________________________\n",
      "conv2d_2 (Conv2D)            (None, 32, 32, 32)        9248      \n",
      "_________________________________________________________________\n",
      "batch_normalization_2 (Batch (None, 32, 32, 32)        128       \n",
      "_________________________________________________________________\n",
      "activation_2 (Activation)    (None, 32, 32, 32)        0         \n",
      "_________________________________________________________________\n",
      "dwt__pooling_1 (DWT_Pooling) (None, 16, 16, 128)       0         \n",
      "_________________________________________________________________\n",
      "dropout_1 (Dropout)          (None, 16, 16, 128)       0         \n",
      "_________________________________________________________________\n",
      "conv2d_3 (Conv2D)            (None, 16, 16, 32)        36896     \n",
      "_________________________________________________________________\n",
      "dropout_2 (Dropout)          (None, 16, 16, 32)        0         \n",
      "_________________________________________________________________\n",
      "conv2d_4 (Conv2D)            (None, 16, 16, 64)        18496     \n",
      "_________________________________________________________________\n",
      "batch_normalization_3 (Batch (None, 16, 16, 64)        256       \n",
      "_________________________________________________________________\n",
      "activation_3 (Activation)    (None, 16, 16, 64)        0         \n",
      "_________________________________________________________________\n",
      "conv2d_5 (Conv2D)            (None, 16, 16, 64)        36928     \n",
      "_________________________________________________________________\n",
      "batch_normalization_4 (Batch (None, 16, 16, 64)        256       \n",
      "_________________________________________________________________\n",
      "activation_4 (Activation)    (None, 16, 16, 64)        0         \n",
      "_________________________________________________________________\n",
      "dwt__pooling_2 (DWT_Pooling) (None, 8, 8, 256)         0         \n",
      "_________________________________________________________________\n",
      "dropout_3 (Dropout)          (None, 8, 8, 256)         0         \n",
      "_________________________________________________________________\n",
      "conv2d_6 (Conv2D)            (None, 8, 8, 64)          147520    \n",
      "_________________________________________________________________\n",
      "flatten_1 (Flatten)          (None, 4096)              0         \n",
      "_________________________________________________________________\n",
      "dropout_4 (Dropout)          (None, 4096)              0         \n",
      "_________________________________________________________________\n",
      "dense_1 (Dense)              (None, 512)               2097664   \n",
      "_________________________________________________________________\n",
      "dropout_5 (Dropout)          (None, 512)               0         \n",
      "_________________________________________________________________\n",
      "dense_2 (Dense)              (None, 10)                5130      \n",
      "=================================================================\n",
      "Total params: 2,353,546\n",
      "Trainable params: 2,353,162\n",
      "Non-trainable params: 384\n",
      "_________________________________________________________________\n"
     ]
    }
   ],
   "source": [
    "activation_model.summary()"
   ]
  },
  {
   "cell_type": "code",
   "execution_count": null,
   "metadata": {},
   "outputs": [],
   "source": []
  },
  {
   "cell_type": "code",
   "execution_count": null,
   "metadata": {},
   "outputs": [],
   "source": []
  }
 ],
 "metadata": {
  "accelerator": "GPU",
  "colab": {
   "collapsed_sections": [],
   "name": "waveletcifar10.ipynb",
   "provenance": []
  },
  "kernelspec": {
   "display_name": "Python 3",
   "language": "python",
   "name": "python3"
  },
  "language_info": {
   "codemirror_mode": {
    "name": "ipython",
    "version": 3
   },
   "file_extension": ".py",
   "mimetype": "text/x-python",
   "name": "python",
   "nbconvert_exporter": "python",
   "pygments_lexer": "ipython3",
   "version": "3.6.13"
  }
 },
 "nbformat": 4,
 "nbformat_minor": 1
}
