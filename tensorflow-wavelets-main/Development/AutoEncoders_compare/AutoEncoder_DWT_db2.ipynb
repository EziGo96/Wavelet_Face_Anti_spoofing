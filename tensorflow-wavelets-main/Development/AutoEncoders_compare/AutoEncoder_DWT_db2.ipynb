{
 "cells": [
  {
   "cell_type": "code",
   "execution_count": 1,
   "id": "f1fcd46c",
   "metadata": {},
   "outputs": [],
   "source": [
    "import tensorflow as tf\n",
    "tf.compat.v1.enable_eager_execution()\n",
    "\n",
    "import matplotlib.pyplot as plt\n",
    "import numpy as np\n",
    "import pandas as pd\n",
    "\n",
    "import os\n",
    "import sys  \n",
    "sys.path.insert(0, 'G:\\\\My Drive\\\\Colab Notebooks\\\\tensorflow-wavelets\\src')\n",
    "\n",
    "from tensorflow_wavelets.utils.cast import *\n",
    "from tensorflow_wavelets.Layers.DWT import *\n",
    "from sklearn.metrics import accuracy_score, precision_score, recall_score\n",
    "from sklearn.model_selection import train_test_split\n",
    "from tensorflow.keras import layers, losses\n",
    "from tensorflow.keras.datasets import mnist\n",
    "from tensorflow.keras.models import Model\n"
   ]
  },
  {
   "cell_type": "code",
   "execution_count": 2,
   "id": "9eee2e6d",
   "metadata": {},
   "outputs": [
    {
     "name": "stdout",
     "output_type": "stream",
     "text": [
      "(60000, 28, 28, 1)\n",
      "(10000, 28, 28, 1)\n"
     ]
    }
   ],
   "source": [
    "(x_train, _), (x_test, _) = mnist.load_data()\n",
    "\n",
    "x_train = x_train.astype('float32') / 255.\n",
    "x_test = x_test.astype('float32') / 255.\n",
    "x_train = np.expand_dims(x_train, axis=-1)\n",
    "x_test = np.expand_dims(x_test, axis=-1)\n",
    "print (x_train.shape)\n",
    "print (x_test.shape)"
   ]
  },
  {
   "cell_type": "code",
   "execution_count": 8,
   "id": "095d3998",
   "metadata": {},
   "outputs": [],
   "source": [
    "latent_dim = 64 \n",
    "input_shape=(28, 28, 1)\n",
    "\n",
    "class Autoencoder(Model):\n",
    "  def __init__(self, latent_dim):\n",
    "    super(Autoencoder, self).__init__()\n",
    "    self.latent_dim = latent_dim   \n",
    "    \n",
    "    self.encoder = tf.keras.Sequential([\n",
    "        DWT(name=\"db2\", concat=1),\n",
    "        layers.Flatten(),\n",
    "        layers.Dense(latent_dim, activation='sigmoid'),\n",
    "    ])\n",
    "    \n",
    "    self.decoder = tf.keras.Sequential([\n",
    "        layers.Dense(900, activation='sigmoid'),\n",
    "        layers.Reshape((30, 30, 1)),\n",
    "        IDWT(name=\"db2\", splited=0),\n",
    "    ])\n",
    "\n",
    "  def call(self, x):\n",
    "    encoded = self.encoder(x)\n",
    "    decoded = self.decoder(encoded)\n",
    "    return decoded\n",
    "\n",
    "autoencoder = Autoencoder(latent_dim)\n",
    "autoencoder.compile(optimizer='adam', loss=losses.MeanSquaredError())"
   ]
  },
  {
   "cell_type": "code",
   "execution_count": 9,
   "id": "caa7f048",
   "metadata": {},
   "outputs": [
    {
     "name": "stdout",
     "output_type": "stream",
     "text": [
      "Train on 60000 samples, validate on 10000 samples\n",
      "Epoch 1/10\n",
      "60000/60000 [==============================] - 9s 144us/sample - loss: 0.0570 - val_loss: 0.0361\n",
      "Epoch 2/10\n",
      "60000/60000 [==============================] - 8s 128us/sample - loss: 0.0290 - val_loss: 0.0234\n",
      "Epoch 3/10\n",
      "60000/60000 [==============================] - 7s 124us/sample - loss: 0.0208 - val_loss: 0.0183\n",
      "Epoch 4/10\n",
      "60000/60000 [==============================] - 7s 124us/sample - loss: 0.0173 - val_loss: 0.0161\n",
      "Epoch 5/10\n",
      "60000/60000 [==============================] - 7s 125us/sample - loss: 0.0156 - val_loss: 0.0148\n",
      "Epoch 6/10\n",
      "60000/60000 [==============================] - 8s 127us/sample - loss: 0.0146 - val_loss: 0.0140\n",
      "Epoch 7/10\n",
      "60000/60000 [==============================] - 8s 128us/sample - loss: 0.0138 - val_loss: 0.0133\n",
      "Epoch 8/10\n",
      "60000/60000 [==============================] - 8s 127us/sample - loss: 0.0132 - val_loss: 0.0127\n",
      "Epoch 9/10\n",
      "60000/60000 [==============================] - 8s 127us/sample - loss: 0.0127 - val_loss: 0.0124\n",
      "Epoch 10/10\n",
      "60000/60000 [==============================] - 8s 127us/sample - loss: 0.0124 - val_loss: 0.0121\n"
     ]
    },
    {
     "data": {
      "text/plain": [
       "<tensorflow.python.keras.callbacks.History at 0x26fb1961198>"
      ]
     },
     "execution_count": 9,
     "metadata": {},
     "output_type": "execute_result"
    }
   ],
   "source": [
    "autoencoder.fit(x_train, x_train,\n",
    "                epochs=10,\n",
    "                shuffle=True,\n",
    "                validation_data=(x_test, x_test))\n"
   ]
  },
  {
   "cell_type": "code",
   "execution_count": 10,
   "id": "077f2ba7",
   "metadata": {},
   "outputs": [],
   "source": [
    "encoded_imgs = autoencoder.encoder(x_test).numpy()\n",
    "decoded_imgs = autoencoder.decoder(encoded_imgs).numpy()"
   ]
  },
  {
   "cell_type": "code",
   "execution_count": 11,
   "id": "3dc89224",
   "metadata": {},
   "outputs": [
    {
     "data": {
      "image/png": "[encoded data removed]",
      "text/plain": [
       "<Figure size 1440x288 with 20 Axes>"
      ]
     },
     "metadata": {
      "needs_background": "light"
     },
     "output_type": "display_data"
    }
   ],
   "source": [
    "n = 10\n",
    "plt.figure(figsize=(20, 4))\n",
    "for i in range(n):\n",
    "  # display original\n",
    "  ax = plt.subplot(2, n, i + 1)\n",
    "  plt.imshow(x_test[i])\n",
    "  plt.title(\"original\")\n",
    "  plt.gray()\n",
    "  ax.get_xaxis().set_visible(False)\n",
    "  ax.get_yaxis().set_visible(False)\n",
    "\n",
    "  # display reconstruction\n",
    "  ax = plt.subplot(2, n, i + 1 + n)\n",
    "  plt.imshow(decoded_imgs[i])\n",
    "  plt.title(\"reconstructed\")\n",
    "  plt.gray()\n",
    "  ax.get_xaxis().set_visible(False)\n",
    "  ax.get_yaxis().set_visible(False)\n",
    "plt.show()"
   ]
  },
  {
   "cell_type": "code",
   "execution_count": 12,
   "id": "d07f9305",
   "metadata": {},
   "outputs": [
    {
     "name": "stdout",
     "output_type": "stream",
     "text": [
      "Model: \"sequential_5\"\n",
      "_________________________________________________________________\n",
      "Layer (type)                 Output Shape              Param #   \n",
      "=================================================================\n",
      "dwt_3_db2 (DWT)              (None, 15, 15, 4)         0         \n",
      "_________________________________________________________________\n",
      "flatten_3 (Flatten)          (None, 900)               0         \n",
      "_________________________________________________________________\n",
      "dense_6 (Dense)              (None, 64)                57664     \n",
      "_________________________________________________________________\n",
      "dense_7 (Dense)              (None, 786)               51090     \n",
      "_________________________________________________________________\n",
      "reshape_3 (Reshape)          (None, 30, 30, 1)         0         \n",
      "_________________________________________________________________\n",
      "idwt_3_db2 (IDWT)            (None, 28, 28, 1)         0         \n",
      "=================================================================\n",
      "Total params: 108,754\n",
      "Trainable params: 108,754\n",
      "Non-trainable params: 0\n",
      "_________________________________________________________________\n"
     ]
    }
   ],
   "source": [
    "model = keras.Sequential()\n",
    "model.add(keras.Input(shape=input_shape))\n",
    "\n",
    "model.add(DWT(name=\"db2\", concat=0))\n",
    "model.add(keras.layers.Flatten())\n",
    "model.add(keras.layers.Dense(64, activation=\"sigmoid\"))\n",
    "model.add(keras.layers.Dense(786, activation=\"sigmoid\"))\n",
    "model.add(keras.layers.Reshape((30, 30, 1)))\n",
    "model.add(IDWT(name=\"db2\", splited=0))\n",
    "\n",
    "model.summary()"
   ]
  },
  {
   "cell_type": "code",
   "execution_count": null,
   "id": "d3d7597f",
   "metadata": {},
   "outputs": [],
   "source": []
  }
 ],
 "metadata": {
  "kernelspec": {
   "display_name": "Python 3",
   "language": "python",
   "name": "python3"
  },
  "language_info": {
   "codemirror_mode": {
    "name": "ipython",
    "version": 3
   },
   "file_extension": ".py",
   "mimetype": "text/x-python",
   "name": "python",
   "nbconvert_exporter": "python",
   "pygments_lexer": "ipython3",
   "version": "3.6.13"
  }
 },
 "nbformat": 4,
 "nbformat_minor": 5
}
