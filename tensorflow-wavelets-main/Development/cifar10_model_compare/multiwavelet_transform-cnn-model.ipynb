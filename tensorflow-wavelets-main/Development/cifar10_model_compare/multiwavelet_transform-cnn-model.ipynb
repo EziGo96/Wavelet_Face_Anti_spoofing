{
 "cells": [
  {
   "cell_type": "code",
   "execution_count": 1,
   "id": "a177ec7d",
   "metadata": {},
   "outputs": [],
   "source": [
    "import numpy as np\n",
    "import tensorflow as tf\n",
    "from tensorflow import keras\n",
    "from tensorflow.keras import layers, Model\n",
    "from tensorflow.keras.utils import to_categorical\n",
    "\n",
    "import os\n",
    "import sys  \n",
    "sys.path.insert(0, 'G:\\\\My Drive\\\\Colab Notebooks\\\\MWCNN')\n",
    "\n",
    "from Layers.DMWT import *\n",
    "from tensorflow.keras.datasets import cifar10\n",
    "from tensorflow.keras.optimizers import Adam, SGD"
   ]
  },
  {
   "cell_type": "code",
   "execution_count": 2,
   "id": "ba52173b",
   "metadata": {},
   "outputs": [],
   "source": [
    "nb_classes = 10\n",
    "batch_size = 32\n",
    "epochs = 40\n",
    "\n",
    "lr = 1e-4  # learning rate\n",
    "beta_1 = 0.9         # beta 1 - for adam optimizer\n",
    "beta_2 = 0.96        # beta 2 - for adam optimizer\n",
    "epsilon = 1e-7        # epsilon - for adam optimizer\n",
    "\n",
    "trainFactor = 0.8\n",
    "input_shape = (32, 32, 3) \n",
    "\n",
    "# optimizer = Adam(learning_rate=lr, beta_1=beta_1, beta_2=beta_2, epsilon=epsilon)\n",
    "optimizer = SGD(lr=lr, momentum=beta_1)\n",
    "\n",
    "(x_train, y_train), (x_test, y_test) = cifar10.load_data()\n",
    "\n",
    "y_train = to_categorical(y_train)\n",
    "y_test = to_categorical(y_test)\n",
    "x_train = x_train.astype('float32') / 255.0\n",
    "\n",
    "x_test = x_test.astype('float32') / 255.0\n"
   ]
  },
  {
   "cell_type": "code",
   "execution_count": 3,
   "id": "33273bbf",
   "metadata": {},
   "outputs": [
    {
     "name": "stdout",
     "output_type": "stream",
     "text": [
      "WARNING:tensorflow:From C:\\Users\\Olya\\Anaconda3\\envs\\dwtcnn\\lib\\site-packages\\tensorflow_core\\python\\ops\\resource_variable_ops.py:1630: calling BaseResourceVariable.__init__ (from tensorflow.python.ops.resource_variable_ops) with constraint is deprecated and will be removed in a future version.\n",
      "Instructions for updating:\n",
      "If using Keras pass *_constraint arguments to layers.\n",
      "Model: \"mymodel\"\n",
      "_________________________________________________________________\n",
      "Layer (type)                 Output Shape              Param #   \n",
      "=================================================================\n",
      "input_1 (InputLayer)         [(None, 32, 32, 3)]       0         \n",
      "_________________________________________________________________\n",
      "conv2d (Conv2D)              (None, 32, 32, 32)        896       \n",
      "_________________________________________________________________\n",
      "dmwt (DMWT)                  (None, 64, 64, 32)        0         \n",
      "_________________________________________________________________\n",
      "conv2d_1 (Conv2D)            (None, 64, 64, 64)        18496     \n",
      "_________________________________________________________________\n",
      "dropout (Dropout)            (None, 64, 64, 64)        0         \n",
      "_________________________________________________________________\n",
      "flatten (Flatten)            (None, 262144)            0         \n",
      "_________________________________________________________________\n",
      "dense (Dense)                (None, 10)                2621450   \n",
      "=================================================================\n",
      "Total params: 2,640,842\n",
      "Trainable params: 2,640,842\n",
      "Non-trainable params: 0\n",
      "_________________________________________________________________\n"
     ]
    }
   ],
   "source": [
    "\n",
    "x_input = layers.Input(shape=input_shape)\n",
    "x = layers.Conv2D(32, (3, 3), padding='same', activation=\"relu\")(x_input)\n",
    "x = DMWT('ghm')(x)\n",
    "x = layers.Conv2D(64, (3, 3), padding='same', activation=\"relu\")(x)\n",
    "x = layers.Dropout(0.5)(x)\n",
    "x = layers.Flatten()(x)\n",
    "x = layers.Dense(nb_classes, activation=\"softmax\")(x)\n",
    "\n",
    "model = Model(x_input, x, name=\"mymodel\")\n",
    "model.summary()\n",
    "\n"
   ]
  },
  {
   "cell_type": "code",
   "execution_count": 4,
   "id": "30715c34",
   "metadata": {},
   "outputs": [],
   "source": [
    "model.compile(loss=\"categorical_crossentropy\",\n",
    "              optimizer=optimizer, metrics=[\"accuracy\"])"
   ]
  },
  {
   "cell_type": "code",
   "execution_count": 5,
   "id": "178e4e7d",
   "metadata": {},
   "outputs": [
    {
     "name": "stdout",
     "output_type": "stream",
     "text": [
      "Train on 40000 samples, validate on 10000 samples\n",
      "Epoch 1/40\n",
      "40000/40000 - 95s - loss: 2.0385 - acc: 0.2745 - val_loss: 1.9034 - val_acc: 0.3329\n",
      "Epoch 2/40\n",
      "40000/40000 - 94s - loss: 1.8222 - acc: 0.3660 - val_loss: 1.7794 - val_acc: 0.3888\n",
      "Epoch 3/40\n",
      "40000/40000 - 92s - loss: 1.7290 - acc: 0.4015 - val_loss: 1.7027 - val_acc: 0.4143\n",
      "Epoch 4/40\n",
      "40000/40000 - 92s - loss: 1.6516 - acc: 0.4293 - val_loss: 1.6255 - val_acc: 0.4374\n",
      "Epoch 5/40\n",
      "40000/40000 - 92s - loss: 1.5740 - acc: 0.4533 - val_loss: 1.5536 - val_acc: 0.4638\n",
      "Epoch 6/40\n",
      "40000/40000 - 92s - loss: 1.5057 - acc: 0.4758 - val_loss: 1.4933 - val_acc: 0.4844\n",
      "Epoch 7/40\n",
      "40000/40000 - 92s - loss: 1.4466 - acc: 0.4936 - val_loss: 1.4317 - val_acc: 0.5036\n",
      "Epoch 8/40\n",
      "40000/40000 - 92s - loss: 1.4000 - acc: 0.5110 - val_loss: 1.4118 - val_acc: 0.5040\n",
      "Epoch 9/40\n",
      "40000/40000 - 92s - loss: 1.3645 - acc: 0.5220 - val_loss: 1.3705 - val_acc: 0.5186\n",
      "Epoch 10/40\n",
      "40000/40000 - 92s - loss: 1.3362 - acc: 0.5331 - val_loss: 1.3451 - val_acc: 0.5303\n",
      "Epoch 11/40\n",
      "40000/40000 - 92s - loss: 1.3142 - acc: 0.5385 - val_loss: 1.3346 - val_acc: 0.5311\n",
      "Epoch 12/40\n",
      "40000/40000 - 92s - loss: 1.2957 - acc: 0.5461 - val_loss: 1.3293 - val_acc: 0.5406\n",
      "Epoch 13/40\n",
      "40000/40000 - 92s - loss: 1.2766 - acc: 0.5537 - val_loss: 1.3114 - val_acc: 0.5443\n",
      "Epoch 14/40\n",
      "40000/40000 - 92s - loss: 1.2614 - acc: 0.5583 - val_loss: 1.2941 - val_acc: 0.5482\n",
      "Epoch 15/40\n",
      "40000/40000 - 92s - loss: 1.2472 - acc: 0.5656 - val_loss: 1.2926 - val_acc: 0.5472\n",
      "Epoch 16/40\n",
      "40000/40000 - 92s - loss: 1.2282 - acc: 0.5695 - val_loss: 1.2762 - val_acc: 0.5537\n",
      "Epoch 17/40\n",
      "40000/40000 - 92s - loss: 1.2148 - acc: 0.5750 - val_loss: 1.2639 - val_acc: 0.5575\n",
      "Epoch 18/40\n",
      "40000/40000 - 92s - loss: 1.2007 - acc: 0.5792 - val_loss: 1.2544 - val_acc: 0.5619\n",
      "Epoch 19/40\n",
      "40000/40000 - 92s - loss: 1.1874 - acc: 0.5871 - val_loss: 1.2500 - val_acc: 0.5662\n",
      "Epoch 20/40\n",
      "40000/40000 - 92s - loss: 1.1732 - acc: 0.5906 - val_loss: 1.2491 - val_acc: 0.5619\n",
      "Epoch 21/40\n",
      "40000/40000 - 92s - loss: 1.1597 - acc: 0.5954 - val_loss: 1.2199 - val_acc: 0.5772\n",
      "Epoch 22/40\n",
      "40000/40000 - 92s - loss: 1.1458 - acc: 0.5998 - val_loss: 1.2293 - val_acc: 0.5649\n",
      "Epoch 23/40\n",
      "40000/40000 - 92s - loss: 1.1359 - acc: 0.6053 - val_loss: 1.2084 - val_acc: 0.5794\n",
      "Epoch 24/40\n",
      "40000/40000 - 92s - loss: 1.1195 - acc: 0.6124 - val_loss: 1.2067 - val_acc: 0.5762\n",
      "Epoch 25/40\n",
      "40000/40000 - 92s - loss: 1.1093 - acc: 0.6136 - val_loss: 1.2036 - val_acc: 0.5832\n",
      "Epoch 26/40\n",
      "40000/40000 - 92s - loss: 1.0955 - acc: 0.6190 - val_loss: 1.1770 - val_acc: 0.5932\n",
      "Epoch 27/40\n",
      "40000/40000 - 92s - loss: 1.0868 - acc: 0.6233 - val_loss: 1.1720 - val_acc: 0.5899\n",
      "Epoch 28/40\n",
      "40000/40000 - 92s - loss: 1.0738 - acc: 0.6271 - val_loss: 1.1729 - val_acc: 0.5886\n",
      "Epoch 29/40\n",
      "40000/40000 - 92s - loss: 1.0614 - acc: 0.6322 - val_loss: 1.1723 - val_acc: 0.5861\n",
      "Epoch 30/40\n",
      "40000/40000 - 92s - loss: 1.0503 - acc: 0.6359 - val_loss: 1.1665 - val_acc: 0.5964\n",
      "Epoch 31/40\n",
      "40000/40000 - 92s - loss: 1.0377 - acc: 0.6424 - val_loss: 1.1467 - val_acc: 0.6018\n",
      "Epoch 32/40\n",
      "40000/40000 - 92s - loss: 1.0272 - acc: 0.6439 - val_loss: 1.1427 - val_acc: 0.6062\n",
      "Epoch 33/40\n",
      "40000/40000 - 92s - loss: 1.0153 - acc: 0.6486 - val_loss: 1.1393 - val_acc: 0.6050\n",
      "Epoch 34/40\n",
      "40000/40000 - 92s - loss: 1.0083 - acc: 0.6521 - val_loss: 1.1366 - val_acc: 0.6089\n",
      "Epoch 35/40\n",
      "40000/40000 - 92s - loss: 0.9949 - acc: 0.6554 - val_loss: 1.1339 - val_acc: 0.6054\n",
      "Epoch 36/40\n",
      "40000/40000 - 92s - loss: 0.9875 - acc: 0.6606 - val_loss: 1.1243 - val_acc: 0.6112\n",
      "Epoch 37/40\n",
      "40000/40000 - 92s - loss: 0.9781 - acc: 0.6630 - val_loss: 1.1159 - val_acc: 0.6094\n",
      "Epoch 38/40\n",
      "40000/40000 - 92s - loss: 0.9662 - acc: 0.6674 - val_loss: 1.1126 - val_acc: 0.6143\n",
      "Epoch 39/40\n",
      "40000/40000 - 92s - loss: 0.9579 - acc: 0.6683 - val_loss: 1.1191 - val_acc: 0.6123\n",
      "Epoch 40/40\n",
      "40000/40000 - 92s - loss: 0.9464 - acc: 0.6725 - val_loss: 1.1091 - val_acc: 0.6140\n"
     ]
    }
   ],
   "source": [
    "history = model.fit(x_train, y_train,\n",
    "                    validation_split=1 - trainFactor,\n",
    "                    epochs=epochs,\n",
    "                    batch_size=batch_size,\n",
    "                    verbose=2,\n",
    "                    )"
   ]
  },
  {
   "cell_type": "code",
   "execution_count": 6,
   "id": "376a481a",
   "metadata": {},
   "outputs": [
    {
     "data": {
      "image/png": "[encoded data removed]",
      "text/plain": [
       "<Figure size 432x288 with 1 Axes>"
      ]
     },
     "metadata": {
      "needs_background": "light"
     },
     "output_type": "display_data"
    }
   ],
   "source": [
    "import matplotlib.pyplot as plt\n",
    "plt.plot(history.history['loss'])\n",
    "plt.plot(history.history['val_loss'])\n",
    "plt.title('model loss')\n",
    "plt.ylabel('loss')\n",
    "plt.xlabel('epoch')\n",
    "plt.legend(['train', 'validation'], loc='upper left')\n",
    "\n",
    "plt.show()"
   ]
  },
  {
   "cell_type": "code",
   "execution_count": null,
   "id": "cc79c06b",
   "metadata": {},
   "outputs": [],
   "source": []
  },
  {
   "cell_type": "code",
   "execution_count": null,
   "id": "cc7c80bd",
   "metadata": {},
   "outputs": [],
   "source": []
  }
 ],
 "metadata": {
  "kernelspec": {
   "display_name": "Python 3",
   "language": "python",
   "name": "python3"
  },
  "language_info": {
   "codemirror_mode": {
    "name": "ipython",
    "version": 3
   },
   "file_extension": ".py",
   "mimetype": "text/x-python",
   "name": "python",
   "nbconvert_exporter": "python",
   "pygments_lexer": "ipython3",
   "version": "3.6.13"
  }
 },
 "nbformat": 4,
 "nbformat_minor": 5
}
