{
 "cells": [
  {
   "cell_type": "code",
   "execution_count": 1,
   "id": "a177ec7d",
   "metadata": {},
   "outputs": [],
   "source": [
    "import numpy as np\n",
    "import os\n",
    "os.environ['CUDA_VISIBLE_DEVICES'] = '-1'\n",
    "\n",
    "import tensorflow as tf\n",
    "from tensorflow import keras\n",
    "from tensorflow.keras import layers, Model\n",
    "from tensorflow.keras.utils import to_categorical\n",
    "\n",
    "import os\n",
    "import sys  \n",
    "sys.path.insert(0, 'C:\\\\Developer\\\\MWCNN')\n",
    "\n",
    "from Layers.DMWT import *\n",
    "from tensorflow.keras.datasets import cifar10\n",
    "from tensorflow.keras.optimizers import Adam, SGD"
   ]
  },
  {
   "cell_type": "code",
   "execution_count": null,
   "id": "f7d87069",
   "metadata": {},
   "outputs": [],
   "source": []
  },
  {
   "cell_type": "code",
   "execution_count": 2,
   "id": "ba52173b",
   "metadata": {},
   "outputs": [
    {
     "name": "stdout",
     "output_type": "stream",
     "text": [
      "Downloading data from https://www.cs.toronto.edu/~kriz/cifar-10-python.tar.gz\n",
      "170500096/170498071 [==============================] - 29s 0us/step\n"
     ]
    }
   ],
   "source": [
    "nb_classes = 10\n",
    "batch_size = 32\n",
    "epochs = 40\n",
    "\n",
    "lr = 1e-4  # learning rate\n",
    "beta_1 = 0.9         # beta 1 - for adam optimizer\n",
    "beta_2 = 0.96        # beta 2 - for adam optimizer\n",
    "epsilon = 1e-7        # epsilon - for adam optimizer\n",
    "\n",
    "trainFactor = 0.8\n",
    "input_shape = (32, 32, 3) \n",
    "\n",
    "# optimizer = Adam(learning_rate=lr, beta_1=beta_1, beta_2=beta_2, epsilon=epsilon)\n",
    "optimizer = SGD(lr=lr, momentum=beta_1)\n",
    "\n",
    "(x_train, y_train), (x_test, y_test) = cifar10.load_data()\n",
    "\n",
    "y_train = to_categorical(y_train)\n",
    "y_test = to_categorical(y_test)\n",
    "x_train = x_train.astype('float32') / 255.0\n",
    "\n",
    "x_test = x_test.astype('float32') / 255.0\n"
   ]
  },
  {
   "cell_type": "code",
   "execution_count": 3,
   "id": "33273bbf",
   "metadata": {},
   "outputs": [
    {
     "name": "stdout",
     "output_type": "stream",
     "text": [
      "WARNING:tensorflow:From C:\\Users\\tleiderm\\Anaconda3\\envs\\dwtcnn\\lib\\site-packages\\tensorflow_core\\python\\ops\\resource_variable_ops.py:1630: calling BaseResourceVariable.__init__ (from tensorflow.python.ops.resource_variable_ops) with constraint is deprecated and will be removed in a future version.\n",
      "Instructions for updating:\n",
      "If using Keras pass *_constraint arguments to layers.\n",
      "Model: \"mymodel\"\n",
      "_________________________________________________________________\n",
      "Layer (type)                 Output Shape              Param #   \n",
      "=================================================================\n",
      "input_1 (InputLayer)         [(None, 32, 32, 3)]       0         \n",
      "_________________________________________________________________\n",
      "conv2d (Conv2D)              (None, 32, 32, 32)        896       \n",
      "_________________________________________________________________\n",
      "dmwt (DMWT)                  (None, 32, 32, 32)        0         \n",
      "_________________________________________________________________\n",
      "conv2d_1 (Conv2D)            (None, 32, 32, 64)        18496     \n",
      "_________________________________________________________________\n",
      "dropout (Dropout)            (None, 32, 32, 64)        0         \n",
      "_________________________________________________________________\n",
      "flatten (Flatten)            (None, 65536)             0         \n",
      "_________________________________________________________________\n",
      "dense (Dense)                (None, 10)                655370    \n",
      "=================================================================\n",
      "Total params: 674,762\n",
      "Trainable params: 674,762\n",
      "Non-trainable params: 0\n",
      "_________________________________________________________________\n"
     ]
    }
   ],
   "source": [
    "\n",
    "x_input = layers.Input(shape=input_shape)\n",
    "x = layers.Conv2D(32, (3, 3), padding='same', activation=\"relu\")(x_input)\n",
    "x = DMWT('dd2')(x)\n",
    "x = layers.Conv2D(64, (3, 3), padding='same', activation=\"relu\")(x)\n",
    "x = layers.Dropout(0.5)(x)\n",
    "x = layers.Flatten()(x)\n",
    "x = layers.Dense(nb_classes, activation=\"softmax\")(x)\n",
    "\n",
    "model = Model(x_input, x, name=\"mymodel\")\n",
    "model.summary()\n",
    "\n"
   ]
  },
  {
   "cell_type": "code",
   "execution_count": 4,
   "id": "30715c34",
   "metadata": {},
   "outputs": [],
   "source": [
    "model.compile(loss=\"categorical_crossentropy\",\n",
    "              optimizer=optimizer, metrics=[\"accuracy\"])"
   ]
  },
  {
   "cell_type": "code",
   "execution_count": 5,
   "id": "178e4e7d",
   "metadata": {},
   "outputs": [
    {
     "name": "stdout",
     "output_type": "stream",
     "text": [
      "Train on 40000 samples, validate on 10000 samples\n",
      "Epoch 1/40\n",
      "40000/40000 - 327s - loss: 2.1007 - acc: 0.2427 - val_loss: 1.9292 - val_acc: 0.3283\n",
      "Epoch 2/40\n",
      "40000/40000 - 330s - loss: 1.8822 - acc: 0.3426 - val_loss: 1.8281 - val_acc: 0.3630\n",
      "Epoch 3/40\n",
      "40000/40000 - 330s - loss: 1.7937 - acc: 0.3726 - val_loss: 1.7604 - val_acc: 0.3859\n",
      "Epoch 4/40\n",
      "40000/40000 - 323s - loss: 1.7314 - acc: 0.3967 - val_loss: 1.7131 - val_acc: 0.4091\n",
      "Epoch 5/40\n",
      "40000/40000 - 331s - loss: 1.6862 - acc: 0.4142 - val_loss: 1.6735 - val_acc: 0.4216\n",
      "Epoch 6/40\n",
      "40000/40000 - 328s - loss: 1.6437 - acc: 0.4286 - val_loss: 1.6296 - val_acc: 0.4415\n",
      "Epoch 7/40\n",
      "40000/40000 - 332s - loss: 1.6023 - acc: 0.4419 - val_loss: 1.5982 - val_acc: 0.4472\n",
      "Epoch 8/40\n",
      "40000/40000 - 247s - loss: 1.5614 - acc: 0.4565 - val_loss: 1.5510 - val_acc: 0.4639\n",
      "Epoch 9/40\n",
      "40000/40000 - 231s - loss: 1.5236 - acc: 0.4673 - val_loss: 1.5204 - val_acc: 0.4727\n",
      "Epoch 10/40\n",
      "40000/40000 - 227s - loss: 1.4855 - acc: 0.4806 - val_loss: 1.4853 - val_acc: 0.4837\n",
      "Epoch 11/40\n",
      "40000/40000 - 233s - loss: 1.4513 - acc: 0.4890 - val_loss: 1.4454 - val_acc: 0.4936\n",
      "Epoch 12/40\n",
      "40000/40000 - 248s - loss: 1.4209 - acc: 0.5020 - val_loss: 1.4249 - val_acc: 0.5073\n",
      "Epoch 13/40\n",
      "40000/40000 - 251s - loss: 1.3948 - acc: 0.5074 - val_loss: 1.3968 - val_acc: 0.5136\n",
      "Epoch 14/40\n",
      "40000/40000 - 248s - loss: 1.3681 - acc: 0.5178 - val_loss: 1.3813 - val_acc: 0.5151\n",
      "Epoch 15/40\n",
      "40000/40000 - 253s - loss: 1.3515 - acc: 0.5241 - val_loss: 1.3644 - val_acc: 0.5252\n",
      "Epoch 16/40\n",
      "40000/40000 - 248s - loss: 1.3346 - acc: 0.5306 - val_loss: 1.3349 - val_acc: 0.5342\n",
      "Epoch 17/40\n",
      "40000/40000 - 249s - loss: 1.3154 - acc: 0.5389 - val_loss: 1.3307 - val_acc: 0.5354\n",
      "Epoch 18/40\n",
      "40000/40000 - 239s - loss: 1.3033 - acc: 0.5404 - val_loss: 1.3261 - val_acc: 0.5380\n",
      "Epoch 19/40\n",
      "40000/40000 - 230s - loss: 1.2857 - acc: 0.5480 - val_loss: 1.2996 - val_acc: 0.5435\n",
      "Epoch 20/40\n",
      "40000/40000 - 230s - loss: 1.2769 - acc: 0.5510 - val_loss: 1.3041 - val_acc: 0.5408\n",
      "Epoch 21/40\n",
      "40000/40000 - 224s - loss: 1.2601 - acc: 0.5572 - val_loss: 1.2813 - val_acc: 0.5507\n",
      "Epoch 22/40\n",
      "40000/40000 - 226s - loss: 1.2504 - acc: 0.5622 - val_loss: 1.2845 - val_acc: 0.5508\n",
      "Epoch 23/40\n",
      "40000/40000 - 228s - loss: 1.2388 - acc: 0.5647 - val_loss: 1.2626 - val_acc: 0.5611\n",
      "Epoch 24/40\n",
      "40000/40000 - 219s - loss: 1.2270 - acc: 0.5717 - val_loss: 1.2720 - val_acc: 0.5593\n",
      "Epoch 25/40\n",
      "40000/40000 - 215s - loss: 1.2159 - acc: 0.5751 - val_loss: 1.2568 - val_acc: 0.5611\n",
      "Epoch 26/40\n",
      "40000/40000 - 218s - loss: 1.2030 - acc: 0.5811 - val_loss: 1.2451 - val_acc: 0.5672\n",
      "Epoch 27/40\n",
      "40000/40000 - 216s - loss: 1.1935 - acc: 0.5837 - val_loss: 1.2283 - val_acc: 0.5720\n",
      "Epoch 28/40\n",
      "40000/40000 - 212s - loss: 1.1836 - acc: 0.5874 - val_loss: 1.2259 - val_acc: 0.5772\n",
      "Epoch 29/40\n",
      "40000/40000 - 224s - loss: 1.1740 - acc: 0.5908 - val_loss: 1.2360 - val_acc: 0.5630\n",
      "Epoch 30/40\n",
      "40000/40000 - 220s - loss: 1.1658 - acc: 0.5932 - val_loss: 1.2168 - val_acc: 0.5733\n",
      "Epoch 31/40\n",
      "40000/40000 - 218s - loss: 1.1544 - acc: 0.5967 - val_loss: 1.2008 - val_acc: 0.5858\n",
      "Epoch 32/40\n",
      "40000/40000 - 227s - loss: 1.1459 - acc: 0.6012 - val_loss: 1.1998 - val_acc: 0.5778\n",
      "Epoch 33/40\n",
      "40000/40000 - 235s - loss: 1.1336 - acc: 0.6062 - val_loss: 1.2039 - val_acc: 0.5775\n",
      "Epoch 34/40\n",
      "40000/40000 - 230s - loss: 1.1264 - acc: 0.6111 - val_loss: 1.1836 - val_acc: 0.5889\n",
      "Epoch 35/40\n",
      "40000/40000 - 226s - loss: 1.1182 - acc: 0.6119 - val_loss: 1.1930 - val_acc: 0.5879\n",
      "Epoch 36/40\n",
      "40000/40000 - 226s - loss: 1.1079 - acc: 0.6163 - val_loss: 1.1651 - val_acc: 0.5993\n",
      "Epoch 37/40\n",
      "40000/40000 - 238s - loss: 1.0990 - acc: 0.6184 - val_loss: 1.1639 - val_acc: 0.5952\n",
      "Epoch 38/40\n",
      "40000/40000 - 220s - loss: 1.0909 - acc: 0.6207 - val_loss: 1.1609 - val_acc: 0.6023\n",
      "Epoch 39/40\n",
      "40000/40000 - 221s - loss: 1.0828 - acc: 0.6262 - val_loss: 1.1610 - val_acc: 0.5981\n",
      "Epoch 40/40\n",
      "40000/40000 - 215s - loss: 1.0696 - acc: 0.6277 - val_loss: 1.1393 - val_acc: 0.6086\n"
     ]
    }
   ],
   "source": [
    "history = model.fit(x_train, y_train,\n",
    "                    validation_split=1 - trainFactor,\n",
    "                    epochs=epochs,\n",
    "                    batch_size=batch_size,\n",
    "                    verbose=2,\n",
    "                    )"
   ]
  },
  {
   "cell_type": "code",
   "execution_count": 6,
   "id": "376a481a",
   "metadata": {},
   "outputs": [
    {
     "data": {
      "image/png": "[encoded data removed]",
      "text/plain": [
       "<Figure size 432x288 with 1 Axes>"
      ]
     },
     "metadata": {
      "needs_background": "light"
     },
     "output_type": "display_data"
    }
   ],
   "source": [
    "import matplotlib.pyplot as plt\n",
    "plt.plot(history.history['loss'])\n",
    "plt.plot(history.history['val_loss'])\n",
    "plt.title('model loss')\n",
    "plt.ylabel('loss')\n",
    "plt.xlabel('epoch')\n",
    "plt.legend(['train', 'validation'], loc='upper left')\n",
    "\n",
    "plt.show()"
   ]
  },
  {
   "cell_type": "code",
   "execution_count": null,
   "id": "03805280",
   "metadata": {},
   "outputs": [],
   "source": []
  }
 ],
 "metadata": {
  "kernelspec": {
   "display_name": "Python 3",
   "language": "python",
   "name": "python3"
  },
  "language_info": {
   "codemirror_mode": {
    "name": "ipython",
    "version": 3
   },
   "file_extension": ".py",
   "mimetype": "text/x-python",
   "name": "python",
   "nbconvert_exporter": "python",
   "pygments_lexer": "ipython3",
   "version": "3.6.13"
  }
 },
 "nbformat": 4,
 "nbformat_minor": 5
}
