{
 "cells": [
  {
   "cell_type": "code",
   "execution_count": null,
   "id": "61678c26",
   "metadata": {},
   "outputs": [],
   "source": [
    "%tensorflow_version 2.x\n",
    "\n",
    "import tensorflow as tf\n",
    "import tensorflow_hub as hub\n",
    "import cv2\n",
    "import numpy as np\n",
    "import matplotlib.pyplot as plt"
   ]
  },
  {
   "cell_type": "code",
   "execution_count": null,
   "id": "d390fab4",
   "metadata": {},
   "outputs": [],
   "source": [
    "# grab the model from Tensorflow hub and append a softmax activation\n",
    "model = tf.keras.Sequential([\n",
    "    hub.KerasLayer('https://tfhub.dev/google/tf2-preview/inception_v3/classification/4'),\n",
    "    tf.keras.layers.Activation('softmax')\n",
    "])\n",
    "\n",
    "# build the model based on a specified batch input shape\n",
    "model.build([None, 300, 300, 3])"
   ]
  },
  {
   "cell_type": "code",
   "execution_count": null,
   "id": "2458637f",
   "metadata": {},
   "outputs": [],
   "source": [
    "!wget -O image.jpg https://cdn.pixabay.com/photo/2018/02/27/14/11/the-pacific-ocean-3185553_960_720.jpg\n",
    "\n",
    "# If you want to try the cat, uncomment this line\n",
    "# !wget -O image.jpg https://cdn.pixabay.com/photo/2018/02/27/14/11/the-pacific-ocean-3185553_960_720.jpg"
   ]
  },
  {
   "cell_type": "code",
   "execution_count": null,
   "id": "898c9eb0",
   "metadata": {},
   "outputs": [],
   "source": [
    "# read the image\n",
    "img = cv2.imread('image.jpg')\n",
    "\n",
    "# format it to be in the RGB colorspace\n",
    "img = cv2.cvtColor(img, cv2.COLOR_BGR2RGB) \n",
    "\n",
    "# resize to 300x300 and normalize pixel values to be in the range [0, 1]\n",
    "img = cv2.resize(img, (300, 300)) / 255.0\n",
    "\n",
    "# add a batch dimension in front\n",
    "image = np.expand_dims(img, axis=0)"
   ]
  },
  {
   "cell_type": "code",
   "execution_count": null,
   "id": "741bb455",
   "metadata": {},
   "outputs": [],
   "source": [
    "plt.figure(figsize=(8, 8))\n",
    "plt.imshow(img)\n",
    "plt.axis('off')\n",
    "plt.show()"
   ]
  },
  {
   "cell_type": "code",
   "execution_count": null,
   "id": "43b0db65",
   "metadata": {},
   "outputs": [],
   "source": [
    "# Siberian Husky's class ID in ImageNet\n",
    "class_index = 251   \n",
    "\n",
    "# If you downloaded the cat, use this line instead\n",
    "#class_index = 282   # Tabby Cat in ImageNet\n",
    "\n",
    "# number of classes in the model's training data\n",
    "num_classes = 1001\n",
    "\n",
    "# convert to one hot representation to match our softmax activation in the model definition\n",
    "expected_output = tf.one_hot([class_index] * image.shape[0], num_classes)\n",
    "\n",
    "with tf.GradientTape() as tape:\n",
    "    # cast image to float\n",
    "    inputs = tf.cast(image, tf.float32)\n",
    "\n",
    "    # watch the input pixels\n",
    "    tape.watch(inputs)\n",
    "\n",
    "    # generate the predictions\n",
    "    predictions = model(inputs)\n",
    "\n",
    "    # get the loss\n",
    "    loss = tf.keras.losses.categorical_crossentropy(\n",
    "        expected_output, predictions\n",
    "    )\n",
    "\n",
    "# get the gradient with respect to the inputs\n",
    "gradients = tape.gradient(loss, inputs)"
   ]
  },
  {
   "cell_type": "code",
   "execution_count": null,
   "id": "f31da825",
   "metadata": {},
   "outputs": [],
   "source": [
    "# reduce the RGB image to grayscale\n",
    "grayscale_tensor = tf.reduce_sum(tf.abs(gradients), axis=-1)\n",
    "\n",
    "# normalize the pixel values to be in the range [0, 255].\n",
    "# the max value in the grayscale tensor will be pushed to 255.\n",
    "# the min value will be pushed to 0.\n",
    "normalized_tensor = tf.cast(\n",
    "    255\n",
    "    * (grayscale_tensor - tf.reduce_min(grayscale_tensor))\n",
    "    / (tf.reduce_max(grayscale_tensor) - tf.reduce_min(grayscale_tensor)),\n",
    "    tf.uint8,\n",
    ")\n",
    "\n",
    "# remove the channel dimension to make the tensor a 2d tensor\n",
    "normalized_tensor = tf.squeeze(normalized_tensor)"
   ]
  },
  {
   "cell_type": "code",
   "execution_count": null,
   "id": "251b0408",
   "metadata": {},
   "outputs": [],
   "source": [
    "# max and min value in the grayscale tensor\n",
    "print(np.max(grayscale_tensor[0]))\n",
    "print(np.min(grayscale_tensor[0]))\n",
    "print()\n",
    "\n",
    "# coordinates of the first pixel where the max and min values are located\n",
    "max_pixel = np.unravel_index(np.argmax(grayscale_tensor[0]), grayscale_tensor[0].shape)\n",
    "min_pixel = np.unravel_index(np.argmin(grayscale_tensor[0]), grayscale_tensor[0].shape)\n",
    "print(max_pixel)\n",
    "print(min_pixel)\n",
    "print()\n",
    "\n",
    "# these coordinates should have the max (255) and min (0) value in the normalized tensor\n",
    "print(normalized_tensor[max_pixel])\n",
    "print(normalized_tensor[min_pixel])"
   ]
  },
  {
   "cell_type": "code",
   "execution_count": null,
   "id": "4a239888",
   "metadata": {},
   "outputs": [],
   "source": [
    "plt.figure(figsize=(8, 8))\n",
    "plt.axis('off')\n",
    "plt.imshow(normalized_tensor, cmap='gray')\n",
    "plt.show()"
   ]
  },
  {
   "cell_type": "code",
   "execution_count": null,
   "id": "d4c6c71d",
   "metadata": {},
   "outputs": [],
   "source": [
    "gradient_color = cv2.applyColorMap(normalized_tensor.numpy(), cv2.COLORMAP_HOT)\n",
    "gradient_color = gradient_color / 255.0\n",
    "super_imposed = cv2.addWeighted(img, 0.5, gradient_color, 0.5, 0.0)\n",
    "\n",
    "plt.figure(figsize=(8, 8))\n",
    "plt.imshow(super_imposed)\n",
    "plt.axis('off')\n",
    "plt.show()"
   ]
  }
 ],
 "metadata": {
  "kernelspec": {
   "display_name": "test",
   "language": "python",
   "name": "test"
  },
  "language_info": {
   "codemirror_mode": {
    "name": "ipython",
    "version": 3
   },
   "file_extension": ".py",
   "mimetype": "text/x-python",
   "name": "python",
   "nbconvert_exporter": "python",
   "pygments_lexer": "ipython3",
   "version": "3.8.11"
  }
 },
 "nbformat": 4,
 "nbformat_minor": 5
}
