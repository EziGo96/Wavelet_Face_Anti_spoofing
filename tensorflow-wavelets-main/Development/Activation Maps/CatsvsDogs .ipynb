{
 "cells": [
  {
   "cell_type": "code",
   "execution_count": 1,
   "metadata": {},
   "outputs": [],
   "source": [
    "import tensorflow_datasets as tfds\n",
    "import tensorflow as tf\n",
    "\n",
    "import keras\n",
    "from keras.models import Sequential,Model\n",
    "from keras.layers import Dense,Conv2D,Flatten,MaxPooling2D,GlobalAveragePooling2D\n",
    "from tensorflow.keras.utils import plot_model\n",
    "\n",
    "import numpy as np\n",
    "import matplotlib.pyplot as plt\n",
    "import scipy as sp\n",
    "import cv2"
   ]
  },
  {
   "cell_type": "code",
   "execution_count": 2,
   "metadata": {},
   "outputs": [],
   "source": [
    "train_data = tfds.load('cats_vs_dogs', split='train[:80%]', as_supervised=True)\n",
    "validation_data = tfds.load('cats_vs_dogs', split='train[80%:90%]', as_supervised=True)\n",
    "test_data = tfds.load('cats_vs_dogs', split='train[-10%:]', as_supervised=True)"
   ]
  },
  {
   "cell_type": "code",
   "execution_count": 3,
   "metadata": {},
   "outputs": [],
   "source": [
    "def augment_images(image, label):\n",
    "  \n",
    "  # cast to float\n",
    "  image = tf.cast(image, tf.float32)\n",
    "  # normalize the pixel values\n",
    "  image = (image/255)\n",
    "  # resize to 300 x 300\n",
    "  image = tf.image.resize(image,(300,300))\n",
    "\n",
    "  return image, label\n",
    "\n",
    "# use the utility function above to preprocess the images\n",
    "augmented_training_data = train_data.map(augment_images)\n",
    "\n",
    "# shuffle and create batches before training\n",
    "train_batches = augmented_training_data.shuffle(1024).batch(32)"
   ]
  },
  {
   "cell_type": "code",
   "execution_count": 4,
   "metadata": {},
   "outputs": [
    {
     "name": "stdout",
     "output_type": "stream",
     "text": [
      "Model: \"sequential\"\n",
      "_________________________________________________________________\n",
      "Layer (type)                 Output Shape              Param #   \n",
      "=================================================================\n",
      "conv2d (Conv2D)              (None, 300, 300, 16)      448       \n",
      "_________________________________________________________________\n",
      "max_pooling2d (MaxPooling2D) (None, 150, 150, 16)      0         \n",
      "_________________________________________________________________\n",
      "conv2d_1 (Conv2D)            (None, 150, 150, 32)      4640      \n",
      "_________________________________________________________________\n",
      "max_pooling2d_1 (MaxPooling2 (None, 75, 75, 32)        0         \n",
      "_________________________________________________________________\n",
      "conv2d_2 (Conv2D)            (None, 75, 75, 64)        18496     \n",
      "_________________________________________________________________\n",
      "max_pooling2d_2 (MaxPooling2 (None, 37, 37, 64)        0         \n",
      "_________________________________________________________________\n",
      "conv2d_3 (Conv2D)            (None, 37, 37, 128)       73856     \n",
      "_________________________________________________________________\n",
      "global_average_pooling2d (Gl (None, 128)               0         \n",
      "_________________________________________________________________\n",
      "dense (Dense)                (None, 1)                 129       \n",
      "=================================================================\n",
      "Total params: 97,569\n",
      "Trainable params: 97,569\n",
      "Non-trainable params: 0\n",
      "_________________________________________________________________\n"
     ]
    }
   ],
   "source": [
    "model = Sequential()\n",
    "model.add(Conv2D(16,input_shape=(300,300,3),kernel_size=(3,3),activation='relu',padding='same'))\n",
    "model.add(MaxPooling2D(pool_size=(2,2)))\n",
    "\n",
    "model.add(Conv2D(32,kernel_size=(3,3),activation='relu',padding='same'))\n",
    "model.add(MaxPooling2D(pool_size=(2,2)))\n",
    "\n",
    "model.add(Conv2D(64,kernel_size=(3,3),activation='relu',padding='same'))\n",
    "model.add(MaxPooling2D(pool_size=(2,2)))\n",
    "\n",
    "model.add(Conv2D(128,kernel_size=(3,3),activation='relu',padding='same'))\n",
    "model.add(GlobalAveragePooling2D())\n",
    "model.add(Dense(1,activation='sigmoid'))\n",
    "\n",
    "model.summary()"
   ]
  },
  {
   "cell_type": "code",
   "execution_count": 5,
   "metadata": {},
   "outputs": [
    {
     "name": "stdout",
     "output_type": "stream",
     "text": [
      "Epoch 1/3\n"
     ]
    },
    {
     "name": "stderr",
     "output_type": "stream",
     "text": [
      "C:\\Users\\Olya\\Anaconda3\\envs\\test\\lib\\site-packages\\keras\\optimizer_v2\\optimizer_v2.py:355: UserWarning: The `lr` argument is deprecated, use `learning_rate` instead.\n",
      "  warnings.warn(\n"
     ]
    },
    {
     "name": "stdout",
     "output_type": "stream",
     "text": [
      "582/582 [==============================] - 335s 574ms/step - loss: 0.6542 - accuracy: 0.6002\n",
      "Epoch 2/3\n",
      "582/582 [==============================] - 337s 578ms/step - loss: 0.6306 - accuracy: 0.6363\n",
      "Epoch 3/3\n",
      "582/582 [==============================] - 345s 593ms/step - loss: 0.6052 - accuracy: 0.6692\n"
     ]
    },
    {
     "data": {
      "text/plain": [
       "<keras.callbacks.History at 0x28507495910>"
      ]
     },
     "execution_count": 5,
     "metadata": {},
     "output_type": "execute_result"
    }
   ],
   "source": [
    "model.compile(loss='binary_crossentropy',metrics=['accuracy'],optimizer=tf.keras.optimizers.RMSprop(lr=0.001))\n",
    "model.fit(train_batches,epochs=3)"
   ]
  },
  {
   "cell_type": "code",
   "execution_count": 6,
   "metadata": {},
   "outputs": [
    {
     "name": "stdout",
     "output_type": "stream",
     "text": [
      "Model: \"model\"\n",
      "_________________________________________________________________\n",
      "Layer (type)                 Output Shape              Param #   \n",
      "=================================================================\n",
      "conv2d_input (InputLayer)    [(None, 300, 300, 3)]     0         \n",
      "_________________________________________________________________\n",
      "conv2d (Conv2D)              (None, 300, 300, 16)      448       \n",
      "_________________________________________________________________\n",
      "max_pooling2d (MaxPooling2D) (None, 150, 150, 16)      0         \n",
      "_________________________________________________________________\n",
      "conv2d_1 (Conv2D)            (None, 150, 150, 32)      4640      \n",
      "_________________________________________________________________\n",
      "max_pooling2d_1 (MaxPooling2 (None, 75, 75, 32)        0         \n",
      "_________________________________________________________________\n",
      "conv2d_2 (Conv2D)            (None, 75, 75, 64)        18496     \n",
      "_________________________________________________________________\n",
      "max_pooling2d_2 (MaxPooling2 (None, 37, 37, 64)        0         \n",
      "_________________________________________________________________\n",
      "conv2d_3 (Conv2D)            (None, 37, 37, 128)       73856     \n",
      "_________________________________________________________________\n",
      "global_average_pooling2d (Gl (None, 128)               0         \n",
      "_________________________________________________________________\n",
      "dense (Dense)                (None, 1)                 129       \n",
      "=================================================================\n",
      "Total params: 97,569\n",
      "Trainable params: 97,569\n",
      "Non-trainable params: 0\n",
      "_________________________________________________________________\n"
     ]
    }
   ],
   "source": [
    "gap_weights = model.layers[-1].get_weights()[0]\n",
    "gap_weights.shape\n",
    "\n",
    "cam_model  = Model(inputs=model.input,outputs=(model.layers[-3].output,model.layers[-1].output))\n",
    "cam_model.summary()"
   ]
  },
  {
   "cell_type": "code",
   "execution_count": 7,
   "metadata": {},
   "outputs": [],
   "source": [
    "def show_cam(image_value, features, results):\n",
    "  '''\n",
    "  Displays the class activation map of an image\n",
    "\n",
    "  Args:\n",
    "    image_value (tensor) -- preprocessed input image with size 300 x 300\n",
    "    features (array) -- features of the image, shape (1, 37, 37, 128)\n",
    "    results (array) -- output of the sigmoid layer\n",
    "  '''\n",
    "\n",
    "  # there is only one image in the batch so we index at `0`\n",
    "  features_for_img = features[0]\n",
    "  prediction = results[0]\n",
    "\n",
    "  # there is only one unit in the output so we get the weights connected to it\n",
    "  class_activation_weights = gap_weights[:,0]\n",
    "\n",
    "  # upsample to the image size\n",
    "  class_activation_features = sp.ndimage.zoom(features_for_img, (300/37, 300/37, 1), order=2)\n",
    "  \n",
    "  # compute the intensity of each feature in the CAM\n",
    "  cam_output  = np.dot(class_activation_features,class_activation_weights)\n",
    "\n",
    "  # visualize the results\n",
    "  print(f'sigmoid output: {results}')\n",
    "  print(f\"prediction: {'dog' if round(results[0][0]) else 'cat'}\")\n",
    "  plt.figure(figsize=(8,8))\n",
    "  plt.imshow(cam_output, cmap='jet', alpha=0.5)\n",
    "  plt.imshow(tf.squeeze(image_value), alpha=0.5)\n",
    "  plt.show()"
   ]
  },
  {
   "cell_type": "code",
   "execution_count": 8,
   "metadata": {},
   "outputs": [
    {
     "name": "stderr",
     "output_type": "stream",
     "text": [
      "SYSTEM_WGETRC = c:/progra~1/wget/etc/wgetrc\n",
      "syswgetrc = C:\\Program Files (x86)\\GnuWin32/etc/wgetrc\n",
      "--2021-10-30 20:44:10--  https://storage.googleapis.com/laurencemoroney-blog.appspot.com/MLColabImages/cat1.jpg\n",
      "Resolving storage.googleapis.com... 142.250.181.240, 142.250.185.176, 172.217.16.144, ...\n",
      "Connecting to storage.googleapis.com|142.250.181.240|:443... connected.\n",
      "ERROR: cannot verify storage.googleapis.com's certificate, issued by `/C=US/O=Google Trust Services LLC/CN=GTS CA 1C3':\n",
      "  Unable to locally verify the issuer's authority.\n",
      "ERROR: certificate common name `*.storage.googleapis.com' doesn't match requested host name `storage.googleapis.com'.\n",
      "To connect to storage.googleapis.com insecurely, use `--no-check-certificate'.\n",
      "Unable to establish SSL connection.\n",
      "SYSTEM_WGETRC = c:/progra~1/wget/etc/wgetrc\n",
      "syswgetrc = C:\\Program Files (x86)\\GnuWin32/etc/wgetrc\n",
      "--2021-10-30 20:44:10--  https://storage.googleapis.com/laurencemoroney-blog.appspot.com/MLColabImages/cat2.jpg\n",
      "Resolving storage.googleapis.com... 142.250.181.240, 142.250.185.176, 172.217.16.144, ...\n",
      "Connecting to storage.googleapis.com|142.250.181.240|:443... connected.\n",
      "ERROR: cannot verify storage.googleapis.com's certificate, issued by `/C=US/O=Google Trust Services LLC/CN=GTS CA 1C3':\n",
      "  Unable to locally verify the issuer's authority.\n",
      "ERROR: certificate common name `*.storage.googleapis.com' doesn't match requested host name `storage.googleapis.com'.\n",
      "To connect to storage.googleapis.com insecurely, use `--no-check-certificate'.\n",
      "Unable to establish SSL connection.\n",
      "SYSTEM_WGETRC = c:/progra~1/wget/etc/wgetrc\n",
      "syswgetrc = C:\\Program Files (x86)\\GnuWin32/etc/wgetrc\n",
      "--2021-10-30 20:44:10--  https://storage.googleapis.com/laurencemoroney-blog.appspot.com/MLColabImages/catanddog.jpg\n",
      "Resolving storage.googleapis.com... 142.250.181.240, 142.250.185.176, 172.217.16.144, ...\n",
      "Connecting to storage.googleapis.com|142.250.181.240|:443... connected.\n",
      "ERROR: cannot verify storage.googleapis.com's certificate, issued by `/C=US/O=Google Trust Services LLC/CN=GTS CA 1C3':\n",
      "  Unable to locally verify the issuer's authority.\n",
      "ERROR: certificate common name `*.storage.googleapis.com' doesn't match requested host name `storage.googleapis.com'.\n",
      "To connect to storage.googleapis.com insecurely, use `--no-check-certificate'.\n",
      "Unable to establish SSL connection.\n",
      "SYSTEM_WGETRC = c:/progra~1/wget/etc/wgetrc\n",
      "syswgetrc = C:\\Program Files (x86)\\GnuWin32/etc/wgetrc\n",
      "--2021-10-30 20:44:11--  https://storage.googleapis.com/laurencemoroney-blog.appspot.com/MLColabImages/dog1.jpg\n",
      "Resolving storage.googleapis.com... 142.250.181.240, 142.250.185.176, 172.217.16.144, ...\n",
      "Connecting to storage.googleapis.com|142.250.181.240|:443... connected.\n",
      "ERROR: cannot verify storage.googleapis.com's certificate, issued by `/C=US/O=Google Trust Services LLC/CN=GTS CA 1C3':\n",
      "  Unable to locally verify the issuer's authority.\n",
      "ERROR: certificate common name `*.storage.googleapis.com' doesn't match requested host name `storage.googleapis.com'.\n",
      "To connect to storage.googleapis.com insecurely, use `--no-check-certificate'.\n",
      "Unable to establish SSL connection.\n",
      "SYSTEM_WGETRC = c:/progra~1/wget/etc/wgetrc\n",
      "syswgetrc = C:\\Program Files (x86)\\GnuWin32/etc/wgetrc\n",
      "--2021-10-30 20:44:11--  https://storage.googleapis.com/laurencemoroney-blog.appspot.com/MLColabImages/dog2.jpg\n",
      "Resolving storage.googleapis.com... 142.250.181.240, 142.250.185.176, 172.217.16.144, ...\n",
      "Connecting to storage.googleapis.com|142.250.181.240|:443... connected.\n",
      "ERROR: cannot verify storage.googleapis.com's certificate, issued by `/C=US/O=Google Trust Services LLC/CN=GTS CA 1C3':\n",
      "  Unable to locally verify the issuer's authority.\n",
      "ERROR: certificate common name `*.storage.googleapis.com' doesn't match requested host name `storage.googleapis.com'.\n",
      "To connect to storage.googleapis.com insecurely, use `--no-check-certificate'.\n",
      "Unable to establish SSL connection.\n"
     ]
    }
   ],
   "source": [
    "!wget -O cat1.jpg https://storage.googleapis.com/laurencemoroney-blog.appspot.com/MLColabImages/cat1.jpg\n",
    "!wget -O cat2.jpg https://storage.googleapis.com/laurencemoroney-blog.appspot.com/MLColabImages/cat2.jpg\n",
    "!wget -O catanddog.jpg https://storage.googleapis.com/laurencemoroney-blog.appspot.com/MLColabImages/catanddog.jpg\n",
    "!wget -O dog1.jpg https://storage.googleapis.com/laurencemoroney-blog.appspot.com/MLColabImages/dog1.jpg\n",
    "!wget -O dog2.jpg https://storage.googleapis.com/laurencemoroney-blog.appspot.com/MLColabImages/dog2.jpg"
   ]
  },
  {
   "cell_type": "code",
   "execution_count": 9,
   "metadata": {},
   "outputs": [
    {
     "ename": "error",
     "evalue": "OpenCV(4.0.1) C:\\ci\\opencv-suite_1573470242804\\work\\modules\\imgproc\\src\\resize.cpp:3784: error: (-215:Assertion failed) !ssize.empty() in function 'cv::resize'\n",
     "output_type": "error",
     "traceback": [
      "\u001b[1;31m---------------------------------------------------------------------------\u001b[0m",
      "\u001b[1;31merror\u001b[0m                                     Traceback (most recent call last)",
      "\u001b[1;32m~\\AppData\\Local\\Temp/ipykernel_16736/1254258585.py\u001b[0m in \u001b[0;36m<module>\u001b[1;34m\u001b[0m\n\u001b[0;32m     17\u001b[0m   \u001b[0mshow_cam\u001b[0m\u001b[1;33m(\u001b[0m\u001b[0mtensor_image\u001b[0m\u001b[1;33m,\u001b[0m \u001b[0mfeatures\u001b[0m\u001b[1;33m,\u001b[0m \u001b[0mresults\u001b[0m\u001b[1;33m)\u001b[0m\u001b[1;33m\u001b[0m\u001b[1;33m\u001b[0m\u001b[0m\n\u001b[0;32m     18\u001b[0m \u001b[1;33m\u001b[0m\u001b[0m\n\u001b[1;32m---> 19\u001b[1;33m \u001b[0mconvert_and_classify\u001b[0m\u001b[1;33m(\u001b[0m\u001b[1;34m'cat1.jpg'\u001b[0m\u001b[1;33m)\u001b[0m\u001b[1;33m\u001b[0m\u001b[1;33m\u001b[0m\u001b[0m\n\u001b[0m\u001b[0;32m     20\u001b[0m \u001b[0mconvert_and_classify\u001b[0m\u001b[1;33m(\u001b[0m\u001b[1;34m'cat2.jpg'\u001b[0m\u001b[1;33m)\u001b[0m\u001b[1;33m\u001b[0m\u001b[1;33m\u001b[0m\u001b[0m\n\u001b[0;32m     21\u001b[0m \u001b[0mconvert_and_classify\u001b[0m\u001b[1;33m(\u001b[0m\u001b[1;34m'catanddog.jpg'\u001b[0m\u001b[1;33m)\u001b[0m\u001b[1;33m\u001b[0m\u001b[1;33m\u001b[0m\u001b[0m\n",
      "\u001b[1;32m~\\AppData\\Local\\Temp/ipykernel_16736/1254258585.py\u001b[0m in \u001b[0;36mconvert_and_classify\u001b[1;34m(image)\u001b[0m\n\u001b[0;32m      6\u001b[0m \u001b[1;33m\u001b[0m\u001b[0m\n\u001b[0;32m      7\u001b[0m   \u001b[1;31m# preprocess the image before feeding it to the model\u001b[0m\u001b[1;33m\u001b[0m\u001b[1;33m\u001b[0m\u001b[1;33m\u001b[0m\u001b[0m\n\u001b[1;32m----> 8\u001b[1;33m   \u001b[0mimg\u001b[0m \u001b[1;33m=\u001b[0m \u001b[0mcv2\u001b[0m\u001b[1;33m.\u001b[0m\u001b[0mresize\u001b[0m\u001b[1;33m(\u001b[0m\u001b[0mimg\u001b[0m\u001b[1;33m,\u001b[0m \u001b[1;33m(\u001b[0m\u001b[1;36m300\u001b[0m\u001b[1;33m,\u001b[0m\u001b[1;36m300\u001b[0m\u001b[1;33m)\u001b[0m\u001b[1;33m)\u001b[0m \u001b[1;33m/\u001b[0m \u001b[1;36m255.0\u001b[0m\u001b[1;33m\u001b[0m\u001b[1;33m\u001b[0m\u001b[0m\n\u001b[0m\u001b[0;32m      9\u001b[0m \u001b[1;33m\u001b[0m\u001b[0m\n\u001b[0;32m     10\u001b[0m   \u001b[1;31m# add a batch dimension because the model expects it\u001b[0m\u001b[1;33m\u001b[0m\u001b[1;33m\u001b[0m\u001b[1;33m\u001b[0m\u001b[0m\n",
      "\u001b[1;31merror\u001b[0m: OpenCV(4.0.1) C:\\ci\\opencv-suite_1573470242804\\work\\modules\\imgproc\\src\\resize.cpp:3784: error: (-215:Assertion failed) !ssize.empty() in function 'cv::resize'\n"
     ]
    }
   ],
   "source": [
    "# utility function to preprocess an image and show the CAM\n",
    "def convert_and_classify(image):\n",
    "\n",
    "  # load the image\n",
    "  img = cv2.imread(image)\n",
    "\n",
    "  # preprocess the image before feeding it to the model\n",
    "  img = cv2.resize(img, (300,300)) / 255.0\n",
    "\n",
    "  # add a batch dimension because the model expects it\n",
    "  tensor_image = np.expand_dims(img, axis=0)\n",
    "\n",
    "  # get the features and prediction\n",
    "  features,results = cam_model.predict(tensor_image)\n",
    "  \n",
    "  # generate the CAM\n",
    "  show_cam(tensor_image, features, results)\n",
    "\n",
    "convert_and_classify('cat1.jpg')\n",
    "convert_and_classify('cat2.jpg')\n",
    "convert_and_classify('catanddog.jpg')\n",
    "convert_and_classify('dog1.jpg')\n",
    "convert_and_classify('dog2.jpg')"
   ]
  },
  {
   "cell_type": "code",
   "execution_count": null,
   "metadata": {},
   "outputs": [],
   "source": [
    "# preprocess the test images\n",
    "augmented_test_data = test_data.map(augment_images)\n",
    "test_batches = augmented_test_data.batch(1)\n",
    "\n",
    "\n",
    "for img, lbl in test_batches.take(5):\n",
    "  print(f\"ground truth: {'dog' if lbl else 'cat'}\")\n",
    "  features,results = cam_model.predict(img)\n",
    "  show_cam(img, features, results)"
   ]
  },
  {
   "cell_type": "code",
   "execution_count": null,
   "metadata": {},
   "outputs": [],
   "source": []
  }
 ],
 "metadata": {
  "kernelspec": {
   "display_name": "test",
   "language": "python",
   "name": "test"
  },
  "language_info": {
   "codemirror_mode": {
    "name": "ipython",
    "version": 3
   },
   "file_extension": ".py",
   "mimetype": "text/x-python",
   "name": "python",
   "nbconvert_exporter": "python",
   "pygments_lexer": "ipython3",
   "version": "3.8.11"
  }
 },
 "nbformat": 4,
 "nbformat_minor": 2
}
